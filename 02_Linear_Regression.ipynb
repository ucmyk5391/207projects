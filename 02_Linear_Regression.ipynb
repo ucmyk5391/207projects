{
 "cells": [
  {
   "cell_type": "markdown",
   "metadata": {
    "id": "rHLcriKWLRe4"
   },
   "source": [
    "# Assignement 2"
   ]
  },
  {
   "cell_type": "markdown",
   "metadata": {},
   "source": [
    "### <span style=\"color:chocolate\"> Submission requirements </span>\n",
    "\n",
    "Your homework will not be graded if your notebook doesn't include output. In other words, <span style=\"color:red\"> make sure to rerun your notebook before submitting to Gradescope </span> (Note: if you are using Google Colab: go to Edit > Notebook Settings  and uncheck Omit code cell output when saving this notebook, otherwise the output is not printed).\n",
    "\n",
    "Additional points may be deducted if these requirements are not met:\n",
    "\n",
    "    \n",
    "* Comment your code;\n",
    "* Each graph should have a title, labels for each axis, and (if needed) a legend. Each graph should be understandable on its own;\n",
    "* Try and minimize the use of the global namespace (meaning, keep things inside functions).\n",
    "---"
   ]
  },
  {
   "cell_type": "markdown",
   "metadata": {},
   "source": [
    "### Import libraries"
   ]
  },
  {
   "cell_type": "code",
   "execution_count": 1,
   "metadata": {
    "id": "7X58hOMTUH-w"
   },
   "outputs": [],
   "source": [
    "import numpy as np\n",
    "from sklearn.model_selection import train_test_split\n",
    "from sklearn.metrics import mean_squared_error\n",
    "import matplotlib.pyplot as plt"
   ]
  },
  {
   "cell_type": "markdown",
   "metadata": {},
   "source": [
    "### Define functions"
   ]
  },
  {
   "cell_type": "code",
   "execution_count": 43,
   "metadata": {},
   "outputs": [],
   "source": [
    "def create_1d_data(num_examples, w, b, bound):\n",
    "  \"\"\"Create X, Y data with a linear relationship with added noise.\n",
    "\n",
    "  Args:\n",
    "    num_examples: number of examples to generate\n",
    "    w: desired slope\n",
    "    b: desired intercept\n",
    "    bound: lower and upper boundary of the data interval\n",
    "\n",
    "  Returns:\n",
    "    X and Y with shape (num_examples)\n",
    "  \"\"\"\n",
    "  np.random.seed(4)  # consistent random number generation\n",
    "  X = np.arange(num_examples)\n",
    "  deltas = np.random.uniform(low=-bound, high=bound, size=X.shape) # added noise\n",
    "  Y = b + deltas + w * X\n",
    "\n",
    "  return X, Y"
   ]
  },
  {
   "cell_type": "markdown",
   "metadata": {},
   "source": [
    "---\n",
    "### Step 1: Data ingestion"
   ]
  },
  {
   "cell_type": "markdown",
   "metadata": {},
   "source": [
    "Let's start by creating some artificial data using the <span style=\"color:chocolate\">create_1d_data()</span> function defined at the top of the notebook."
   ]
  },
  {
   "cell_type": "code",
   "execution_count": 44,
   "metadata": {
    "id": "6qJg0IiYVJ8U"
   },
   "outputs": [
    {
     "name": "stdout",
     "output_type": "stream",
     "text": [
      "[ 0  1  2  3  4  5  6  7  8  9 10 11 12 13 14 15 16 17 18 19 20 21 22 23\n",
      " 24 25 26 27 28 29 30 31 32 33 34 35 36 37 38 39 40 41 42 43 44 45 46 47\n",
      " 48 49 50 51 52 53 54 55 56 57 58 59 60 61 62 63 64 65 66 67 68 69]\n",
      "[  1.93405968   3.0944645    5.94536872   7.42963199   9.39545765\n",
      "  10.43217899  13.95254891  14.01246051  16.50596472  18.86958306\n",
      "  21.55876584  22.39537015  25.72598647  27.96680135  28.32768448\n",
      "  31.19466789  32.0179722   34.77314257  36.08832012  39.91330594\n",
      "  40.87229329  43.89795461  45.57261197  47.7325786   48.34633084\n",
      "  50.14989717  53.20148544  54.33594437  57.46676034  58.81688772\n",
      "  61.05581765  63.87514317  65.04339224  66.21638677  68.31644681\n",
      "  71.0904053   73.04880816  75.27522049  76.80299089  79.29961022\n",
      "  80.79380001  83.24783223  85.53480993  86.35794782  88.75115154\n",
      "  91.00506612  93.37333416  94.5073593   97.10948173  99.24986169\n",
      " 101.79100233 102.72570718 105.27511415 106.3828928  108.99558823\n",
      " 110.36489081 113.83676608 114.86364414 117.6603762  118.83355261\n",
      " 121.80933518 122.80965043 124.66234901 127.14427754 129.6908873\n",
      " 131.72202862 133.19137623 134.16932322 137.19453321 138.49090742]\n",
      "Printing shape of X: (70,)\n",
      "Printing first 10 elements in X: [0 1 2 3 4 5 6 7 8 9]\n",
      "\n",
      "Printing shape of Y: (70,)\n",
      "Printing first 10 elements in Y: [ 1.93405968  3.0944645   5.94536872  7.42963199  9.39545765 10.43217899\n",
      " 13.95254891 14.01246051 16.50596472 18.86958306]\n"
     ]
    }
   ],
   "source": [
    "# Define parameters\n",
    "num_examples = 70\n",
    "w = 2\n",
    "b = 1\n",
    "bound = 1\n",
    "\n",
    "# Create data\n",
    "X, Y = create_1d_data(num_examples, w, b, bound)\n",
    "\n",
    "print(X)\n",
    "print(Y)\n",
    "\n",
    "# Print shapes\n",
    "print('Printing shape of X:', X.shape)\n",
    "print('Printing first 10 elements in X:', X[:10])\n",
    "print('\\nPrinting shape of Y:', Y.shape)\n",
    "print('Printing first 10 elements in Y:', Y[:10])"
   ]
  },
  {
   "cell_type": "markdown",
   "metadata": {
    "id": "8NXo1n9j1LMT"
   },
   "source": [
    "---\n",
    "### Step 2: Data Preprocessing"
   ]
  },
  {
   "cell_type": "markdown",
   "metadata": {},
   "source": [
    "Our objectives here involve adding one more feature to X and creating data partitions."
   ]
  },
  {
   "cell_type": "markdown",
   "metadata": {},
   "source": [
    "### <span style=\"color:chocolate\">Exercise 1:</span> Adding features (10 points)"
   ]
  },
  {
   "cell_type": "markdown",
   "metadata": {},
   "source": [
    "1. Add a column of $1s$ to $X$ (this will serve as an intercept or \"bias\" in our modeling task later on). Note: do not create a new array, just concatenate with the current values;\n",
    "2. Print the shape of the array."
   ]
  },
  {
   "cell_type": "code",
   "execution_count": 55,
   "metadata": {},
   "outputs": [
    {
     "name": "stdout",
     "output_type": "stream",
     "text": [
      "70\n",
      "[[0]\n",
      " [1]\n",
      " [2]\n",
      " [3]\n",
      " [4]\n",
      " [5]\n",
      " [6]\n",
      " [7]\n",
      " [8]\n",
      " [9]]\n",
      "[[1. 0.]\n",
      " [1. 1.]\n",
      " [1. 2.]\n",
      " [1. 3.]\n",
      " [1. 4.]\n",
      " [1. 5.]\n",
      " [1. 6.]\n",
      " [1. 7.]\n",
      " [1. 8.]\n",
      " [1. 9.]]\n",
      "Shape of X with bias column: (70, 2)\n",
      "\n",
      "First 10 rows of X with bias column:\n",
      " [[1. 0.]\n",
      " [1. 1.]\n",
      " [1. 2.]\n",
      " [1. 3.]\n",
      " [1. 4.]\n",
      " [1. 5.]\n",
      " [1. 6.]\n",
      " [1. 7.]\n",
      " [1. 8.]\n",
      " [1. 9.]]\n"
     ]
    }
   ],
   "source": [
    "# YOUR CODE HERE\n",
    "import numpy as np\n",
    "\n",
    "def add_bias_column(X):\n",
    "    # Reshape X to 2D array with shape (num_examples, 1)\n",
    "    X = X.reshape(-1, 1)\n",
    "    # Concatenate a column of 1s\n",
    "    print(X.shape[0])\n",
    "    print(X[:10])\n",
    "    X_new = np.c_[np.ones(X.shape[0]), X]\n",
    "    # [70,] [70, 1]\n",
    "    \n",
    "    return X_new\n",
    "\n",
    "# Add the bias column to X\n",
    "X_with_bias = add_bias_column(X)\n",
    "print(X_with_bias[:10])\n",
    "\n",
    "# Print the shape of the new array\n",
    "print('Shape of X with bias column:', X_with_bias.shape)\n",
    "\n",
    "# Print the first 10 rows of X_with_bias to verify\n",
    "print('\\nFirst 10 rows of X with bias column:\\n', X_with_bias[:10])"
   ]
  },
  {
   "cell_type": "markdown",
   "metadata": {},
   "source": [
    "### <span style=\"color:chocolate\">Exercise 2:</span> Data splits (10 points)"
   ]
  },
  {
   "cell_type": "markdown",
   "metadata": {},
   "source": [
    "Using the <span style=\"color:chocolate\">train_test_split()</span> method available in scikit-learn:\n",
    "1. Split the (X,Y) data into training and test paritions by setting test_size=0.2 and random_state=1234. All the other arguments of the method are set to default values. Name the resulting arrays X_train, X_test, Y_train, Y_test;\n",
    "2. Print the shape of each array."
   ]
  },
  {
   "cell_type": "code",
   "execution_count": 15,
   "metadata": {},
   "outputs": [
    {
     "name": "stdout",
     "output_type": "stream",
     "text": [
      "Shape of X_train: (56, 2)\n",
      "Shape of X_test: (14, 2)\n",
      "Shape of Y_train: (56,)\n",
      "Shape of Y_test: (14,)\n"
     ]
    }
   ],
   "source": [
    "# YOUR CODE HERE\n",
    "# Using train_test_split to split the data into training and test sets\n",
    "X_train, X_test, Y_train, Y_test = train_test_split(X_with_bias, Y, test_size=0.2, random_state=1234)\n",
    "\n",
    "# Printing the shape of each array\n",
    "print(\"Shape of X_train:\", X_train.shape)\n",
    "print(\"Shape of X_test:\", X_test.shape)\n",
    "print(\"Shape of Y_train:\", Y_train.shape)\n",
    "print(\"Shape of Y_test:\", Y_test.shape)"
   ]
  },
  {
   "cell_type": "markdown",
   "metadata": {},
   "source": [
    "---\n",
    "### Step 3: Exploratory data analysis (EDA)"
   ]
  },
  {
   "cell_type": "markdown",
   "metadata": {},
   "source": [
    "### <span style=\"color:chocolate\">Exercise 3:</span> Plots (10 points)"
   ]
  },
  {
   "cell_type": "markdown",
   "metadata": {},
   "source": [
    "Create a side-by-side histogram for the values in Y_train and X_train. Make sure to include axes name and titles for each subplot."
   ]
  },
  {
   "cell_type": "code",
   "execution_count": 20,
   "metadata": {},
   "outputs": [
    {
     "data": {
      "image/png": "[encoded data removed]",
      "text/plain": [
       "<Figure size 1200x500 with 2 Axes>"
      ]
     },
     "metadata": {},
     "output_type": "display_data"
    }
   ],
   "source": [
    "# YOUR CODE HERE\n",
    "# Create a figure with two subplots side by side\n",
    "plt.figure(figsize=(12, 5))\n",
    "\n",
    "# Plot histogram for Y_train on the left\n",
    "plt.subplot(1, 2, 1)\n",
    "plt.hist(Y_train, color='blue')\n",
    "plt.title('Histogram of Y_train')\n",
    "plt.xlabel('Y values')\n",
    "plt.ylabel('Frequency')\n",
    "\n",
    "# Plot histogram for X_train (second column) on the right\n",
    "plt.subplot(1, 2, 2)\n",
    "plt.hist(X_train[:, 1], color='green')\n",
    "plt.title('Histogram of X_train (Feature)')\n",
    "plt.xlabel('X values')\n",
    "plt.ylabel('Frequency')\n",
    "\n",
    "# Show the plots\n",
    "plt.tight_layout()  # Adjusts the layout so the subplots do not overlap\n",
    "plt.show()"
   ]
  },
  {
   "cell_type": "markdown",
   "metadata": {},
   "source": [
    "---\n",
    "### Step 4: Modeling"
   ]
  },
  {
   "cell_type": "markdown",
   "metadata": {},
   "source": [
    "Let's start by considering the two models proposed in Assignment 1:\n",
    "1. $M_1(x) = 5+x$ \n",
    "2. $M_2(x) = 1+2x$"
   ]
  },
  {
   "cell_type": "markdown",
   "metadata": {},
   "source": [
    "### <span style=\"color:chocolate\">Exercise 4:</span> Practice with Parameters (10 points)"
   ]
  },
  {
   "cell_type": "markdown",
   "metadata": {},
   "source": [
    "Perform the following computations:\n",
    "\n",
    "1. Use matrix multiplication (np.dot) to create $M_1$ and $M_2$ (as previously defined) to produce vectors of predictions using the X_train data. Call these predictions M1_hat_train, M2_hat_train. Hint: the \"learned\" parameters are alredy provided to you;\n",
    "3. Print the shapes of the predictions to verify that they match the shape of Y_train."
   ]
  },
  {
   "cell_type": "code",
   "execution_count": 68,
   "metadata": {
    "id": "aBEZ_QOX6qOi"
   },
   "outputs": [
    {
     "name": "stdout",
     "output_type": "stream",
     "text": [
      "[[ 1. 50.]\n",
      " [ 1. 65.]\n",
      " [ 1. 21.]\n",
      " [ 1. 52.]\n",
      " [ 1. 45.]\n",
      " [ 1. 40.]\n",
      " [ 1. 13.]\n",
      " [ 1. 67.]\n",
      " [ 1. 27.]\n",
      " [ 1. 58.]]\n",
      "(56, 2)\n",
      "[5 1]\n",
      "(2,)\n",
      "[55. 70. 26. 57. 50. 45. 18. 72. 32. 63.]\n",
      "Shape of M1_hat_train: (56,)\n",
      "Shape of M2_hat_train: (56,)\n",
      "Shape of Y_train: (56,)\n",
      "\n",
      "First 5 predictions for M1: [55. 70. 26. 57. 50.]\n",
      "First 5 predictions for M2: [101. 131.  43. 105.  91.]\n"
     ]
    }
   ],
   "source": [
    "# YOUR CODE HERE\n",
    "import numpy as np\n",
    "\n",
    "# Define the parameters (weights) for M1 and M2\n",
    "# M1: 5 + x -> [5, 1] (where 5 is the intercept, 1 is the coefficient for x)\n",
    "# M2: 1 + 2x -> [1, 2] (where 1 is the intercept, 2 is the coefficient for x)\n",
    "weights_M1 = np.array([5, 1])\n",
    "weights_M2 = np.array([1, 2])\n",
    "\n",
    "print(X_train[:10])\n",
    "print(X_train.shape)\n",
    "print(weights_M1)\n",
    "print(weights_M1.shape)\n",
    "\n",
    "# Use np.dot for matrix multiplication to calculate the predictions\n",
    "# X_train contains two columns: the first is bias (1s) and the second is the actual feature values\n",
    "M1_hat_train = np.dot(X_train, weights_M1)\n",
    "M2_hat_train = np.dot(X_train, weights_M2)\n",
    "\n",
    "#print(X_train[:10])\n",
    "#print(weights_M1)\n",
    "print(M1_hat_train[:10])\n",
    "\n",
    "# Print the shapes of the predictions and compare them with Y_train\n",
    "print('Shape of M1_hat_train:', M1_hat_train.shape)\n",
    "print('Shape of M2_hat_train:', M2_hat_train.shape)\n",
    "print('Shape of Y_train:', Y_train.shape)\n",
    "\n",
    "# Optionally print the first few predictions to verify the results\n",
    "print('\\nFirst 5 predictions for M1:', M1_hat_train[:5])\n",
    "print('First 5 predictions for M2:', M2_hat_train[:5])\n",
    "\n"
   ]
  },
  {
   "cell_type": "markdown",
   "metadata": {},
   "source": [
    "### <span style=\"color:chocolate\">Exercise 5:</span> Learn parameters with Gradient Descent (20 points)"
   ]
  },
  {
   "cell_type": "markdown",
   "metadata": {
    "id": "QaXYiTm9ftRf"
   },
   "source": [
    "1. Fill in the <span style=\"color:green\">NotImplemented</span> parts of the <span style=\"color:chocolate\">gradient_descent()</span> function below. Hint: refer to ``02 Linear Regression_helper.ipynb file``;\n",
    "\n",
    "2. Run this function with our artificial (X_train, Y_train) data . Set learning_rate = .0002 and num_epochs = 5. Print out the weights and loss after each epoch. \n",
    "\n",
    "3. Generate a plot with the loss values on the y-axis and the epoch number on the x-axis for visualization. Make sure to include axes name and title."
   ]
  },
  {
   "cell_type": "code",
   "execution_count": 90,
   "metadata": {
    "id": "_hP9rzDyFXTg"
   },
   "outputs": [],
   "source": [
    "def gradient_descent(inputs, outputs, learning_rate, num_epochs):\n",
    "  \"\"\"Apply the gradient descent algorithm to learn learn linear regression.\n",
    "\n",
    "  Args:\n",
    "    inputs: A 2-D array where each column is an input feature and each\n",
    "            row is a training example.\n",
    "    outputs: A 1-D array containing the real-valued\n",
    "             label corresponding to the input data in the same row.\n",
    "    learning_rate: The learning rate to use for updates.\n",
    "    num_epochs: The number of passes through the full training data.\n",
    "\n",
    "  Returns:\n",
    "    weights: A 2-D array with the learned weights after each training epoch.\n",
    "    losses: A 1-D array with the loss after each epoch.\n",
    "  \"\"\"\n",
    "  # m = number of examples, n = number of features\n",
    "  m, n = inputs.shape\n",
    "  \n",
    "  # We'll use a vector of size n to store the learned weights and initialize\n",
    "  # all weights to 1. \n",
    "  W = np.ones(n)\n",
    "  \n",
    "  # Keep track of the training loss and weights after each step.\n",
    "  losses = []\n",
    "  weights = []\n",
    "  \n",
    "  for epoch in range(num_epochs):\n",
    "    # Append the old weights to the weights list to keep track of them.\n",
    "    weights.append(W)\n",
    "\n",
    "    # Evaluate the current predictions for the training examples given\n",
    "    # the current estimate of W. \n",
    "    # predictions = NotImplemented\n",
    "    predictions = np.dot(inputs, W)\n",
    "    #print(inputs[:10])\n",
    "    #print(predictions[:10])\n",
    "    \n",
    "    # Find the difference between the predictions and the actual target\n",
    "    # values.\n",
    "    # diff = NotImplemented\n",
    "    diff = predictions - outputs\n",
    "    #print(diff)\n",
    "\n",
    "    # In standard linear regression, we want to minimize the sum of squared\n",
    "    # differences. Compute the mean squared error loss. Don't bother with the\n",
    "    # 1/2 scaling factor here.\n",
    "    # loss = NotImplemented\n",
    "    loss = np.mean(diff ** 2)\n",
    "    #print(loss)\n",
    "\n",
    "    # Append the loss to the losses list to keep a track of it.\n",
    "    losses.append(loss)\n",
    "    #print(losses)\n",
    "    \n",
    "    # Compute the gradient with respect to the loss.\n",
    "    # [Formula (4) in the Gradient Descent Implementation]\n",
    "    # gradient = NotImplemented\n",
    "    gradient = (2/m) * np.dot(inputs.T, diff)\n",
    "\n",
    "    # Update weights, scaling the gradient by the learning rate.\n",
    "    W = W - learning_rate * gradient\n",
    "\n",
    "    # Print weights and loss for each epoch\n",
    "    print(f\"Epoch {epoch+1}/{num_epochs}: Weights = {W}, Loss = {loss}\")\n",
    "      \n",
    "  return np.array(weights), np.array(losses)"
   ]
  },
  {
   "cell_type": "code",
   "execution_count": 92,
   "metadata": {},
   "outputs": [
    {
     "name": "stdout",
     "output_type": "stream",
     "text": [
      "Epoch 1/5: Weights = [1.01418788 1.66525772], Loss = 1665.3666608648086\n",
      "Epoch 2/5: Weights = [1.01895194 1.88825083], Loss = 187.40513955606463\n",
      "Epoch 3/5: Weights = [1.02055715 1.96299757], Loss = 21.344447859595864\n",
      "Epoch 4/5: Weights = [1.02110352 1.98805237], Loss = 2.686212284426659\n",
      "Epoch 5/5: Weights = [1.02129496 1.99645053], Loss = 0.5898109426970056\n"
     ]
    },
    {
     "data": {
      "image/png": "[encoded data removed]",
      "text/plain": [
       "<Figure size 640x480 with 1 Axes>"
      ]
     },
     "metadata": {},
     "output_type": "display_data"
    }
   ],
   "source": [
    "# YOUR CODE HERE\n",
    "learning_rate = 0.0002\n",
    "num_epochs = 5\n",
    "\n",
    "# Perform gradient descent on the training data\n",
    "weights, losses = gradient_descent(X_train, Y_train, learning_rate, num_epochs)\n",
    "\n",
    "# Plotting the loss vs. epoch\n",
    "plt.plot(range(1, num_epochs + 1), losses, marker='o', color='blue')\n",
    "plt.title('Loss vs Epochs')\n",
    "plt.xlabel('Epochs')\n",
    "plt.ylabel('Loss')\n",
    "plt.show()"
   ]
  },
  {
   "cell_type": "markdown",
   "metadata": {},
   "source": [
    "---\n",
    "### Step 5: Hyperparameter tuning"
   ]
  },
  {
   "cell_type": "markdown",
   "metadata": {},
   "source": [
    "Hyperparameter tuning plays an important role in optimizing ML models. One systematically adjusts hyperparameters to find the right balance between model complexity and generalization, ultimately leading to better predictive performance and model effectiveness.\n",
    "\n",
    "Note that hyperparameter tuning is typically performed on **a separate validation dataset**. However, for the purposes of this assignment and based on the ML knowledge you've acquired thus far, we will perform hyperparameter tuning directly on the training data."
   ]
  },
  {
   "cell_type": "markdown",
   "metadata": {},
   "source": [
    "### <span style=\"color:chocolate\">Exercise 6:</span> Tuning hyperparameters (10 points)"
   ]
  },
  {
   "cell_type": "markdown",
   "metadata": {},
   "source": [
    "Answer the following questions:\n",
    "    \n",
    "1. Do you think it would be beneficial to extend the model training in Exercise 5 by increasing the learning rate to 0.02? Justify your answer;\n",
    "\n",
    "2. Restoring to the previous learning_rate = .0002, would you  consider extending the model training in Exercise 5 by increasing the number of epochs to 10? Justify your answer.\n",
    "\n",
    "Note: to support your answers, we recommend the following actions:\n",
    "- create side-by-side subplots to show the loss at each epoch (make sure to include axes name and title), and\n",
    "- print the loss at the last epoch under the following scenarios:\n",
    "    - learning_rate=.0002, num_epochs=5;\n",
    "    - learning_rate=.02, num_epochs=5;\n",
    "    - learning_rate=.0002, num_epochs=10."
   ]
  },
  {
   "cell_type": "code",
   "execution_count": 31,
   "metadata": {},
   "outputs": [
    {
     "name": "stdout",
     "output_type": "stream",
     "text": [
      "Epoch 1/5: Weights = [1.01418788 1.66525772], Loss = 1665.3666608648086\n",
      "Epoch 2/5: Weights = [1.01895194 1.88825083], Loss = 187.40513955606463\n",
      "Epoch 3/5: Weights = [1.02055715 1.96299757], Loss = 21.344447859595864\n",
      "Epoch 4/5: Weights = [1.02110352 1.98805237], Loss = 2.686212284426659\n",
      "Epoch 5/5: Weights = [1.02129496 1.99645053], Loss = 0.5898109426970056\n",
      "Epoch 1/5: Weights = [ 2.41878839 67.5257721 ], Loss = 1665.3666608648086\n",
      "Epoch 2/5: Weights = [  -90.4006607  -4288.59461095], Loss = 7139122.1589806825\n",
      "Epoch 3/5: Weights = [  5987.51452476 280950.89027965], Loss = 30610071189.148193\n",
      "Epoch 4/5: Weights = [  -391995.3005066  -18396577.98716515], Loss = 131245337997012.45\n",
      "Epoch 5/5: Weights = [2.56679857e+07 1.20461112e+09], Loss = 5.6273435758094995e+17\n",
      "Epoch 1/10: Weights = [1.01418788 1.66525772], Loss = 1665.3666608648086\n",
      "Epoch 2/10: Weights = [1.01895194 1.88825083], Loss = 187.40513955606463\n",
      "Epoch 3/10: Weights = [1.02055715 1.96299757], Loss = 21.344447859595864\n",
      "Epoch 4/10: Weights = [1.02110352 1.98805237], Loss = 2.686212284426659\n",
      "Epoch 5/10: Weights = [1.02129496 1.99645053], Loss = 0.5898109426970056\n",
      "Epoch 6/10: Weights = [1.02136744 1.9992654 ], Loss = 0.3542629436554315\n",
      "Epoch 7/10: Weights = [1.02140003 2.00020876], Loss = 0.32779656662430195\n",
      "Epoch 8/10: Weights = [1.02141926 2.0005248 ], Loss = 0.324822167109412\n",
      "Epoch 9/10: Weights = [1.021434   2.00063055], Loss = 0.324487277598242\n",
      "Epoch 10/10: Weights = [1.02144724 2.00066583], Loss = 0.3244489580924435\n"
     ]
    },
    {
     "data": {
      "image/png": "[encoded data removed]",
      "text/plain": [
       "<Figure size 1500x500 with 3 Axes>"
      ]
     },
     "metadata": {},
     "output_type": "display_data"
    },
    {
     "name": "stdout",
     "output_type": "stream",
     "text": [
      "Final loss for learning_rate=0.0002, num_epochs=5: 0.5898109426970056\n",
      "Final loss for learning_rate=0.02, num_epochs=5: 5.6273435758094995e+17\n",
      "Final loss for learning_rate=0.0002, num_epochs=10: 0.3244489580924435\n"
     ]
    }
   ],
   "source": [
    "# YOUR CODE HERE\n",
    "# Function to run gradient descent with specified hyperparameters\n",
    "def run_gradient_descent(learning_rate, num_epochs):\n",
    "    weights, losses = gradient_descent(X_train, Y_train, learning_rate, num_epochs)\n",
    "    return losses\n",
    "\n",
    "# Run gradient descent with the three specified hyperparameter settings\n",
    "losses_1 = run_gradient_descent(learning_rate=0.0002, num_epochs=5)   # Case 1\n",
    "losses_2 = run_gradient_descent(learning_rate=0.02, num_epochs=5)     # Case 2\n",
    "losses_3 = run_gradient_descent(learning_rate=0.0002, num_epochs=10)  # Case 3\n",
    "\n",
    "# Plot side-by-side subplots to compare the losses\n",
    "plt.figure(figsize=(15, 5))\n",
    "\n",
    "# Plot for learning_rate=0.0002, num_epochs=5\n",
    "plt.subplot(1, 3, 1)\n",
    "plt.plot(range(1, 6), losses_1, marker='o', color='blue')\n",
    "plt.title('Learning rate = 0.0002, Epochs = 5')\n",
    "plt.xlabel('Epochs')\n",
    "plt.ylabel('Loss')\n",
    "\n",
    "# Plot for learning_rate=0.02, num_epochs=5\n",
    "plt.subplot(1, 3, 2)\n",
    "plt.plot(range(1, 6), losses_2, marker='o', color='red')\n",
    "plt.title('Learning rate = 0.02, Epochs = 5')\n",
    "plt.xlabel('Epochs')\n",
    "plt.ylabel('Loss')\n",
    "\n",
    "# Plot for learning_rate=0.0002, num_epochs=10\n",
    "plt.subplot(1, 3, 3)\n",
    "plt.plot(range(1, 11), losses_3, marker='o', color='green')\n",
    "plt.title('Learning rate = 0.0002, Epochs = 10')\n",
    "plt.xlabel('Epochs')\n",
    "plt.ylabel('Loss')\n",
    "\n",
    "plt.tight_layout()\n",
    "plt.show()\n",
    "\n",
    "# Print the final loss for each scenario\n",
    "print(\"Final loss for learning_rate=0.0002, num_epochs=5:\", losses_1[-1])\n",
    "print(\"Final loss for learning_rate=0.02, num_epochs=5:\", losses_2[-1])\n",
    "print(\"Final loss for learning_rate=0.0002, num_epochs=10:\", losses_3[-1])"
   ]
  },
  {
   "cell_type": "markdown",
   "metadata": {},
   "source": [
    "Conclusions:\n",
    "1. If the loss for learning_rate=0.02 (Case 2) fluctuates or increases, it would indicate that the learning rate is too high, and it might not be beneficial to increase it to 0.02. If the loss stabilizes or decreases quickly, then it could be beneficial to speed up convergence.\n",
    "2. If the loss in learning_rate=0.0002, num_epochs=10 (Case 3) continues to decrease compared to the 5-epoch scenario, it suggests that increasing the number of epochs can further improve model performance, given the small learning rate."
   ]
  },
  {
   "cell_type": "markdown",
   "metadata": {},
   "source": [
    "### <span style=\"color:chocolate\">Exercise 7:</span> Choosing the best model (10 points)"
   ]
  },
  {
   "cell_type": "markdown",
   "metadata": {},
   "source": [
    "Write down the learned model that you consider most optimal given your answers to the hyperparameter tuning exercise. Call this model $M_3(x)$."
   ]
  },
  {
   "cell_type": "markdown",
   "metadata": {},
   "source": [
    "Given earlier observations, the most optimal model would be the one from Case 3 (learning_rate=0.0002, num_epochs=10). This model allows the gradient descent to steadily minimize the loss over more epochs while maintaining stability."
   ]
  },
  {
   "cell_type": "code",
   "execution_count": 35,
   "metadata": {},
   "outputs": [],
   "source": [
    "# YOUR ANSWER HERE\n",
    "# The final learned weights after 10 epochs\n",
    "final_weights = weights[-1]  # Take the weights from the last epoch\n",
    "\n",
    "# Extract the bias (W_0) and the coefficient for the feature (W_1)\n",
    "W_0 = final_weights[0]  # Intercept (bias term)\n",
    "W_1 = final_weights[1]  # Coefficient (slope)\n",
    "\n",
    "# Define the learned model M_3(x)\n",
    "def M_3(x):\n",
    "    return W_0 + W_1 * x"
   ]
  },
  {
   "cell_type": "markdown",
   "metadata": {},
   "source": [
    "---\n",
    "### Step 6: Evaluation and Generalization"
   ]
  },
  {
   "cell_type": "markdown",
   "metadata": {},
   "source": [
    "To evaluate our models, we assess their performance based on how closely they fit the available data. In other words, we compare the true value $y$ with the predicted value $\\hat{y}$ for each $x$."
   ]
  },
  {
   "cell_type": "markdown",
   "metadata": {},
   "source": [
    "### <span style=\"color:chocolate\">Exercise 8:</span> Computing MSE (10 points)"
   ]
  },
  {
   "cell_type": "markdown",
   "metadata": {},
   "source": [
    "Assess the performance of the three models ($M_1(x)$, $M_2(x)$, $M_3(x)$) by computing the MSE metric on the training dataset. Hint: you can use the <span style=\"color:chocolate\">mean_squared_error()</span> method available in sklearn.metrics."
   ]
  },
  {
   "cell_type": "code",
   "execution_count": 36,
   "metadata": {},
   "outputs": [
    {
     "name": "stdout",
     "output_type": "stream",
     "text": [
      "MSE for M_1(x) = 5 + x: 1397.608983658733\n",
      "MSE for M_2(x) = 1 + 2x: 0.3280557752885262\n",
      "MSE for M_3(x) (Learned model): 0.5898109426970056\n"
     ]
    }
   ],
   "source": [
    "# YOUR CODE HERE\n",
    "# Define the three models\n",
    "def M_1(x):\n",
    "    return 5 + x\n",
    "\n",
    "def M_2(x):\n",
    "    return 1 + 2 * x\n",
    "\n",
    "# Predictions for M1 and M2 using X_train (second column of X_train as feature values)\n",
    "M1_hat_train = M_1(X_train[:, 1])\n",
    "M2_hat_train = M_2(X_train[:, 1])\n",
    "\n",
    "# Predictions for M3 using the final learned model (already defined in the previous section)\n",
    "M3_hat_train = M_3(X_train[:, 1])\n",
    "\n",
    "# Compute MSE for each model\n",
    "mse_M1 = mean_squared_error(Y_train, M1_hat_train)\n",
    "mse_M2 = mean_squared_error(Y_train, M2_hat_train)\n",
    "mse_M3 = mean_squared_error(Y_train, M3_hat_train)\n",
    "\n",
    "# Print the MSE for each model\n",
    "print(f\"MSE for M_1(x) = 5 + x: {mse_M1}\")\n",
    "print(f\"MSE for M_2(x) = 1 + 2x: {mse_M2}\")\n",
    "print(f\"MSE for M_3(x) (Learned model): {mse_M3}\")"
   ]
  },
  {
   "cell_type": "markdown",
   "metadata": {},
   "source": [
    "### <span style=\"color:chocolate\">Exercise 9:</span> Generalization (10 points)"
   ]
  },
  {
   "cell_type": "markdown",
   "metadata": {},
   "source": [
    "Which of the three models ($M_1(x)$, $M_2(x)$, $M_3(x)$) demonstrates better generalization ability?"
   ]
  },
  {
   "cell_type": "markdown",
   "metadata": {},
   "source": [
    "Answer.\n",
    "\n",
    "M_3(x), the learned model, was trained to minimize the MSE on the training data, so it likely has the lowest training error. However, since M_3(x) was specifically optimized for the training data, there's a chance it might overfit, depending on how complex the model is compared to the underlying data pattern.\n",
    "\n",
    "Given the trade-offs and the risk of overfitting with M_3(x), M_2(x) is the model that I would choose for better generalization ability. It provides a good fit to the data while maintaining simplicity, which typically leads to more robust performance on unseen data."
   ]
  },
  {
   "cell_type": "markdown",
   "metadata": {},
   "source": [
    "----\n",
    "#### <span style=\"color:chocolate\">Additional practice question</span> (not graded)"
   ]
  },
  {
   "cell_type": "markdown",
   "metadata": {},
   "source": [
    "1. How does stochastic gradient descent (SGD) differ from the gradient descent (GD) approach implemented in Exercise 5?\n",
    "2. Determine the optimal weights for model $M_3(x)$ using SGD. Does SGD converge more rapidly? Explain the reasons for your answer."
   ]
  },
  {
   "cell_type": "markdown",
   "metadata": {},
   "source": [
    "Answer 1. \n",
    "\n",
    "The primary difference between Stochastic Gradient Descent (SGD) and Gradient Descent (GD) lies in how the gradient is computed and how frequently the model's weights are updated.\n",
    "\n",
    "In GD, the gradient of the loss function is computed using the entire training dataset. This means that after calculating the loss and gradient for all training examples, the weights are updated only once per epoch.\n",
    "\n",
    "In SGD, the gradient of the loss function is computed for each training example, and the weights are updated after each individual example. This means that the model’s weights are updated much more frequently."
   ]
  },
  {
   "cell_type": "markdown",
   "metadata": {},
   "source": [
    "Answer 2.\n",
    "\n",
    "In general, SGD often converges faster than full-batch Gradient Descent because it updates the weights after each example rather than waiting to process the entire dataset."
   ]
  },
  {
   "cell_type": "code",
   "execution_count": 38,
   "metadata": {},
   "outputs": [
    {
     "name": "stdout",
     "output_type": "stream",
     "text": [
      "Epoch 1/5, Loss: 1.0459734812041679, Weights: [1.03152057 2.02131804]\n",
      "Epoch 2/5, Loss: 0.40876395855443715, Weights: [1.03181604 1.99331185]\n",
      "Epoch 3/5, Loss: 0.3430795255737808, Weights: [1.03216664 2.00386144]\n",
      "Epoch 4/5, Loss: 0.3999388520734878, Weights: [1.03262004 2.00721632]\n",
      "Epoch 5/5, Loss: 0.5380829469724316, Weights: [1.03320106 2.01179177]\n"
     ]
    },
    {
     "data": {
      "image/png": "[encoded data removed]",
      "text/plain": [
       "<Figure size 640x480 with 1 Axes>"
      ]
     },
     "metadata": {},
     "output_type": "display_data"
    },
    {
     "name": "stdout",
     "output_type": "stream",
     "text": [
      "Final weights after SGD: [1.03320106 2.01179177]\n"
     ]
    }
   ],
   "source": [
    "# YOUR ANSWER HERE\n",
    "import numpy as np\n",
    "from sklearn.metrics import mean_squared_error\n",
    "\n",
    "def stochastic_gradient_descent(inputs, outputs, learning_rate, num_epochs):\n",
    "    \"\"\"Apply the stochastic gradient descent algorithm to learn linear regression.\n",
    "\n",
    "    Args:\n",
    "        inputs: A 2-D array where each column is an input feature and each row is a training example.\n",
    "        outputs: A 1-D array containing the real-valued label corresponding to the input data in the same row.\n",
    "        learning_rate: The learning rate to use for updates.\n",
    "        num_epochs: The number of passes through the full training data.\n",
    "\n",
    "    Returns:\n",
    "        W: The learned weights after training.\n",
    "        losses: A list with the loss after each epoch.\n",
    "    \"\"\"\n",
    "    # Initialize weights to 1s\n",
    "    m, n = inputs.shape\n",
    "    W = np.ones(n)\n",
    "\n",
    "    # Track the loss at each epoch\n",
    "    losses = []\n",
    "    \n",
    "    # Perform SGD for the specified number of epochs\n",
    "    for epoch in range(num_epochs):\n",
    "        # Shuffle the training data to improve convergence\n",
    "        indices = np.random.permutation(m)\n",
    "        inputs = inputs[indices]\n",
    "        outputs = outputs[indices]\n",
    "\n",
    "        for i in range(m):\n",
    "            xi = inputs[i:i+1]  # Single training example (1 row)\n",
    "            yi = outputs[i]     # Corresponding label\n",
    "            \n",
    "            # Make prediction for xi using current weights\n",
    "            prediction = np.dot(xi, W)\n",
    "            \n",
    "            # Compute the error\n",
    "            error = prediction - yi\n",
    "            \n",
    "            # Update the weights (W = W - learning_rate * gradient)\n",
    "            W = W - learning_rate * (2 * error * xi[0])\n",
    "        \n",
    "        # Compute and store the MSE loss for the current epoch\n",
    "        predictions = np.dot(inputs, W)\n",
    "        loss = mean_squared_error(outputs, predictions)\n",
    "        losses.append(loss)\n",
    "        print(f\"Epoch {epoch+1}/{num_epochs}, Loss: {loss}, Weights: {W}\")\n",
    "    \n",
    "    return W, losses\n",
    "\n",
    "# Set the learning rate and number of epochs\n",
    "learning_rate = 0.0002\n",
    "num_epochs = 5\n",
    "\n",
    "# Perform SGD on the training data\n",
    "sgd_weights, sgd_losses = stochastic_gradient_descent(X_train, Y_train, learning_rate, num_epochs)\n",
    "\n",
    "# Plot the loss over epochs for SGD\n",
    "plt.plot(range(1, num_epochs + 1), sgd_losses, marker='o', color='blue')\n",
    "plt.title('SGD Loss vs Epochs')\n",
    "plt.xlabel('Epochs')\n",
    "plt.ylabel('Loss')\n",
    "plt.grid(True)\n",
    "plt.show()\n",
    "\n",
    "# Print final weights and MSE after SGD\n",
    "print(f\"Final weights after SGD: {sgd_weights}\")\n"
   ]
  },
  {
   "cell_type": "markdown",
   "metadata": {},
   "source": [
    "Explanation:\n",
    "\n",
    "Shuffling the data: Before each epoch, the data is shuffled to prevent patterns in the data from affecting the learning process. This helps with convergence.\n",
    "\n",
    "Updating weights: For each individual example, we compute the prediction, calculate the error, and then update the weights immediately.\n",
    "\n",
    "Tracking the loss: After processing all examples in an epoch, we compute the mean squared error (MSE) and store it for visualization."
   ]
  }
 ],
 "metadata": {
  "accelerator": "GPU",
  "colab": {
   "collapsed_sections": [],
   "name": "02 Linear Regression.ipynb",
   "private_outputs": true,
   "provenance": [],
   "toc_visible": true
  },
  "kernelspec": {
   "display_name": "Python 3 (ipykernel)",
   "language": "python",
   "name": "python3"
  },
  "language_info": {
   "codemirror_mode": {
    "name": "ipython",
    "version": 3
   },
   "file_extension": ".py",
   "mimetype": "text/x-python",
   "name": "python",
   "nbconvert_exporter": "python",
   "pygments_lexer": "ipython3",
   "version": "3.12.6"
  }
 },
 "nbformat": 4,
 "nbformat_minor": 4
}
