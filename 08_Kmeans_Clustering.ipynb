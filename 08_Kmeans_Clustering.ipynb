{
 "cells": [
  {
   "cell_type": "markdown",
   "metadata": {},
   "source": [
    "# Assignment 8"
   ]
  },
  {
   "cell_type": "markdown",
   "metadata": {},
   "source": [
    "### <span style=\"color:chocolate\"> Submission requirements </span>\n",
    "\n",
    "Your work will not be graded if your notebook doesn't include output. In other words, <span style=\"color:red\"> make sure to rerun your notebook before submitting to Gradescope </span> (Note: if you are using Google Colab: go to Edit > Notebook Settings  and uncheck Omit code cell output when saving this notebook, otherwise the output is not printed).\n",
    "\n",
    "Additional points may be deducted if these requirements are not met:\n",
    "    \n",
    "* Comment your code;\n",
    "* Each graph should have a title, labels for each axis, and (if needed) a legend. Each graph should be understandable on its own;\n",
    "* Try and minimize the use of the global namespace (meaning, keep things inside functions).\n",
    "\n",
    "---"
   ]
  },
  {
   "cell_type": "markdown",
   "metadata": {},
   "source": [
    "#### ``Objectives``\n",
    "1. Implement K-means clustering"
   ]
  },
  {
   "cell_type": "markdown",
   "metadata": {},
   "source": [
    "#### ``Motivation``\n",
    "\n",
    "[The RGB color model](https://en.wikipedia.org/wiki/RGB_color_model) is an additive color model in which the red, green, and blue primary colors of light are added together in various ways to reproduce a broad array of colors. \n",
    "\n",
    "There are plenty of RGB-to-color converters on the web \n",
    "https://www.rapidtables.com/convert/color/rgb-to-hex.html\n",
    "\n",
    "These two RGB triples look almost identical to the human eye:\n",
    "- [0, 0, 255]\n",
    "- [0, 1, 255]\n",
    "\n",
    "However there is no \"reverse lookup\" that tells you that \"this color is close to blue\" unless it is a [basic](https://en.wikipedia.org/wiki/Web_colors#Basic_colors) or [extended](https://en.wikipedia.org/wiki/Web_colors#Extended_colors) color with a specified RGB value."
   ]
  },
  {
   "cell_type": "markdown",
   "metadata": {},
   "source": [
    "#### ``Data``\n",
    "\n",
    "For this assignment you are provided a file with RGB triples."
   ]
  },
  {
   "cell_type": "markdown",
   "metadata": {},
   "source": [
    "### Import libraries"
   ]
  },
  {
   "cell_type": "code",
   "execution_count": null,
   "metadata": {},
   "outputs": [],
   "source": [
    "import pandas\n",
    "import numpy as np\n",
    "import matplotlib.pyplot as plt\n",
    "from mpl_toolkits.mplot3d import Axes3D\n",
    "from sklearn.cluster import KMeans\n",
    "import sys\n",
    "import os"
   ]
  },
  {
   "cell_type": "markdown",
   "metadata": {},
   "source": [
    "---\n",
    "### Step 1: Data ingestion"
   ]
  },
  {
   "cell_type": "markdown",
   "metadata": {},
   "source": [
    "The RGB color data we will import was sourced from a collection of digital ad images. The project's objective was to determine if certain colors were indicative of high-performing ads.\n",
    "\n",
    "Before creating a predictive model, it was essential to classify the colors of the RGB triples present in the images.\n",
    "\n",
    "It's important to note that if the color values were uniformly distributed, clustering would not provide any valuable insights."
   ]
  },
  {
   "cell_type": "code",
   "execution_count": null,
   "metadata": {},
   "outputs": [],
   "source": [
    "# read data\n",
    "data_file = \"./data/RGB_colors/HW08_rgb_colors.csv\"\n",
    "df_colors = pandas.read_csv(data_file)"
   ]
  },
  {
   "cell_type": "markdown",
   "metadata": {},
   "source": [
    "#### <span style=\"color:chocolate\"> Exercise 1:</span> Getting to know the data (10 points)"
   ]
  },
  {
   "cell_type": "markdown",
   "metadata": {},
   "source": [
    "Answer the following questions:\n",
    "    \n",
    "1. How many columns does the dataset contain?\n",
    "2. How many rows are there in the dataset?\n",
    "3. What are the column names?\n",
    "4. Print the first five examples in the dataset."
   ]
  },
  {
   "cell_type": "code",
   "execution_count": null,
   "metadata": {},
   "outputs": [],
   "source": [
    "# YOUR CODE HERE"
   ]
  },
  {
   "cell_type": "markdown",
   "metadata": {},
   "source": [
    "---\n",
    "### Step 2: Exploratory Data Analysis (EDA)"
   ]
  },
  {
   "cell_type": "markdown",
   "metadata": {},
   "source": [
    "#### <span style=\"color:chocolate\"> Exercise 2:</span> 3D plot of RGB colors (10 points)"
   ]
  },
  {
   "cell_type": "markdown",
   "metadata": {},
   "source": [
    "To visually confirm that similar colors are located close to each other in the 3-dimensional RGB space:\n",
    "\n",
    "1. Use the <span style=\"color:chocolate\"> matplotlib</span> library to plot the RGB components and verify this relationship (use the colors array defined below to specify the color for each data point)."
   ]
  },
  {
   "cell_type": "code",
   "execution_count": null,
   "metadata": {},
   "outputs": [],
   "source": [
    "# define colors\n",
    "colors = np.array(df_colors.values)/255 # colors need to be (r,b,g) tuple in the range of 0-1\n",
    "\n",
    "# create the 3D scatter plot\n",
    "## YOUR CODE HERE ##"
   ]
  },
  {
   "cell_type": "markdown",
   "metadata": {},
   "source": [
    "---\n",
    "### Step 3: Clustering algorithm"
   ]
  },
  {
   "cell_type": "markdown",
   "metadata": {},
   "source": [
    "Clustering algorithms are essential tools for exploring and understanding data patterns without prior knowledge of labels or categories. In this assignment, we will explore the KMeans clustering algorithm."
   ]
  },
  {
   "cell_type": "markdown",
   "metadata": {},
   "source": [
    "#### <span style=\"color:chocolate\"> Exercise 3:</span> KMeans (10 points)"
   ]
  },
  {
   "cell_type": "markdown",
   "metadata": {
    "id": "iKTKmUYllvmx"
   },
   "source": [
    "1. Fill in the <span style=\"color:green\">NotImplemented</span> parts of the <span style=\"color:chocolate\">fit_kmeans()</span> function below.\n",
    "\n",
    "2. Fit a KMeans model with 10 clusters. Make sure to pass the random_state argument;\n",
    "\n",
    "3. Use the <span style=\"color:chocolate\"> predict() </span> method to get the cluster predictions for each data point;\n",
    "   \n",
    "5. Add the cluster predictions to the <span style=\"color:chocolate\"> df_colors </span> dataframe. "
   ]
  },
  {
   "cell_type": "code",
   "execution_count": null,
   "metadata": {
    "id": "ROCne7e6JlKk"
   },
   "outputs": [],
   "source": [
    "# set params\n",
    "n_clusters = 10\n",
    "random_state = 10  # makes sure you get the same results each time\n",
    "\n",
    "# create a np array for RBG values\n",
    "X = np.array(df_colors.values)\n",
    "\n",
    "# define KMeans model\n",
    "def fit_kmeans(X, n_clusters, random_state):\n",
    "  ## YOUR CODE HERE ## \n",
    "  model = NotImplemented\n",
    "  return model\n",
    "\n",
    "# fit KMeans model\n",
    "## YOUR CODE HERE ## \n",
    "\n",
    "# get cluster predictions\n",
    "## YOUR CODE HERE ## \n",
    "\n",
    "# add predictions to df_colors\n",
    "## YOUR CODE HERE ## "
   ]
  },
  {
   "cell_type": "markdown",
   "metadata": {},
   "source": [
    "---\n",
    "### Step 4: Statistics"
   ]
  },
  {
   "cell_type": "markdown",
   "metadata": {},
   "source": [
    "#### <span style=\"color:chocolate\"> Exercise 4:</span> Distribution of clusters (10 points)"
   ]
  },
  {
   "cell_type": "markdown",
   "metadata": {
    "id": "PtsNYYLSe_D1"
   },
   "source": [
    "1. Analyze the distribution of clusters using a histogram plot. Set the numbers of bins to 10.\n",
    "2. Ensure that your visual representation aligns with the results obtained from\n",
    "<span style=\"color:chocolate\"> df_colors['cluster'].value_counts()</span>."
   ]
  },
  {
   "cell_type": "code",
   "execution_count": null,
   "metadata": {
    "id": "asvG7XGwKKHS"
   },
   "outputs": [],
   "source": [
    "# YOUR CODE HERE"
   ]
  },
  {
   "cell_type": "markdown",
   "metadata": {},
   "source": [
    "#### <span style=\"color:chocolate\"> Exercise 5:</span> Distribution of colors by cluster (10 points)"
   ]
  },
  {
   "cell_type": "markdown",
   "metadata": {},
   "source": [
    "Plot the color distribution for each cluster using the first 500 examples in the <span style=\"color:chocolate\"> df_colors</span> data.\n",
    " - ensure clusters are on the y-axis and the first 500 examples are on the x-axis.\n",
    " - use the **mini_colors** array provided below for the color argument in the plot function.\n"
   ]
  },
  {
   "cell_type": "code",
   "execution_count": null,
   "metadata": {},
   "outputs": [],
   "source": [
    "# define colors\n",
    "mini_colors = colors[:500]\n",
    "\n",
    "# YOUR CODE HERE"
   ]
  },
  {
   "cell_type": "markdown",
   "metadata": {
    "id": "hqygpwqUcjuL"
   },
   "source": [
    "#### <span style=\"color:chocolate\"> Exercise 6:</span> Cluster centroids (10 points)"
   ]
  },
  {
   "cell_type": "markdown",
   "metadata": {},
   "source": [
    "Retrieve the centroids of each cluster using the <span style=\"color:chocolate\"> cluster_centers_</span> attribute of the fitted KMeans object."
   ]
  },
  {
   "cell_type": "code",
   "execution_count": null,
   "metadata": {
    "id": "4M2FoubOLeTe"
   },
   "outputs": [],
   "source": [
    "# YOUR CODE HERE\n",
    "centroids = NotImplemented"
   ]
  },
  {
   "cell_type": "markdown",
   "metadata": {},
   "source": [
    "Next, let's **create a color dictionary** to give color names to each centroid. You will need this dictionary to solve Exercise 7-8."
   ]
  },
  {
   "cell_type": "code",
   "execution_count": null,
   "metadata": {},
   "outputs": [],
   "source": [
    "# get the current directory of the script\n",
    "current_script_dir = os.path.abspath(os.getcwd())\n",
    "\n",
    "# navigate one directory forward\n",
    "next_dir = os.path.join(current_script_dir, 'data/RGB_colors/')\n",
    "\n",
    "# add next_dir to sys.path to make it the current working directory\n",
    "sys.path.insert(0, next_dir)\n",
    "\n",
    "# import HW08_color_names.py\n",
    "import HW08_color_names  \n",
    "\n",
    "# get closer name for rgb\n",
    "color_dict = HW08_color_names.get_closest_name_for_rgb(centroids)\n",
    "\n",
    "# def show_color() function\n",
    "def show_color(test_color, title):\n",
    "  # normalize \n",
    "  c = [ cc/255 for cc in test_color]  \n",
    "\n",
    "  # some random coordinates\n",
    "  x=[1]\n",
    "  y = [1]\n",
    "\n",
    "  # plot a large dot\n",
    "  fig = plt.figure(figsize=(1, 1))\n",
    "  plt.scatter(x,y,color=c,s=500)\n",
    "  plt.title(title)\n",
    "  plt.axis('off')\n",
    "  return(plt)\n",
    "\n",
    "# call show_color() function\n",
    "for cluster in range(n_clusters):\n",
    "    show_color(centroids[cluster],f'Cluster {cluster}: {color_dict[cluster]}')"
   ]
  },
  {
   "cell_type": "markdown",
   "metadata": {},
   "source": [
    "---\n",
    "### Step 5: Test examples"
   ]
  },
  {
   "cell_type": "markdown",
   "metadata": {},
   "source": [
    "#### <span style=\"color:chocolate\"> Exercise 7:</span> Best guess for an RGB triple based on centroids (20 points)"
   ]
  },
  {
   "cell_type": "markdown",
   "metadata": {},
   "source": [
    "Fill in the <span style=\"color:green\">NotImplemented</span> parts of the <span style=\"color:chocolate\">guess_color()</span> function below to determine the closest centroid to a user-defined RGB triple (test example) without using the <span style=\"color:chocolate\">KMeans.predict()</span> method. \n",
    "\n",
    "The function will calculate distances using the Euclidean distance formula and return the color associated with the nearest centroid."
   ]
  },
  {
   "cell_type": "code",
   "execution_count": null,
   "metadata": {},
   "outputs": [],
   "source": [
    "# your color guessing function\n",
    "def guess_color(centroids, color_dict, test_color):\n",
    "  ## YOUR CODE HERE ## \n",
    "  color_name = None\n",
    "  return color_name\n",
    "\n",
    "# user-defined RGB triple\n",
    "color1 = [200, 5, 5]  # approximately red \n",
    "\n",
    "# call the guess_color() function\n",
    "print(\n",
    "    guess_color(centroids=centroids, color_dict=color_dict, test_color=color1)\n",
    ")"
   ]
  },
  {
   "cell_type": "markdown",
   "metadata": {},
   "source": [
    "#### <span style=\"color:chocolate\"> Exercise 8:</span> Best guess for an RGB triple based on centroids (20 points)"
   ]
  },
  {
   "cell_type": "markdown",
   "metadata": {},
   "source": [
    "Fill in the <span style=\"color:green\">NotImplemented</span> parts of the <span style=\"color:chocolate\">guess_color()</span> function below to determine the closest centroid to a user-defined RGB triple (test example) by using the <span style=\"color:chocolate\">KMeans.predict()</span> method."
   ]
  },
  {
   "cell_type": "code",
   "execution_count": null,
   "metadata": {},
   "outputs": [],
   "source": [
    "def predict_color(model, color_dict, test_color):\n",
    "    ## YOUR CODE HERE ## \n",
    "    color_name = None\n",
    "    return color_name\n",
    "\n",
    "# user-defined RGB triple\n",
    "color1 = [200, 5, 5] # approximately red \n",
    "\n",
    "# call the guess_color() function\n",
    "print(\n",
    "    predict_color(model=model, color_dict=color_dict, test_color=color1)\n",
    ")"
   ]
  }
 ],
 "metadata": {
  "colab": {
   "name": "08 Kmeans Clustering_solution.ipynb",
   "provenance": []
  },
  "kernelspec": {
   "display_name": "Python 3 (ipykernel)",
   "language": "python",
   "name": "python3"
  },
  "language_info": {
   "codemirror_mode": {
    "name": "ipython",
    "version": 3
   },
   "file_extension": ".py",
   "mimetype": "text/x-python",
   "name": "python",
   "nbconvert_exporter": "python",
   "pygments_lexer": "ipython3",
   "version": "3.12.4"
  }
 },
 "nbformat": 4,
 "nbformat_minor": 4
}
