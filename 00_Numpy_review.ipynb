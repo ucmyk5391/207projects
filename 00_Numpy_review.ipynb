{
 "cells": [
  {
   "cell_type": "markdown",
   "id": "68d2f193",
   "metadata": {},
   "source": [
    "# Assignment 0"
   ]
  },
  {
   "cell_type": "markdown",
   "id": "231ec299",
   "metadata": {},
   "source": [
    "### <span style=\"color:chocolate\"> Submission requirements </span>\n",
    "\n",
    "Your work will not be graded if your notebook doesn't include output. In other words, <span style=\"color:red\"> make sure to rerun your notebook before submitting to Gradescope </span> (Note: if you are using Google Colab: go to Edit > Notebook Settings  and uncheck Omit code cell output when saving this notebook, otherwise the output is not printed).\n",
    "\n",
    "Additional points may be deducted if these requirements are not met:\n",
    "\n",
    "    \n",
    "* Comment your code;\n",
    "* Each graph should have a title, labels for each axis, and (if needed) a legend. Each graph should be understandable on its own;\n",
    "* Try and minimize the use of the global namespace (meaning, keep things inside functions).\n",
    "---"
   ]
  },
  {
   "cell_type": "markdown",
   "id": "aae36a3a",
   "metadata": {},
   "source": [
    "### Import libraries"
   ]
  },
  {
   "cell_type": "code",
   "execution_count": 3,
   "id": "1d2c9a02",
   "metadata": {},
   "outputs": [],
   "source": [
    "import numpy as np\n",
    "np.random.seed(seed=1)"
   ]
  },
  {
   "cell_type": "markdown",
   "id": "8fb0f91b",
   "metadata": {},
   "source": [
    "---\n",
    "### <span style=\"color:chocolate\">Exercise 1:</span> Homogenous data types (10 points)\n",
    "\n",
    "1. Create a numpy array (my_array1) containing only integer values. Print the shape of the array and the type of its elements;\n",
    "2. Create another numpy array (my_array2) containing a mix of integer and string values. Print the shape of the array and the type of its elements. Comment on the type of its elements."
   ]
  },
  {
   "cell_type": "code",
   "execution_count": 10,
   "id": "49c4add6",
   "metadata": {},
   "outputs": [
    {
     "name": "stdout",
     "output_type": "stream",
     "text": [
      "[2 4 5 2 4]\n",
      "Shape of my_array1: (5,)\n",
      "Data type of my_array1 elements: int32\n",
      "Shape of my_array2: (5,)\n",
      "Data type of my_array2 elements: <U21\n"
     ]
    }
   ],
   "source": [
    "# YOUR CODE HERE\n",
    "my_array1 = np.random.randint(0, 10, size=5)\n",
    "print(my_array1)\n",
    "print(\"Shape of my_array1:\", my_array1.shape)\n",
    "print(\"Data type of my_array1 elements:\", my_array1.dtype)\n",
    "\n",
    "my_array2 = np.array([1, \"two\", 3, \"four\", 5])\n",
    "print(\"Shape of my_array2:\", my_array2.shape)\n",
    "print(\"Data type of my_array2 elements:\", my_array2.dtype)"
   ]
  },
  {
   "cell_type": "markdown",
   "id": "8becfbd2",
   "metadata": {},
   "source": [
    "---\n",
    "#### <span style=\"color:chocolate\">Exercise 2:</span> The size attribute (10 points)\n",
    "\n",
    "Create a numpy array (my_array3) and print its shape, size, and data type. What does size represent?"
   ]
  },
  {
   "cell_type": "code",
   "execution_count": 3,
   "id": "8733dbc0",
   "metadata": {},
   "outputs": [
    {
     "name": "stdout",
     "output_type": "stream",
     "text": [
      "Shape: (3, 3)\n",
      "Size: 9\n",
      "Data type: int64\n"
     ]
    }
   ],
   "source": [
    "# YOUR CODE HERE\n",
    "my_array3 = np.array([[1, 2, 3], [4, 5, 6], [7, 8, 9]])\n",
    "\n",
    "print(\"Shape:\", my_array3.shape)\n",
    "print(\"Size:\", my_array3.size)\n",
    "print(\"Data type:\", my_array3.dtype)\n",
    "\n",
    "# Size: The total number of elements in the array (9 in this case, as it's a 3x3 array)."
   ]
  },
  {
   "cell_type": "markdown",
   "id": "89731f88",
   "metadata": {},
   "source": [
    "---\n",
    "#### <span style=\"color:chocolate\">Exercise 3:</span> Tabular data layout (10 points)"
   ]
  },
  {
   "cell_type": "markdown",
   "id": "89c8c4d9",
   "metadata": {},
   "source": [
    "Create a tabular data layout using the numpy method <span style=\"color:chocolate\">np.random.random()</span>, where:\n",
    "* the first input is num_samples, and\n",
    "* the second input is num_features. \n",
    "\n",
    "Print the shape of the array."
   ]
  },
  {
   "cell_type": "code",
   "execution_count": 11,
   "id": "dcabc0b0",
   "metadata": {},
   "outputs": [
    {
     "name": "stdout",
     "output_type": "stream",
     "text": [
      "[[0.20445225 0.87811744 0.02738759 ... 0.08504421 0.03905478 0.16983042]\n",
      " [0.8781425  0.09834683 0.42110763 ... 0.78927933 0.10322601 0.44789353]\n",
      " [0.9085955  0.29361415 0.28777534 ... 0.10233443 0.41405599 0.69440016]\n",
      " ...\n",
      " [0.37114718 0.29482088 0.91176317 ... 0.74238343 0.3902647  0.7598254 ]\n",
      " [0.9029359  0.58742002 0.09040972 ... 0.04345154 0.94857277 0.31129608]\n",
      " [0.79897284 0.8106291  0.85999859 ... 0.32683068 0.24946221 0.21926791]]\n",
      "Shape of the array: (100, 17)\n"
     ]
    }
   ],
   "source": [
    "# already defined first and second inputs\n",
    "num_samples = 100\n",
    "num_features = 17\n",
    "\n",
    "# YOUR CODE HERE\n",
    "data_array = np.random.random((num_samples, num_features))\n",
    "\n",
    "print(data_array)\n",
    "print(\"Shape of the array:\", data_array.shape)"
   ]
  },
  {
   "cell_type": "markdown",
   "id": "9ea1e400",
   "metadata": {},
   "source": [
    "---\n",
    "#### <span style=\"color:chocolate\">Exercise 4:</span> Image data layout (10 points)"
   ]
  },
  {
   "cell_type": "markdown",
   "id": "7c5b220a",
   "metadata": {},
   "source": [
    "Create an image data layout using the numpy method <span style=\"color:chocolate\">np.random.random()</span>, where:\n",
    "\n",
    "* the first input is num_images;\n",
    "* the second input is num_rows;\n",
    "* the third input is num_cols;\n",
    "* the fourth input is num_channels.\n",
    "\n",
    "Print the shape of the array."
   ]
  },
  {
   "cell_type": "code",
   "execution_count": 12,
   "id": "9b371f29",
   "metadata": {},
   "outputs": [
    {
     "name": "stdout",
     "output_type": "stream",
     "text": [
      "[[[[0.79966084 0.50239501 0.08318989]\n",
      "   [0.77698419 0.53364908 0.73938779]\n",
      "   [0.51539369 0.39994592 0.98624678]\n",
      "   ...\n",
      "   [0.69914657 0.39498706 0.79749598]\n",
      "   [0.78641708 0.15552858 0.31781755]\n",
      "   [0.34398318 0.3641703  0.56664556]]\n",
      "\n",
      "  [[0.04168744 0.65996972 0.20163176]\n",
      "   [0.41646256 0.45089266 0.34872677]\n",
      "   [0.38328031 0.18030606 0.06813006]\n",
      "   ...\n",
      "   [0.19596701 0.15675161 0.75451701]\n",
      "   [0.32997323 0.64419569 0.5654556 ]\n",
      "   [0.89953092 0.88068362 0.4431114 ]]\n",
      "\n",
      "  [[0.20473509 0.63219238 0.63683598]\n",
      "   [0.6924175  0.9074732  0.78258098]\n",
      "   [0.62529094 0.6009656  0.21275904]\n",
      "   ...\n",
      "   [0.84635588 0.4842779  0.45106879]\n",
      "   [0.63985672 0.21177129 0.52830069]\n",
      "   [0.66856852 0.5387767  0.70876114]]\n",
      "\n",
      "  ...\n",
      "\n",
      "  [[0.51489322 0.08210204 0.91840577]\n",
      "   [0.42494644 0.39048398 0.42675387]\n",
      "   [0.03565494 0.19802553 0.13046423]\n",
      "   ...\n",
      "   [0.91238706 0.46521815 0.1786866 ]\n",
      "   [0.71185371 0.53977706 0.63746035]\n",
      "   [0.3992324  0.01743369 0.52732087]]\n",
      "\n",
      "  [[0.83117598 0.93069215 0.2936553 ]\n",
      "   [0.78012731 0.5594707  0.75561551]\n",
      "   [0.1074083  0.08777696 0.39667735]\n",
      "   ...\n",
      "   [0.6325519  0.05934167 0.40948144]\n",
      "   [0.21693576 0.27186193 0.51092812]\n",
      "   [0.7846886  0.24692047 0.09337799]]\n",
      "\n",
      "  [[0.63421588 0.50182575 0.18961299]\n",
      "   [0.26102791 0.24487994 0.05730397]\n",
      "   [0.18947245 0.9805245  0.25691374]\n",
      "   ...\n",
      "   [0.38565412 0.49356916 0.43600769]\n",
      "   [0.67236624 0.11516818 0.90223888]\n",
      "   [0.64580634 0.32002707 0.16266985]]]\n",
      "\n",
      "\n",
      " [[[0.87087638 0.85587147 0.04566881]\n",
      "   [0.93704541 0.46681104 0.78681888]\n",
      "   [0.24206116 0.01134325 0.45108808]\n",
      "   ...\n",
      "   [0.95032327 0.64618168 0.66148052]\n",
      "   [0.30649799 0.73169867 0.18613125]\n",
      "   [0.205693   0.77229449 0.38570686]]\n",
      "\n",
      "  [[0.41869768 0.00102603 0.9031148 ]\n",
      "   [0.91309142 0.68794847 0.77901389]\n",
      "   [0.44722591 0.51158756 0.56227311]\n",
      "   ...\n",
      "   [0.62050885 0.82905479 0.85112223]\n",
      "   [0.3916626  0.9511748  0.29088472]\n",
      "   [0.61377334 0.50053311 0.0820323 ]]\n",
      "\n",
      "  [[0.03784091 0.19163436 0.94301945]\n",
      "   [0.43038685 0.71907225 0.82567551]\n",
      "   [0.92736904 0.18174353 0.7713486 ]\n",
      "   ...\n",
      "   [0.34422622 0.9810991  0.16284766]\n",
      "   [0.39233223 0.91708012 0.17933309]\n",
      "   [0.64377809 0.42015308 0.30695596]]\n",
      "\n",
      "  ...\n",
      "\n",
      "  [[0.89581606 0.92347497 0.3551681 ]\n",
      "   [0.08233904 0.87586156 0.08252543]\n",
      "   [0.21812448 0.48842759 0.96764275]\n",
      "   ...\n",
      "   [0.69229853 0.54783327 0.80438931]\n",
      "   [0.7242238  0.92181141 0.08826473]\n",
      "   [0.02223433 0.03888233 0.84155455]]\n",
      "\n",
      "  [[0.99311398 0.80661803 0.20547499]\n",
      "   [0.00386857 0.87096568 0.26364488]\n",
      "   [0.66722061 0.65304645 0.17309814]\n",
      "   ...\n",
      "   [0.98358547 0.70111777 0.04737612]\n",
      "   [0.58997715 0.93994069 0.46306221]\n",
      "   [0.2881576  0.39272771 0.13854545]]\n",
      "\n",
      "  [[0.56606931 0.75583967 0.79508665]\n",
      "   [0.67753308 0.23734984 0.05692094]\n",
      "   [0.30941145 0.984665   0.64534315]\n",
      "   ...\n",
      "   [0.84291986 0.57728274 0.68456805]\n",
      "   [0.63552342 0.42951442 0.48356546]\n",
      "   [0.03676302 0.90109571 0.2041223 ]]]\n",
      "\n",
      "\n",
      " [[[0.18177857 0.40069377 0.42364309]\n",
      "   [0.55411011 0.25117973 0.45815648]\n",
      "   [0.97216702 0.23234891 0.00575373]\n",
      "   ...\n",
      "   [0.08916831 0.53112234 0.67305923]\n",
      "   [0.87467281 0.61206115 0.02213499]\n",
      "   [0.48847208 0.24548831 0.75469397]]\n",
      "\n",
      "  [[0.09916792 0.9064574  0.45807574]\n",
      "   [0.50642397 0.36414667 0.56511275]\n",
      "   [0.63789235 0.91947355 0.73951814]\n",
      "   ...\n",
      "   [0.74237681 0.40588091 0.78163103]\n",
      "   [0.46712719 0.99831511 0.24824159]\n",
      "   [0.81037583 0.35460276 0.89494827]]\n",
      "\n",
      "  [[0.94551748 0.26318236 0.76917554]\n",
      "   [0.4837094  0.92186451 0.2279703 ]\n",
      "   [0.06895731 0.84149343 0.78376114]\n",
      "   ...\n",
      "   [0.72852619 0.80872899 0.34122374]\n",
      "   [0.85725545 0.90986162 0.77836314]\n",
      "   [0.57608226 0.33086698 0.79977073]]\n",
      "\n",
      "  ...\n",
      "\n",
      "  [[0.80636713 0.6659942  0.8837087 ]\n",
      "   [0.45828866 0.92674943 0.2702676 ]\n",
      "   [0.24863332 0.2532735  0.10934766]\n",
      "   ...\n",
      "   [0.4130281  0.17411813 0.99721339]\n",
      "   [0.45952185 0.36348156 0.84603659]\n",
      "   [0.56369308 0.93047797 0.42457572]]\n",
      "\n",
      "  [[0.86633406 0.11047475 0.82211867]\n",
      "   [0.12152283 0.59162815 0.6435255 ]\n",
      "   [0.89625566 0.27641755 0.24138868]\n",
      "   ...\n",
      "   [0.66858327 0.2347599  0.80228587]\n",
      "   [0.28550123 0.51909976 0.85619423]\n",
      "   [0.28337601 0.66521714 0.7008244 ]]\n",
      "\n",
      "  [[0.39199836 0.59391937 0.24060084]\n",
      "   [0.09957289 0.37274797 0.2470265 ]\n",
      "   [0.61346374 0.93360088 0.60585718]\n",
      "   ...\n",
      "   [0.97098152 0.18282407 0.59532459]\n",
      "   [0.83283872 0.55871604 0.68389338]\n",
      "   [0.8172126  0.08693229 0.57815472]]]\n",
      "\n",
      "\n",
      " ...\n",
      "\n",
      "\n",
      " [[[0.88077348 0.48126265 0.96712179]\n",
      "   [0.56489248 0.84143633 0.573852  ]\n",
      "   [0.07242844 0.52891937 0.34692156]\n",
      "   ...\n",
      "   [0.50831634 0.43688574 0.9774999 ]\n",
      "   [0.09250868 0.0338151  0.95323985]\n",
      "   [0.7776588  0.45514666 0.57487026]]\n",
      "\n",
      "  [[0.72571392 0.80489845 0.00717047]\n",
      "   [0.78314229 0.07049711 0.10829816]\n",
      "   [0.49056309 0.52615553 0.58005218]\n",
      "   ...\n",
      "   [0.37447135 0.12368318 0.45629752]\n",
      "   [0.33912618 0.22315756 0.49095052]\n",
      "   [0.22206713 0.4854497  0.39045078]]\n",
      "\n",
      "  [[0.11825748 0.6205845  0.27507479]\n",
      "   [0.89221162 0.17797465 0.44799176]\n",
      "   [0.99341319 0.62141649 0.37259679]\n",
      "   ...\n",
      "   [0.38058998 0.51112949 0.99494864]\n",
      "   [0.22186565 0.72566113 0.97439755]\n",
      "   [0.73655274 0.82148474 0.96833332]]\n",
      "\n",
      "  ...\n",
      "\n",
      "  [[0.64172353 0.67691079 0.89362871]\n",
      "   [0.80125681 0.39749364 0.51697712]\n",
      "   [0.62294366 0.6562822  0.21534559]\n",
      "   ...\n",
      "   [0.53895809 0.83442618 0.40714427]\n",
      "   [0.42915438 0.39254958 0.05593838]\n",
      "   [0.20776442 0.64188443 0.09135849]]\n",
      "\n",
      "  [[0.54714186 0.1270342  0.43740988]\n",
      "   [0.90649562 0.61415841 0.93580827]\n",
      "   [0.07640743 0.36149469 0.1727188 ]\n",
      "   ...\n",
      "   [0.8186694  0.87499484 0.6833157 ]\n",
      "   [0.46342894 0.50315958 0.34054873]\n",
      "   [0.12341339 0.61589127 0.53796111]]\n",
      "\n",
      "  [[0.06906783 0.01922796 0.68111725]\n",
      "   [0.38266852 0.07775191 0.99060135]\n",
      "   [0.48953791 0.58628659 0.77974302]\n",
      "   ...\n",
      "   [0.41718324 0.07764514 0.5198059 ]\n",
      "   [0.41541915 0.31125279 0.01039234]\n",
      "   [0.50484858 0.4470926  0.3837219 ]]]\n",
      "\n",
      "\n",
      " [[[0.28014177 0.62217289 0.83536679]\n",
      "   [0.85401988 0.96071026 0.93462902]\n",
      "   [0.9267293  0.92130805 0.96281367]\n",
      "   ...\n",
      "   [0.78770061 0.53178504 0.96166063]\n",
      "   [0.09941174 0.07354256 0.17488363]\n",
      "   [0.44003501 0.99483378 0.0014944 ]]\n",
      "\n",
      "  [[0.94096545 0.65525236 0.5285102 ]\n",
      "   [0.02168551 0.73525985 0.80209994]\n",
      "   [0.4418355  0.91919641 0.31873   ]\n",
      "   ...\n",
      "   [0.06237196 0.56820232 0.10202871]\n",
      "   [0.5387723  0.30742377 0.0561474 ]\n",
      "   [0.25384869 0.51658554 0.74313792]]\n",
      "\n",
      "  [[0.2833638  0.06582349 0.16011701]\n",
      "   [0.20198153 0.62786221 0.45476503]\n",
      "   [0.90499467 0.36888422 0.55480546]\n",
      "   ...\n",
      "   [0.48954673 0.63941155 0.43824452]\n",
      "   [0.01424219 0.1525461  0.75573563]\n",
      "   [0.94933345 0.84006602 0.17933647]]\n",
      "\n",
      "  ...\n",
      "\n",
      "  [[0.93864573 0.78298625 0.81900468]\n",
      "   [0.40932133 0.11546844 0.06261125]\n",
      "   [0.8641717  0.6763831  0.20719163]\n",
      "   ...\n",
      "   [0.29574258 0.66881266 0.51533878]\n",
      "   [0.07982394 0.63253359 0.01313418]\n",
      "   [0.32616165 0.02381665 0.59475736]]\n",
      "\n",
      "  [[0.68891025 0.67706451 0.84641621]\n",
      "   [0.95766936 0.67714999 0.16723683]\n",
      "   [0.6265029  0.58177783 0.91104091]\n",
      "   ...\n",
      "   [0.55219419 0.01821607 0.10079253]\n",
      "   [0.67769728 0.03788476 0.11212882]\n",
      "   [0.92064469 0.85403569 0.81218707]]\n",
      "\n",
      "  [[0.59660829 0.11468188 0.68593432]\n",
      "   [0.7673111  0.5323486  0.10221081]\n",
      "   [0.03526582 0.73194099 0.89740214]\n",
      "   ...\n",
      "   [0.46490461 0.67051671 0.19316282]\n",
      "   [0.43990369 0.93403487 0.6572644 ]\n",
      "   [0.01467258 0.6077698  0.00167627]]]\n",
      "\n",
      "\n",
      " [[[0.92629217 0.16482232 0.29351068]\n",
      "   [0.59855122 0.25859744 0.15440512]\n",
      "   [0.97186385 0.74006147 0.08716623]\n",
      "   ...\n",
      "   [0.94544737 0.61586229 0.2563516 ]\n",
      "   [0.07887292 0.97317309 0.91055515]\n",
      "   [0.53796127 0.23989615 0.39898189]]\n",
      "\n",
      "  [[0.45447378 0.13503729 0.39565616]\n",
      "   [0.03195338 0.20746318 0.86180079]\n",
      "   [0.18568829 0.83069724 0.14395476]\n",
      "   ...\n",
      "   [0.3652753  0.73132092 0.54643968]\n",
      "   [0.32765723 0.56459975 0.73446231]\n",
      "   [0.72182323 0.70476543 0.08163389]]\n",
      "\n",
      "  [[0.55517578 0.17703894 0.82375805]\n",
      "   [0.84949442 0.92099496 0.81578161]\n",
      "   [0.5109608  0.68077631 0.99026649]\n",
      "   ...\n",
      "   [0.49628342 0.5014368  0.63724758]\n",
      "   [0.48932999 0.64453967 0.29423843]\n",
      "   [0.81458072 0.04760787 0.19573277]]\n",
      "\n",
      "  ...\n",
      "\n",
      "  [[0.31113932 0.85802498 0.94818336]\n",
      "   [0.25002141 0.43398685 0.59731746]\n",
      "   [0.2921462  0.9987959  0.22379603]\n",
      "   ...\n",
      "   [0.3860435  0.79225311 0.07129718]\n",
      "   [0.51773755 0.59498133 0.58533719]\n",
      "   [0.6774079  0.43762012 0.51345071]]\n",
      "\n",
      "  [[0.38036053 0.70056575 0.72458212]\n",
      "   [0.26723847 0.44950265 0.3163914 ]\n",
      "   [0.37262211 0.98450493 0.05407855]\n",
      "   ...\n",
      "   [0.10742823 0.28130955 0.28658404]\n",
      "   [0.83377503 0.73710553 0.57629942]\n",
      "   [0.76371654 0.63329414 0.17467673]]\n",
      "\n",
      "  [[0.22728803 0.71963885 0.72173191]\n",
      "   [0.93643476 0.82351108 0.89029738]\n",
      "   [0.26755095 0.66979577 0.76762986]\n",
      "   ...\n",
      "   [0.57281228 0.53403895 0.66869277]\n",
      "   [0.86371304 0.10115908 0.70845544]\n",
      "   [0.52986759 0.85683632 0.13555523]]]]\n",
      "Shape of the array: (100, 256, 256, 3)\n"
     ]
    }
   ],
   "source": [
    "# already defined inputs\n",
    "num_images = 100\n",
    "num_rows = 256\n",
    "num_cols = 256\n",
    "num_channels = 3 #(RGB)\n",
    "\n",
    "# YOUR CODE HERE\n",
    "image_data_array = np.random.random((num_images, num_rows, num_cols, num_channels))\n",
    "\n",
    "print(image_data_array)\n",
    "print(\"Shape of the array:\", image_data_array.shape)\n"
   ]
  },
  {
   "cell_type": "markdown",
   "id": "19d7b075",
   "metadata": {},
   "source": [
    "---\n",
    "#### <span style=\"color:chocolate\">Exercise 5: </span>Mathematical operations on numpy arrays (15 points)"
   ]
  },
  {
   "cell_type": "markdown",
   "id": "b88b701f",
   "metadata": {},
   "source": [
    "Create a (3, 2) numpy array (you can name it my_array4) containing only integer values. Perform the following tasks:\n",
    "\n",
    "1. Print the shape of the array;\n",
    "2. Print the sum of all elements (hint: the axis argument is set to None);\n",
    "3. Print the sum of all elements by column;\n",
    "3. Print the sum of all elements by row and change the type of the resulting array elements to float;\n",
    "5. Print the first row of the array;\n",
    "6. Print the second row of the array;\n",
    "7. Select the element at position (1, 0);\n",
    "8. Modify the element at position (2, 1) by setting its value to 10 and print the array again;\n",
    "9. Loop over elements in the array. Print the output."
   ]
  },
  {
   "cell_type": "code",
   "execution_count": 14,
   "id": "5efe6c22",
   "metadata": {},
   "outputs": [
    {
     "name": "stdout",
     "output_type": "stream",
     "text": [
      "Shape of the array: (3, 2)\n",
      "Sum of all elements: 21\n",
      "Sum by column: [ 9 12]\n",
      "Sum by row (as float): [ 3.  7. 11.]\n",
      "First row of the array: [1 2]\n",
      "Second row of the array: [3 4]\n",
      "Element at position (1, 0): 3\n",
      "Array after modifying element at position (2, 1):\n",
      "[[ 1  2]\n",
      " [ 3  4]\n",
      " [ 5 10]]\n",
      "Loop over elements in the array:\n",
      "1\n",
      "2\n",
      "3\n",
      "4\n",
      "5\n",
      "10\n"
     ]
    }
   ],
   "source": [
    "# YOUR CODE HERE\n",
    "my_array4 = np.array([[1, 2], [3, 4], [5, 6]])\n",
    "\n",
    "# Print the shape of the array\n",
    "print(\"Shape of the array:\", my_array4.shape)\n",
    "\n",
    "# Print the sum of all elements (hint: the axis argument is set to None)\n",
    "total_sum = np.sum(my_array4, axis=None)\n",
    "print(\"Sum of all elements:\", total_sum)\n",
    "\n",
    "# Print the sum of all elements by column\n",
    "sum_by_column = np.sum(my_array4, axis=0)\n",
    "print(\"Sum by column:\", sum_by_column)\n",
    "\n",
    "# Print the sum of all elements by row and change the type of the resulting array elements to float\n",
    "sum_by_row = np.sum(my_array4, axis=1).astype(float)\n",
    "print(\"Sum by row (as float):\", sum_by_row)\n",
    "\n",
    "# Print the first row of the array\n",
    "print(\"First row of the array:\", my_array4[0])\n",
    "\n",
    "# Print the second row of the array\n",
    "print(\"Second row of the array:\", my_array4[1])\n",
    "\n",
    "# Select the element at position (1, 0)\n",
    "element_at_1_0 = my_array4[1, 0]\n",
    "print(\"Element at position (1, 0):\", element_at_1_0)\n",
    "\n",
    "# Modify the element at position (2, 1) by setting its value to 10 and print the array again\n",
    "my_array4[2, 1] = 10\n",
    "print(\"Array after modifying element at position (2, 1):\")\n",
    "print(my_array4)\n",
    "\n",
    "# Loop over elements in the array. Print the output\n",
    "print(\"Loop over elements in the array:\")\n",
    "for a in my_array4.flat:  # .flat allows iteration over all elements\n",
    "    print(a)"
   ]
  },
  {
   "cell_type": "markdown",
   "id": "7a7e249a",
   "metadata": {},
   "source": [
    "You can find more examples here: https://numpy.org/doc/stable/reference/routines.math.html"
   ]
  },
  {
   "cell_type": "markdown",
   "id": "7f71edb9",
   "metadata": {},
   "source": [
    "---\n",
    "#### <span style=\"color:chocolate\">Exercise 6:</span> Create arrays (15 points)\n",
    "\n",
    "1. Create and print a (3,2) numpy array of pixel values between 0 and 1.\n",
    "2. Create and print a (27,) numpy array representing years from 1991 to 2017\n",
    "3. Create and print a (3, 5, 10) numpy array of zeros\n",
    "4. Create and print a (3, 5, 10) numpy array of ones\n",
    "5. Create and print an array with a constant value (let's say 5) using np.ones()\n",
    "6. Create and print an array with random numbers drawn from a normal distribution with mean 0 and standard deviation 1. Set the sample size to 10.\n"
   ]
  },
  {
   "cell_type": "code",
   "execution_count": 7,
   "id": "b1bf53cb",
   "metadata": {},
   "outputs": [
    {
     "name": "stdout",
     "output_type": "stream",
     "text": [
      "[[0.66869277 0.86371304]\n",
      " [0.10115908 0.70845544]\n",
      " [0.52986759 0.85683632]]\n",
      "[1991 1992 1993 1994 1995 1996 1997 1998 1999 2000 2001 2002 2003 2004\n",
      " 2005 2006 2007 2008 2009 2010 2011 2012 2013 2014 2015 2016 2017]\n",
      "[[[0. 0. 0. 0. 0. 0. 0. 0. 0. 0.]\n",
      "  [0. 0. 0. 0. 0. 0. 0. 0. 0. 0.]\n",
      "  [0. 0. 0. 0. 0. 0. 0. 0. 0. 0.]\n",
      "  [0. 0. 0. 0. 0. 0. 0. 0. 0. 0.]\n",
      "  [0. 0. 0. 0. 0. 0. 0. 0. 0. 0.]]\n",
      "\n",
      " [[0. 0. 0. 0. 0. 0. 0. 0. 0. 0.]\n",
      "  [0. 0. 0. 0. 0. 0. 0. 0. 0. 0.]\n",
      "  [0. 0. 0. 0. 0. 0. 0. 0. 0. 0.]\n",
      "  [0. 0. 0. 0. 0. 0. 0. 0. 0. 0.]\n",
      "  [0. 0. 0. 0. 0. 0. 0. 0. 0. 0.]]\n",
      "\n",
      " [[0. 0. 0. 0. 0. 0. 0. 0. 0. 0.]\n",
      "  [0. 0. 0. 0. 0. 0. 0. 0. 0. 0.]\n",
      "  [0. 0. 0. 0. 0. 0. 0. 0. 0. 0.]\n",
      "  [0. 0. 0. 0. 0. 0. 0. 0. 0. 0.]\n",
      "  [0. 0. 0. 0. 0. 0. 0. 0. 0. 0.]]]\n",
      "[[[1. 1. 1. 1. 1. 1. 1. 1. 1. 1.]\n",
      "  [1. 1. 1. 1. 1. 1. 1. 1. 1. 1.]\n",
      "  [1. 1. 1. 1. 1. 1. 1. 1. 1. 1.]\n",
      "  [1. 1. 1. 1. 1. 1. 1. 1. 1. 1.]\n",
      "  [1. 1. 1. 1. 1. 1. 1. 1. 1. 1.]]\n",
      "\n",
      " [[1. 1. 1. 1. 1. 1. 1. 1. 1. 1.]\n",
      "  [1. 1. 1. 1. 1. 1. 1. 1. 1. 1.]\n",
      "  [1. 1. 1. 1. 1. 1. 1. 1. 1. 1.]\n",
      "  [1. 1. 1. 1. 1. 1. 1. 1. 1. 1.]\n",
      "  [1. 1. 1. 1. 1. 1. 1. 1. 1. 1.]]\n",
      "\n",
      " [[1. 1. 1. 1. 1. 1. 1. 1. 1. 1.]\n",
      "  [1. 1. 1. 1. 1. 1. 1. 1. 1. 1.]\n",
      "  [1. 1. 1. 1. 1. 1. 1. 1. 1. 1.]\n",
      "  [1. 1. 1. 1. 1. 1. 1. 1. 1. 1.]\n",
      "  [1. 1. 1. 1. 1. 1. 1. 1. 1. 1.]]]\n",
      "[[[5. 5. 5. 5. 5. 5. 5. 5. 5. 5.]\n",
      "  [5. 5. 5. 5. 5. 5. 5. 5. 5. 5.]\n",
      "  [5. 5. 5. 5. 5. 5. 5. 5. 5. 5.]\n",
      "  [5. 5. 5. 5. 5. 5. 5. 5. 5. 5.]\n",
      "  [5. 5. 5. 5. 5. 5. 5. 5. 5. 5.]]\n",
      "\n",
      " [[5. 5. 5. 5. 5. 5. 5. 5. 5. 5.]\n",
      "  [5. 5. 5. 5. 5. 5. 5. 5. 5. 5.]\n",
      "  [5. 5. 5. 5. 5. 5. 5. 5. 5. 5.]\n",
      "  [5. 5. 5. 5. 5. 5. 5. 5. 5. 5.]\n",
      "  [5. 5. 5. 5. 5. 5. 5. 5. 5. 5.]]\n",
      "\n",
      " [[5. 5. 5. 5. 5. 5. 5. 5. 5. 5.]\n",
      "  [5. 5. 5. 5. 5. 5. 5. 5. 5. 5.]\n",
      "  [5. 5. 5. 5. 5. 5. 5. 5. 5. 5.]\n",
      "  [5. 5. 5. 5. 5. 5. 5. 5. 5. 5.]\n",
      "  [5. 5. 5. 5. 5. 5. 5. 5. 5. 5.]]]\n",
      "[-0.38445128 -0.87349154 -1.76604895  0.039275   -0.18341815 -0.88724977\n",
      "  0.10267201 -1.16413023  0.4992323  -0.35256827]\n"
     ]
    }
   ],
   "source": [
    "# YOUR CODE HERE\n",
    "# Create and print a (3,2) numpy array of pixel values between 0 and 1.\n",
    "array_1 = np.random.random((3, 2))\n",
    "print(array_1)\n",
    "\n",
    "# Create and print a (27,) numpy array representing years from 1991 to 2017\n",
    "array_2 = np.arange(1991, 2018)\n",
    "print(array_2)\n",
    "\n",
    "# Create and print a (3, 5, 10) numpy array of zeros\n",
    "array_3 = np.zeros((3, 5, 10))\n",
    "print(array_3)\n",
    "\n",
    "# Create and print a (3, 5, 10) numpy array of ones\n",
    "array_4 = np.ones((3, 5, 10))\n",
    "print(array_4)\n",
    "\n",
    "# Create and print an array with a constant value (let's say 5) using np.ones()\n",
    "array_5 = np.ones((3, 5, 10)) * 5\n",
    "print(array_5)\n",
    "\n",
    "# Create and print an array with random numbers drawn from a normal distribution with mean 0 and standard deviation 1. Set the sample size to 10.\n",
    "array_6 = np.random.normal(0, 1, 10)\n",
    "print(array_6)"
   ]
  },
  {
   "cell_type": "markdown",
   "id": "4fd05963",
   "metadata": {},
   "source": [
    "---\n",
    "#### <span style=\"color:chocolate\">Exercise 7:</span> Reshape arrays (10 points)"
   ]
  },
  {
   "cell_type": "markdown",
   "id": "e139e4eb",
   "metadata": {},
   "source": [
    "Consider the following array:"
   ]
  },
  {
   "cell_type": "code",
   "execution_count": 17,
   "id": "a5a192dc",
   "metadata": {},
   "outputs": [
    {
     "name": "stdout",
     "output_type": "stream",
     "text": [
      "[1991 1992 1993 1994 1995 1996 1997 1998 1999 2000 2001 2002 2003 2004\n",
      " 2005 2006 2007 2008 2009 2010 2011 2012 2013 2014 2015 2016 2017]\n",
      "(27,)\n"
     ]
    }
   ],
   "source": [
    "years = np.arange(1991, 2018, 1)\n",
    "print(years)\n",
    "print(years.shape)"
   ]
  },
  {
   "cell_type": "markdown",
   "id": "d3255640",
   "metadata": {},
   "source": [
    "Perform the following operations on this array:\n",
    "    \n",
    "1. Create 3 nested arrays, each of size (3, 3). Call this array years_3d;\n",
    "2. Convert the years_3d array to a flat 1D array. Call this array years_1d;\n",
    "3. Add a new axis (in front) to the years_1d array. Call this array years_2d;\n",
    "4. Remove the first axis from years_2d array. Call this array years_1d.\n",
    "\n",
    "For each exercise print the array and its shape."
   ]
  },
  {
   "cell_type": "code",
   "execution_count": 21,
   "id": "ab18878a",
   "metadata": {},
   "outputs": [
    {
     "name": "stdout",
     "output_type": "stream",
     "text": [
      "[1991 1992 1993 1994 1995 1996 1997 1998 1999 2000 2001 2002 2003 2004\n",
      " 2005 2006 2007 2008 2009 2010 2011 2012 2013 2014 2015 2016 2017]\n",
      "[[[1991 1992 1993]\n",
      "  [1994 1995 1996]\n",
      "  [1997 1998 1999]]\n",
      "\n",
      " [[2000 2001 2002]\n",
      "  [2003 2004 2005]\n",
      "  [2006 2007 2008]]\n",
      "\n",
      " [[2009 2010 2011]\n",
      "  [2012 2013 2014]\n",
      "  [2015 2016 2017]]]\n",
      "Shape: (3, 3, 3)\n",
      "Shape: (27,)\n",
      "[[1991 1992 1993 1994 1995 1996 1997 1998 1999 2000 2001 2002 2003 2004\n",
      "  2005 2006 2007 2008 2009 2010 2011 2012 2013 2014 2015 2016 2017]]\n",
      "Shape: (1, 27)\n",
      "[1991 1992 1993 1994 1995 1996 1997 1998 1999 2000 2001 2002 2003 2004\n",
      " 2005 2006 2007 2008 2009 2010 2011 2012 2013 2014 2015 2016 2017]\n",
      "Shape: (27,)\n"
     ]
    }
   ],
   "source": [
    "# YOUR CODE HERE\n",
    "# Create 3 nested arrays, each of size (3, 3). Call this array years_3d\n",
    "print(years)\n",
    "\n",
    "years_3d = years.reshape(3, 3, 3)\n",
    "print(years_3d)\n",
    "print(\"Shape:\", years_3d.shape)\n",
    "\n",
    "# Convert the years_3d array to a flat 1D array. Call this array years_1d\n",
    "years_1d = years_3d.flatten()\n",
    "print(\"Shape:\", years_1d.shape)\n",
    "\n",
    "# Add a new axis (in front) to the years_1d array. Call this array years_2d\n",
    "years_2d = years_1d[np.newaxis, :]\n",
    "print(years_2d)\n",
    "print(\"Shape:\", years_2d.shape)\n",
    "\n",
    "# Remove the first axis from years_2d array. Call this array years_1d\n",
    "years_1d_again = np.squeeze(years_2d, axis=0)\n",
    "print(years_1d_again)\n",
    "print(\"Shape:\", years_1d_again.shape)"
   ]
  },
  {
   "cell_type": "markdown",
   "id": "6a3a4011",
   "metadata": {},
   "source": [
    "---\n",
    "#### <span style=\"color:chocolate\">Exercise 8:</span> Joining arrays (10 points)"
   ]
  },
  {
   "cell_type": "markdown",
   "id": "5382a84a",
   "metadata": {},
   "source": [
    "Provide 8 examples that use the methods <span style=\"color:cornflowerBlue\">np.concatenate()</span> and <span style=\"color:cornflowerBlue\">np.stack()</span>. Note: create 4 examples using each method."
   ]
  },
  {
   "cell_type": "code",
   "execution_count": 26,
   "id": "a9c2ff1a",
   "metadata": {},
   "outputs": [
    {
     "name": "stdout",
     "output_type": "stream",
     "text": [
      "[1 2 3 4 5 6]\n",
      "[[1 2]\n",
      " [3 4]\n",
      " [5 6]\n",
      " [7 8]]\n",
      "[[1 2 5 6]\n",
      " [3 4 7 8]]\n",
      "[[[ 1  2]\n",
      "  [ 3  4]]\n",
      "\n",
      " [[ 5  6]\n",
      "  [ 7  8]]\n",
      "\n",
      " [[ 9 10]\n",
      "  [11 12]]\n",
      "\n",
      " [[13 14]\n",
      "  [15 16]]]\n",
      "stack 1d\n",
      "[[1 2 3]\n",
      " [4 5 6]]\n",
      "[[[1 5]\n",
      "  [2 6]]\n",
      "\n",
      " [[3 7]\n",
      "  [4 8]]]\n",
      "[[[[ 1  2]\n",
      "   [ 3  4]]\n",
      "\n",
      "  [[ 5  6]\n",
      "   [ 7  8]]]\n",
      "\n",
      "\n",
      " [[[ 9 10]\n",
      "   [11 12]]\n",
      "\n",
      "  [[13 14]\n",
      "   [15 16]]]]\n",
      "[[1 4 7]\n",
      " [2 5 8]\n",
      " [3 6 9]]\n"
     ]
    }
   ],
   "source": [
    "# YOUR CODE HERE\n",
    "# np.concatenate(): Joins arrays along an existing axis.\n",
    "# np.stack(): Joins arrays along a new axis, creating an additional dimension.\n",
    "\n",
    "# Concatenating 1D Arrays\n",
    "array1 = np.array([1, 2, 3])\n",
    "array2 = np.array([4, 5, 6])\n",
    "\n",
    "result = np.concatenate((array1, array2))\n",
    "print(result)\n",
    "\n",
    "# Concatenating 2D Arrays Along Axis 0 (Rows)\n",
    "array1 = np.array([[1, 2], [3, 4]])\n",
    "array2 = np.array([[5, 6], [7, 8]])\n",
    "\n",
    "result = np.concatenate((array1, array2), axis=0)\n",
    "print(result)\n",
    "\n",
    "# Concatenating 2D Arrays Along Axis 1 (Columns)\n",
    "array1 = np.array([[1, 2], [3, 4]])\n",
    "array2 = np.array([[5, 6], [7, 8]])\n",
    "\n",
    "result = np.concatenate((array1, array2), axis=1)\n",
    "print(result)\n",
    "\n",
    "# Concatenating 3D Arrays Along a New Axis\n",
    "array1 = np.array([[[1, 2], [3, 4]], [[5, 6], [7, 8]]])\n",
    "array2 = np.array([[[9, 10], [11, 12]], [[13, 14], [15, 16]]])\n",
    "\n",
    "result = np.concatenate((array1, array2), axis=0)\n",
    "print(result)\n",
    "\n",
    "# Stacking 1D Arrays Along a New Axis\n",
    "array1 = np.array([1, 2, 3])\n",
    "array2 = np.array([4, 5, 6])\n",
    "\n",
    "print(\"stack 1d\")\n",
    "result = np.stack((array1, array2), axis=0)\n",
    "print(result)\n",
    "\n",
    "# Stacking 2D Arrays Along a New Axis (Depth)\n",
    "array1 = np.array([[1, 2], [3, 4]])\n",
    "array2 = np.array([[5, 6], [7, 8]])\n",
    "\n",
    "result = np.stack((array1, array2), axis=2)\n",
    "print(result)\n",
    "\n",
    "# Stacking 3D Arrays Along a New Axis (Creating a 4D Array)\n",
    "array1 = np.array([[[1, 2], [3, 4]], [[5, 6], [7, 8]]])\n",
    "array2 = np.array([[[9, 10], [11, 12]], [[13, 14], [15, 16]]])\n",
    "\n",
    "result = np.stack((array1, array2), axis=0)\n",
    "print(result)\n",
    "\n",
    "# Stacking Multiple 1D Arrays Along Axis 1 (Creating a 2D Array)\n",
    "array1 = np.array([1, 2, 3])\n",
    "array2 = np.array([4, 5, 6])\n",
    "array3 = np.array([7, 8, 9])\n",
    "\n",
    "result = np.stack((array1, array2, array3), axis=1)\n",
    "print(result)\n"
   ]
  },
  {
   "cell_type": "markdown",
   "id": "7780b5b8",
   "metadata": {},
   "source": [
    "---\n",
    "#### <span style=\"color:chocolate\">Numpy broadcasting</span> "
   ]
  },
  {
   "cell_type": "markdown",
   "id": "d105a999",
   "metadata": {},
   "source": [
    "The term broadcasting describes how NumPy treats arrays during arithmetic operations. You can find more here:  https://numpy.org/doc/stable/user/basics.broadcasting.html"
   ]
  },
  {
   "cell_type": "code",
   "execution_count": 13,
   "id": "ce9ca817",
   "metadata": {},
   "outputs": [
    {
     "data": {
      "text/plain": [
       "array([1991, 1992, 1993, 1994, 1995, 1996, 1997, 1998, 1999, 2000, 2001,\n",
       "       2002, 2003, 2004, 2005, 2006, 2007, 2008, 2009, 2010, 2011, 2012,\n",
       "       2013, 2014, 2015, 2016, 2017])"
      ]
     },
     "execution_count": 13,
     "metadata": {},
     "output_type": "execute_result"
    }
   ],
   "source": [
    "# multiplying an array with a scalar\n",
    "years = np.arange(1991, 2018, 1)\n",
    "years * 1"
   ]
  },
  {
   "cell_type": "code",
   "execution_count": 14,
   "id": "d2150eb6",
   "metadata": {},
   "outputs": [
    {
     "data": {
      "text/plain": [
       "array([1993, 1994, 1995, 1996, 1997, 1998, 1999, 2000, 2001, 2002, 2003,\n",
       "       2004, 2005, 2006, 2007, 2008, 2009, 2010, 2011, 2012, 2013, 2014,\n",
       "       2015, 2016, 2017, 2018, 2019])"
      ]
     },
     "execution_count": 14,
     "metadata": {},
     "output_type": "execute_result"
    }
   ],
   "source": [
    "# adding a scalar\n",
    "years + 2"
   ]
  },
  {
   "cell_type": "code",
   "execution_count": 15,
   "id": "d7319a34",
   "metadata": {},
   "outputs": [
    {
     "name": "stdout",
     "output_type": "stream",
     "text": [
      "Array a: [0 1 2]\n",
      "Array b: [0 1 2]\n",
      "Sum of a and b: [0 2 4]\n"
     ]
    }
   ],
   "source": [
    "# many arithmetic operations are applied element wise on a pair of arrays\n",
    "a = np.arange(3)\n",
    "print('Array a:', a)\n",
    "b = np.arange(3)\n",
    "print('Array b:', b)\n",
    "print('Sum of a and b:', a+b)"
   ]
  },
  {
   "cell_type": "code",
   "execution_count": 16,
   "id": "44ac94cd",
   "metadata": {},
   "outputs": [
    {
     "name": "stdout",
     "output_type": "stream",
     "text": [
      "Array a: [[1. 1. 1.]\n",
      " [1. 1. 1.]\n",
      " [1. 1. 1.]]\n",
      "\n",
      "Array b: [0 1 2]\n",
      "\n",
      "Sum of a and b: [[1. 2. 3.]\n",
      " [1. 2. 3.]\n",
      " [1. 2. 3.]]\n"
     ]
    }
   ],
   "source": [
    "# another example\n",
    "a = np.ones((3, 3))\n",
    "print('Array a:', a)\n",
    "b = np.arange(3)\n",
    "print('\\nArray b:', b)\n",
    "print('\\nSum of a and b:', a+b)"
   ]
  },
  {
   "cell_type": "markdown",
   "id": "85e7d3c8",
   "metadata": {},
   "source": [
    "---\n",
    "#### <span style=\"color:chocolate\">Exercise 9:</span> Numpy array standardization (10 points)"
   ]
  },
  {
   "cell_type": "markdown",
   "id": "9bccc9d7",
   "metadata": {},
   "source": [
    "Consider the following (10, 4) array:"
   ]
  },
  {
   "cell_type": "code",
   "execution_count": 17,
   "id": "02a2102e",
   "metadata": {},
   "outputs": [
    {
     "name": "stdout",
     "output_type": "stream",
     "text": [
      "my_array shape:  (10, 4)\n"
     ]
    },
    {
     "data": {
      "text/plain": [
       "array([[9.89537574e-01, 9.44649530e-01, 2.59047822e-02, 2.41036029e-01],\n",
       "       [2.09232762e-01, 6.91936843e-01, 7.02465192e-01, 5.92360703e-01],\n",
       "       [2.85496978e-01, 9.10061264e-02, 4.74607622e-01, 2.44213847e-01],\n",
       "       [3.08055169e-02, 6.55060658e-01, 9.80750478e-04, 4.46020788e-01],\n",
       "       [9.63664756e-01, 3.86439740e-01, 4.09421652e-01, 2.32061314e-02],\n",
       "       [3.67139198e-02, 3.02058733e-01, 9.58056443e-01, 7.91801052e-01],\n",
       "       [5.15142500e-01, 9.26690622e-02, 6.01623233e-01, 4.45338123e-01],\n",
       "       [8.85537478e-01, 7.66971472e-01, 4.99193674e-01, 5.89632232e-02],\n",
       "       [5.72399954e-01, 2.03701092e-01, 4.48716641e-01, 3.28975282e-01],\n",
       "       [4.14938107e-01, 6.23857395e-01, 1.23721126e-01, 8.80021615e-01]])"
      ]
     },
     "execution_count": 17,
     "metadata": {},
     "output_type": "execute_result"
    }
   ],
   "source": [
    "my_array = np.random.random((10, 4))\n",
    "print('my_array shape: ', my_array.shape)\n",
    "my_array"
   ]
  },
  {
   "cell_type": "markdown",
   "id": "c505935d",
   "metadata": {},
   "source": [
    "Peform the following operations on this array:\n",
    "1. Compute and print the mean and std for each column (note: set keepdims=True for proper broadcasting).\n",
    "2. Standardize and print the array and its shape using the mean and std you computed above."
   ]
  },
  {
   "cell_type": "code",
   "execution_count": 18,
   "id": "5a88c63d",
   "metadata": {},
   "outputs": [
    {
     "name": "stdout",
     "output_type": "stream",
     "text": [
      "\n",
      "Mean for each column:\n",
      "[[0.49034695 0.47583507 0.42446911 0.40519368]]\n",
      "Standard deviation for each column:\n",
      "[[0.34356667 0.28503262 0.28825997 0.27160601]]\n",
      "\n",
      "Standardized array:\n",
      "[[ 1.45296581  1.64477478 -1.38265583 -0.60439623]\n",
      " [-0.81822313  0.75816507  0.96439363  0.68911223]\n",
      " [-0.5962452  -1.35012245  0.17393504 -0.59269613]\n",
      " [-1.33756119  0.62878976 -1.46911956  0.1503174 ]\n",
      " [ 1.37765927 -0.31363191 -0.052201   -1.40640314]\n",
      " [-1.32036393 -0.60967173  1.85106288  1.42341243]\n",
      " [ 0.07217099 -1.34428825  0.61456372  0.14780396]\n",
      " [ 1.15025863  1.02141434  0.25922629 -1.27475255]\n",
      " [ 0.23882701 -0.95474677  0.08411688 -0.28062117]\n",
      " [-0.21948825  0.51931716 -1.04332206  1.74822322]]\n",
      "Shape of the standardized array: (10, 4)\n"
     ]
    }
   ],
   "source": [
    "# YOUR CODE HERE\n",
    "# Compute and print the mean and std for each column (note: set keepdims=True for proper broadcasting).\n",
    "mean = np.mean(my_array, axis=0, keepdims=True)\n",
    "std = np.std(my_array, axis=0, keepdims=True)\n",
    "print(\"\\nMean for each column:\")\n",
    "print(mean)\n",
    "print(\"Standard deviation for each column:\")\n",
    "print(std)\n",
    "\n",
    "# Standardize and print the array and its shape using the mean and std you computed above.\n",
    "standardized_array = (my_array - mean) / std\n",
    "print(\"\\nStandardized array:\")\n",
    "print(standardized_array)\n",
    "print(\"Shape of the standardized array:\", standardized_array.shape)"
   ]
  },
  {
   "cell_type": "markdown",
   "id": "ebe2eaa0",
   "metadata": {},
   "source": [
    "----\n",
    "#### <span style=\"color:chocolate\">Additional practice question</span> (not graded)"
   ]
  },
  {
   "cell_type": "markdown",
   "id": "d43bdaa7",
   "metadata": {},
   "source": [
    "Consider the following image:"
   ]
  },
  {
   "cell_type": "code",
   "execution_count": 5,
   "id": "e7c61c06",
   "metadata": {},
   "outputs": [
    {
     "name": "stdout",
     "output_type": "stream",
     "text": [
      "[[0.   0.04 0.08 0.12 0.16]\n",
      " [0.2  0.24 0.28 0.32 0.36]\n",
      " [0.4  0.44 0.48 0.52 0.56]\n",
      " [0.6  0.64 0.68 0.72 0.76]\n",
      " [0.8  0.84 0.88 0.92 0.96]]\n"
     ]
    },
    {
     "data": {
      "text/plain": [
       "(5, 5)"
      ]
     },
     "execution_count": 5,
     "metadata": {},
     "output_type": "execute_result"
    }
   ],
   "source": [
    "my_image = np.arange(0, 1, 0.04).reshape(5,5)\n",
    "print(my_image)\n",
    "my_image.shape"
   ]
  },
  {
   "cell_type": "markdown",
   "id": "78f029bd",
   "metadata": {},
   "source": [
    "Perform the following operations on this image (do not overwrite the original image):\n",
    "\n",
    "1. Crop by using a border of size 1;\n",
    "2. Crop by removing:\n",
    "    * the first and the last two rows, and\n",
    "    * the first and the last two columns;\n",
    "3. Reverse the column order;\n",
    "4. set to 0.5 elements divizible by 2."
   ]
  },
  {
   "cell_type": "code",
   "execution_count": 20,
   "id": "d7dadfcf",
   "metadata": {},
   "outputs": [
    {
     "name": "stdout",
     "output_type": "stream",
     "text": [
      "\n",
      "Cropped image (border of size 1):\n",
      "[[0.24 0.28 0.32]\n",
      " [0.44 0.48 0.52]\n",
      " [0.64 0.68 0.72]]\n",
      "\n",
      "Cropped image (remove first and last two rows and columns):\n",
      "[[0.48]]\n",
      "\n",
      "Image with reversed column order:\n",
      "[[0.16 0.12 0.08 0.04 0.  ]\n",
      " [0.36 0.32 0.28 0.24 0.2 ]\n",
      " [0.56 0.52 0.48 0.44 0.4 ]\n",
      " [0.76 0.72 0.68 0.64 0.6 ]\n",
      " [0.96 0.92 0.88 0.84 0.8 ]]\n",
      "\n",
      "Image with elements divisible by 2 set to 0.5:\n",
      "[[0.5  0.04 0.08 0.12 0.16]\n",
      " [0.2  0.24 0.28 0.32 0.36]\n",
      " [0.4  0.44 0.48 0.52 0.56]\n",
      " [0.6  0.64 0.68 0.72 0.76]\n",
      " [0.8  0.84 0.88 0.92 0.96]]\n"
     ]
    }
   ],
   "source": [
    "# YOUR CODE HERE\n",
    "# Task 1: Crop by using a border of size 1\n",
    "cropped_image_1 = my_image[1:-1, 1:-1]\n",
    "print(\"\\nCropped image (border of size 1):\")\n",
    "print(cropped_image_1)\n",
    "\n",
    "# Task 2: Crop by removing the first and last two rows and columns\n",
    "cropped_image_2 = my_image[2:-2, 2:-2]\n",
    "print(\"\\nCropped image (remove first and last two rows and columns):\")\n",
    "print(cropped_image_2)\n",
    "\n",
    "# Task 3: Reverse the column order\n",
    "reversed_columns_image = my_image[:, ::-1]\n",
    "print(\"\\nImage with reversed column order:\")\n",
    "print(reversed_columns_image)\n",
    "\n",
    "# Task 4: Set to 0.5 elements divisible by 2\n",
    "modified_image = np.copy(my_image)  # Make a copy to avoid modifying the original\n",
    "modified_image[modified_image % 2 == 0] = 0.5\n",
    "print(\"\\nImage with elements divisible by 2 set to 0.5:\")\n",
    "print(modified_image)"
   ]
  }
 ],
 "metadata": {
  "kernelspec": {
   "display_name": "Python 3 (ipykernel)",
   "language": "python",
   "name": "python3"
  },
  "language_info": {
   "codemirror_mode": {
    "name": "ipython",
    "version": 3
   },
   "file_extension": ".py",
   "mimetype": "text/x-python",
   "name": "python",
   "nbconvert_exporter": "python",
   "pygments_lexer": "ipython3",
   "version": "3.12.5"
  }
 },
 "nbformat": 4,
 "nbformat_minor": 5
}
