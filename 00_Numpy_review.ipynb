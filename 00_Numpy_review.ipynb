{
 "cells": [
  {
   "cell_type": "markdown",
   "id": "68d2f193",
   "metadata": {},
   "source": [
    "# Assignment 0"
   ]
  },
  {
   "cell_type": "markdown",
   "id": "231ec299",
   "metadata": {},
   "source": [
    "### <span style=\"color:chocolate\"> Submission requirements </span>\n",
    "\n",
    "Your work will not be graded if your notebook doesn't include output. In other words, <span style=\"color:red\"> make sure to rerun your notebook before submitting to Gradescope </span> (Note: if you are using Google Colab: go to Edit > Notebook Settings  and uncheck Omit code cell output when saving this notebook, otherwise the output is not printed).\n",
    "\n",
    "Additional points may be deducted if these requirements are not met:\n",
    "\n",
    "    \n",
    "* Comment your code;\n",
    "* Each graph should have a title, labels for each axis, and (if needed) a legend. Each graph should be understandable on its own;\n",
    "* Try and minimize the use of the global namespace (meaning, keep things inside functions).\n",
    "---"
   ]
  },
  {
   "cell_type": "markdown",
   "id": "aae36a3a",
   "metadata": {},
   "source": [
    "### Import libraries"
   ]
  },
  {
   "cell_type": "code",
   "execution_count": 3,
   "id": "eb3b00c6",
   "metadata": {},
   "outputs": [
    {
     "name": "stdout",
     "output_type": "stream",
     "text": [
      "Collecting numpyNote: you may need to restart the kernel to use updated packages.\n"
     ]
    },
    {
     "name": "stderr",
     "output_type": "stream",
     "text": [
      "\n",
      "[notice] A new release of pip is available: 24.1.1 -> 24.2\n",
      "[notice] To update, run: python.exe -m pip install --upgrade pip\n"
     ]
    },
    {
     "name": "stdout",
     "output_type": "stream",
     "text": [
      "\n",
      "  Downloading numpy-2.1.0-cp312-cp312-win_amd64.whl.metadata (59 kB)\n",
      "     ---------------------------------------- 0.0/59.7 kB ? eta -:--:--\n",
      "     ---------------------------------------- 59.7/59.7 kB 3.1 MB/s eta 0:00:00\n",
      "Downloading numpy-2.1.0-cp312-cp312-win_amd64.whl (12.6 MB)\n",
      "   ---------------------------------------- 0.0/12.6 MB ? eta -:--:--\n",
      "    --------------------------------------- 0.2/12.6 MB 13.0 MB/s eta 0:00:01\n",
      "   - -------------------------------------- 0.5/12.6 MB 8.6 MB/s eta 0:00:02\n",
      "   - -------------------------------------- 0.6/12.6 MB 7.7 MB/s eta 0:00:02\n",
      "   - -------------------------------------- 0.6/12.6 MB 7.7 MB/s eta 0:00:02\n",
      "   - -------------------------------------- 0.6/12.6 MB 7.7 MB/s eta 0:00:02\n",
      "   - -------------------------------------- 0.6/12.6 MB 7.7 MB/s eta 0:00:02\n",
      "   - -------------------------------------- 0.6/12.6 MB 7.7 MB/s eta 0:00:02\n",
      "   -- ------------------------------------- 0.7/12.6 MB 2.1 MB/s eta 0:00:06\n",
      "   -- ------------------------------------- 0.7/12.6 MB 1.8 MB/s eta 0:00:07\n",
      "   -- ------------------------------------- 0.9/12.6 MB 2.1 MB/s eta 0:00:06\n",
      "   ---- ----------------------------------- 1.3/12.6 MB 2.6 MB/s eta 0:00:05\n",
      "   ---- ----------------------------------- 1.3/12.6 MB 2.6 MB/s eta 0:00:05\n",
      "   ---- ----------------------------------- 1.3/12.6 MB 2.6 MB/s eta 0:00:05\n",
      "   ---- ----------------------------------- 1.3/12.6 MB 2.6 MB/s eta 0:00:05\n",
      "   ---- ----------------------------------- 1.3/12.6 MB 2.6 MB/s eta 0:00:05\n",
      "   ---- ----------------------------------- 1.3/12.6 MB 2.6 MB/s eta 0:00:05\n",
      "   ---- ----------------------------------- 1.3/12.6 MB 1.8 MB/s eta 0:00:07\n",
      "   ---- ----------------------------------- 1.4/12.6 MB 1.7 MB/s eta 0:00:07\n",
      "   ---- ----------------------------------- 1.4/12.6 MB 1.7 MB/s eta 0:00:07\n",
      "   ---- ----------------------------------- 1.4/12.6 MB 1.7 MB/s eta 0:00:07\n",
      "   ---- ----------------------------------- 1.4/12.6 MB 1.7 MB/s eta 0:00:07\n",
      "   ---- ----------------------------------- 1.4/12.6 MB 1.7 MB/s eta 0:00:07\n",
      "   ---- ----------------------------------- 1.4/12.6 MB 1.7 MB/s eta 0:00:07\n",
      "   ---- ----------------------------------- 1.5/12.6 MB 1.3 MB/s eta 0:00:09\n",
      "   ---- ----------------------------------- 1.5/12.6 MB 1.3 MB/s eta 0:00:09\n",
      "   ---- ----------------------------------- 1.5/12.6 MB 1.3 MB/s eta 0:00:09\n",
      "   ----- ---------------------------------- 1.6/12.6 MB 1.3 MB/s eta 0:00:09\n",
      "   ----- ---------------------------------- 1.6/12.6 MB 1.3 MB/s eta 0:00:09\n",
      "   ----- ---------------------------------- 1.6/12.6 MB 1.3 MB/s eta 0:00:09\n",
      "   ----- ---------------------------------- 1.6/12.6 MB 1.3 MB/s eta 0:00:09\n",
      "   ----- ---------------------------------- 1.6/12.6 MB 1.3 MB/s eta 0:00:09\n",
      "   ----- ---------------------------------- 1.6/12.6 MB 1.3 MB/s eta 0:00:09\n",
      "   ----- ---------------------------------- 1.7/12.6 MB 1.1 MB/s eta 0:00:10\n",
      "   ----- ---------------------------------- 1.7/12.6 MB 1.1 MB/s eta 0:00:10\n",
      "   ------ --------------------------------- 1.9/12.6 MB 1.2 MB/s eta 0:00:10\n",
      "   ------ --------------------------------- 2.1/12.6 MB 1.2 MB/s eta 0:00:09\n",
      "   ------- -------------------------------- 2.3/12.6 MB 1.3 MB/s eta 0:00:08\n",
      "   -------- ------------------------------- 2.5/12.6 MB 1.4 MB/s eta 0:00:07\n",
      "   -------- ------------------------------- 2.6/12.6 MB 1.5 MB/s eta 0:00:07\n",
      "   -------- ------------------------------- 2.7/12.6 MB 1.5 MB/s eta 0:00:07\n",
      "   --------- ------------------------------ 2.9/12.6 MB 1.6 MB/s eta 0:00:07\n",
      "   ---------- ----------------------------- 3.2/12.6 MB 1.7 MB/s eta 0:00:06\n",
      "   ----------- ---------------------------- 3.5/12.6 MB 1.8 MB/s eta 0:00:06\n",
      "   ------------ --------------------------- 3.8/12.6 MB 1.9 MB/s eta 0:00:05\n",
      "   ------------ --------------------------- 4.0/12.6 MB 2.0 MB/s eta 0:00:05\n",
      "   ------------ --------------------------- 4.1/12.6 MB 2.0 MB/s eta 0:00:05\n",
      "   ------------ --------------------------- 4.1/12.6 MB 2.0 MB/s eta 0:00:05\n",
      "   ------------ --------------------------- 4.1/12.6 MB 2.0 MB/s eta 0:00:05\n",
      "   ------------ --------------------------- 4.1/12.6 MB 2.0 MB/s eta 0:00:05\n",
      "   ------------ --------------------------- 4.1/12.6 MB 2.0 MB/s eta 0:00:05\n",
      "   ------------- -------------------------- 4.1/12.6 MB 1.8 MB/s eta 0:00:05\n",
      "   ------------- -------------------------- 4.2/12.6 MB 1.8 MB/s eta 0:00:05\n",
      "   -------------- ------------------------- 4.4/12.6 MB 1.8 MB/s eta 0:00:05\n",
      "   -------------- ------------------------- 4.4/12.6 MB 1.8 MB/s eta 0:00:05\n",
      "   -------------- ------------------------- 4.4/12.6 MB 1.8 MB/s eta 0:00:05\n",
      "   -------------- ------------------------- 4.4/12.6 MB 1.8 MB/s eta 0:00:05\n",
      "   -------------- ------------------------- 4.4/12.6 MB 1.8 MB/s eta 0:00:05\n",
      "   -------------- ------------------------- 4.4/12.6 MB 1.8 MB/s eta 0:00:05\n",
      "   -------------- ------------------------- 4.5/12.6 MB 1.7 MB/s eta 0:00:05\n",
      "   -------------- ------------------------- 4.5/12.6 MB 1.6 MB/s eta 0:00:05\n",
      "   -------------- ------------------------- 4.5/12.6 MB 1.6 MB/s eta 0:00:05\n",
      "   -------------- ------------------------- 4.6/12.6 MB 1.6 MB/s eta 0:00:05\n",
      "   -------------- ------------------------- 4.7/12.6 MB 1.6 MB/s eta 0:00:05\n",
      "   --------------- ------------------------ 4.9/12.6 MB 1.7 MB/s eta 0:00:05\n",
      "   ---------------- ----------------------- 5.2/12.6 MB 1.7 MB/s eta 0:00:05\n",
      "   ----------------- ---------------------- 5.5/12.6 MB 1.8 MB/s eta 0:00:04\n",
      "   ----------------- ---------------------- 5.6/12.6 MB 1.8 MB/s eta 0:00:04\n",
      "   ----------------- ---------------------- 5.6/12.6 MB 1.8 MB/s eta 0:00:04\n",
      "   ----------------- ---------------------- 5.6/12.6 MB 1.8 MB/s eta 0:00:04\n",
      "   ----------------- ---------------------- 5.6/12.6 MB 1.8 MB/s eta 0:00:04\n",
      "   ----------------- ---------------------- 5.6/12.6 MB 1.8 MB/s eta 0:00:04\n",
      "   ----------------- ---------------------- 5.6/12.6 MB 1.7 MB/s eta 0:00:05\n",
      "   ------------------ --------------------- 5.7/12.6 MB 1.7 MB/s eta 0:00:05\n",
      "   ------------------ --------------------- 5.7/12.6 MB 1.7 MB/s eta 0:00:05\n",
      "   ------------------ --------------------- 5.7/12.6 MB 1.7 MB/s eta 0:00:05\n",
      "   ------------------ --------------------- 5.8/12.6 MB 1.6 MB/s eta 0:00:05\n",
      "   ------------------- -------------------- 6.0/12.6 MB 1.7 MB/s eta 0:00:04\n",
      "   ------------------- -------------------- 6.2/12.6 MB 1.7 MB/s eta 0:00:04\n",
      "   -------------------- ------------------- 6.4/12.6 MB 1.7 MB/s eta 0:00:04\n",
      "   -------------------- ------------------- 6.6/12.6 MB 1.8 MB/s eta 0:00:04\n",
      "   --------------------- ------------------ 6.8/12.6 MB 1.8 MB/s eta 0:00:04\n",
      "   ---------------------- ----------------- 7.0/12.6 MB 1.9 MB/s eta 0:00:03\n",
      "   ----------------------- ---------------- 7.3/12.6 MB 1.9 MB/s eta 0:00:03\n",
      "   ----------------------- ---------------- 7.4/12.6 MB 1.9 MB/s eta 0:00:03\n",
      "   ------------------------ --------------- 7.6/12.6 MB 1.9 MB/s eta 0:00:03\n",
      "   ------------------------- -------------- 7.9/12.6 MB 2.0 MB/s eta 0:00:03\n",
      "   -------------------------- ------------- 8.2/12.6 MB 2.0 MB/s eta 0:00:03\n",
      "   -------------------------- ------------- 8.5/12.6 MB 2.1 MB/s eta 0:00:02\n",
      "   --------------------------- ------------ 8.7/12.6 MB 2.1 MB/s eta 0:00:02\n",
      "   ----------------------------- ---------- 9.1/12.6 MB 2.2 MB/s eta 0:00:02\n",
      "   ------------------------------ --------- 9.5/12.6 MB 2.3 MB/s eta 0:00:02\n",
      "   ------------------------------- -------- 9.9/12.6 MB 2.3 MB/s eta 0:00:02\n",
      "   -------------------------------- ------- 10.3/12.6 MB 2.4 MB/s eta 0:00:01\n",
      "   --------------------------------- ------ 10.7/12.6 MB 2.4 MB/s eta 0:00:01\n",
      "   ----------------------------------- ---- 11.1/12.6 MB 2.6 MB/s eta 0:00:01\n",
      "   ------------------------------------ --- 11.6/12.6 MB 2.8 MB/s eta 0:00:01\n",
      "   -------------------------------------- - 12.0/12.6 MB 3.5 MB/s eta 0:00:01\n",
      "   ---------------------------------------  12.4/12.6 MB 3.6 MB/s eta 0:00:01\n",
      "   ---------------------------------------  12.6/12.6 MB 3.6 MB/s eta 0:00:01\n",
      "   ---------------------------------------  12.6/12.6 MB 3.6 MB/s eta 0:00:01\n",
      "   ---------------------------------------- 12.6/12.6 MB 3.5 MB/s eta 0:00:00\n",
      "Installing collected packages: numpy\n",
      "Successfully installed numpy-2.1.0\n"
     ]
    }
   ],
   "source": [
    "pip install numpy"
   ]
  },
  {
   "cell_type": "code",
   "execution_count": 4,
   "id": "1d2c9a02",
   "metadata": {},
   "outputs": [],
   "source": [
    "import numpy as np\n",
    "np.random.seed(seed=1)"
   ]
  },
  {
   "cell_type": "markdown",
   "id": "8fb0f91b",
   "metadata": {},
   "source": [
    "---\n",
    "### <span style=\"color:chocolate\">Exercise 1:</span> Homogenous data types (10 points)\n",
    "\n",
    "1. Create a numpy array (my_array1) containing only integer values. Print the shape of the array and the type of its elements;\n",
    "2. Create another numpy array (my_array2) containing a mix of integer and string values. Print the shape of the array and the type of its elements. Comment on the type of its elements."
   ]
  },
  {
   "cell_type": "code",
   "execution_count": 5,
   "id": "49c4add6",
   "metadata": {},
   "outputs": [
    {
     "name": "stdout",
     "output_type": "stream",
     "text": [
      "Shape of my_array1: (5,)\n",
      "Data type of my_array1 elements: int32\n",
      "Shape of my_array2: (5,)\n",
      "Data type of my_array2 elements: <U21\n"
     ]
    }
   ],
   "source": [
    "# YOUR CODE HERE\n",
    "my_array1 = np.random.randint(0, 10, size=5)\n",
    "print(\"Shape of my_array1:\", my_array1.shape)\n",
    "print(\"Data type of my_array1 elements:\", my_array1.dtype)\n",
    "\n",
    "my_array2 = np.array([1, \"two\", 3, \"four\", 5])\n",
    "print(\"Shape of my_array2:\", my_array2.shape)\n",
    "print(\"Data type of my_array2 elements:\", my_array2.dtype)"
   ]
  },
  {
   "cell_type": "markdown",
   "id": "8becfbd2",
   "metadata": {},
   "source": [
    "---\n",
    "#### <span style=\"color:chocolate\">Exercise 2:</span> The size attribute (10 points)\n",
    "\n",
    "Create a numpy array (my_array3) and print its shape, size, and data type. What does size represent?"
   ]
  },
  {
   "cell_type": "code",
   "execution_count": null,
   "id": "8733dbc0",
   "metadata": {},
   "outputs": [],
   "source": [
    "# YOUR CODE HERE"
   ]
  },
  {
   "cell_type": "markdown",
   "id": "89731f88",
   "metadata": {},
   "source": [
    "---\n",
    "#### <span style=\"color:chocolate\">Exercise 3:</span> Tabular data layout (10 points)"
   ]
  },
  {
   "cell_type": "markdown",
   "id": "89c8c4d9",
   "metadata": {},
   "source": [
    "Create a tabular data layout using the numpy method <span style=\"color:chocolate\">np.random.random()</span>, where:\n",
    "* the first input is num_samples, and\n",
    "* the second input is num_features. \n",
    "\n",
    "Print the shape of the array."
   ]
  },
  {
   "cell_type": "code",
   "execution_count": null,
   "id": "dcabc0b0",
   "metadata": {},
   "outputs": [],
   "source": [
    "# already defined first and second inputs\n",
    "num_samples = 100\n",
    "num_features = 17\n",
    "\n",
    "# YOUR CODE HERE"
   ]
  },
  {
   "cell_type": "markdown",
   "id": "9ea1e400",
   "metadata": {},
   "source": [
    "---\n",
    "#### <span style=\"color:chocolate\">Exercise 4:</span> Image data layout (10 points)"
   ]
  },
  {
   "cell_type": "markdown",
   "id": "7c5b220a",
   "metadata": {},
   "source": [
    "Create an image data layout using the numpy method <span style=\"color:chocolate\">np.random.random()</span>, where:\n",
    "\n",
    "* the first input is num_images;\n",
    "* the second input is num_rows;\n",
    "* the third input is num_cols;\n",
    "* the fourth input is num_channels.\n",
    "\n",
    "Print the shape of the array."
   ]
  },
  {
   "cell_type": "code",
   "execution_count": null,
   "id": "9b371f29",
   "metadata": {},
   "outputs": [],
   "source": [
    "# already defined inputs\n",
    "num_images = 100\n",
    "num_rows = 256\n",
    "num_cols = 256\n",
    "num_channels = 3 #(RGB)\n",
    "\n",
    "# YOUR CODE HERE"
   ]
  },
  {
   "cell_type": "markdown",
   "id": "19d7b075",
   "metadata": {},
   "source": [
    "---\n",
    "#### <span style=\"color:chocolate\">Exercise 5: </span>Mathematical operations on numpy arrays (15 points)"
   ]
  },
  {
   "cell_type": "markdown",
   "id": "b88b701f",
   "metadata": {},
   "source": [
    "Create a (3, 2) numpy array (you can name it my_array4) containing only integer values. Perform the following tasks:\n",
    "\n",
    "1. Print the shape of the array;\n",
    "2. Print the sum of all elements (hint: the axis argument is set to None);\n",
    "3. Print the sum of all elements by column;\n",
    "3. Print the sum of all elements by row and change the type of the resulting array elements to float;\n",
    "5. Print the first row of the array;\n",
    "6. Print the second row of the array;\n",
    "7. Select the element at position (1, 0);\n",
    "8. Modify the element at position (2, 1) by setting its value to 10 and print the array again;\n",
    "9. Loop over elements in the array. Print the output."
   ]
  },
  {
   "cell_type": "code",
   "execution_count": null,
   "id": "5efe6c22",
   "metadata": {},
   "outputs": [],
   "source": [
    "# YOUR CODE HERE"
   ]
  },
  {
   "cell_type": "markdown",
   "id": "7a7e249a",
   "metadata": {},
   "source": [
    "You can find more examples here: https://numpy.org/doc/stable/reference/routines.math.html"
   ]
  },
  {
   "cell_type": "markdown",
   "id": "7f71edb9",
   "metadata": {},
   "source": [
    "---\n",
    "#### <span style=\"color:chocolate\">Exercise 6:</span> Create arrays (15 points)\n",
    "\n",
    "1. Create and print a (3,2) numpy array of pixel values between 0 and 1.\n",
    "2. Create and print a (27,) numpy array representing years from 1991 to 2017\n",
    "3. Create and print a (3, 5, 10) numpy array of zeros\n",
    "4. Create and print a (3, 5, 10) numpy array of ones\n",
    "5. Create and print an array with a constant value (let's say 5) using np.ones()\n",
    "6. Create and print an array with random numbers drawn from a normal distribution with mean 0 and standard deviation 1. Set the sample size to 10.\n"
   ]
  },
  {
   "cell_type": "code",
   "execution_count": null,
   "id": "b1bf53cb",
   "metadata": {},
   "outputs": [],
   "source": [
    "# YOUR CODE HERE"
   ]
  },
  {
   "cell_type": "markdown",
   "id": "4fd05963",
   "metadata": {},
   "source": [
    "---\n",
    "#### <span style=\"color:chocolate\">Exercise 7:</span> Reshape arrays (10 points)"
   ]
  },
  {
   "cell_type": "markdown",
   "id": "e139e4eb",
   "metadata": {},
   "source": [
    "Consider the following array:"
   ]
  },
  {
   "cell_type": "code",
   "execution_count": null,
   "id": "a5a192dc",
   "metadata": {},
   "outputs": [],
   "source": [
    "years = np.arange(1991, 2018, 1)\n",
    "print(years.shape)"
   ]
  },
  {
   "cell_type": "markdown",
   "id": "d3255640",
   "metadata": {},
   "source": [
    "Perform the following operations on this array:\n",
    "    \n",
    "1. Create 3 nested arrays, each of size (3, 3). Call this array years_3d;\n",
    "2. Convert the years_3d array to a flat 1D array. Call this array years_1d;\n",
    "3. Add a new axis (in front) to the years_1d array. Call this array years_2d;\n",
    "4. Remove the first axis from years_2d array. Call this array years_1d.\n",
    "\n",
    "For each exercise print the array and its shape."
   ]
  },
  {
   "cell_type": "code",
   "execution_count": null,
   "id": "ab18878a",
   "metadata": {},
   "outputs": [],
   "source": [
    "# YOUR CODE HERE"
   ]
  },
  {
   "cell_type": "markdown",
   "id": "6a3a4011",
   "metadata": {},
   "source": [
    "---\n",
    "#### <span style=\"color:chocolate\">Exercise 8:</span> Joining arrays (10 points)"
   ]
  },
  {
   "cell_type": "markdown",
   "id": "5382a84a",
   "metadata": {},
   "source": [
    "Provide 8 examples that use the methods <span style=\"color:cornflowerBlue\">np.concatenate()</span> and <span style=\"color:cornflowerBlue\">np.stack()</span>. Note: create 4 examples using each method."
   ]
  },
  {
   "cell_type": "code",
   "execution_count": null,
   "id": "a9c2ff1a",
   "metadata": {},
   "outputs": [],
   "source": [
    "# YOUR CODE HERE"
   ]
  },
  {
   "cell_type": "markdown",
   "id": "7780b5b8",
   "metadata": {},
   "source": [
    "---\n",
    "#### <span style=\"color:chocolate\">Numpy broadcasting</span> "
   ]
  },
  {
   "cell_type": "markdown",
   "id": "d105a999",
   "metadata": {},
   "source": [
    "The term broadcasting describes how NumPy treats arrays during arithmetic operations. You can find more here:  https://numpy.org/doc/stable/user/basics.broadcasting.html"
   ]
  },
  {
   "cell_type": "code",
   "execution_count": null,
   "id": "ce9ca817",
   "metadata": {},
   "outputs": [],
   "source": [
    "# multiplying an array with a scalar\n",
    "years = np.arange(1991, 2018, 1)\n",
    "years * 1"
   ]
  },
  {
   "cell_type": "code",
   "execution_count": null,
   "id": "d2150eb6",
   "metadata": {},
   "outputs": [],
   "source": [
    "# adding a scalar\n",
    "years + 2"
   ]
  },
  {
   "cell_type": "code",
   "execution_count": null,
   "id": "d7319a34",
   "metadata": {},
   "outputs": [],
   "source": [
    "# many arithmetic operations are applied element wise on a pair of arrays\n",
    "a = np.arange(3)\n",
    "print('Array a:', a)\n",
    "b = np.arange(3)\n",
    "print('Array b:', b)\n",
    "print('Sum of a and b:', a+b)"
   ]
  },
  {
   "cell_type": "code",
   "execution_count": null,
   "id": "44ac94cd",
   "metadata": {},
   "outputs": [],
   "source": [
    "# another example\n",
    "a = np.ones((3, 3))\n",
    "print('Array a:', a)\n",
    "b = np.arange(3)\n",
    "print('\\nArray b:', b)\n",
    "print('\\nSum of a and b:', a+b)"
   ]
  },
  {
   "cell_type": "markdown",
   "id": "85e7d3c8",
   "metadata": {},
   "source": [
    "---\n",
    "#### <span style=\"color:chocolate\">Exercise 9:</span> Numpy array standardization (10 points)"
   ]
  },
  {
   "cell_type": "markdown",
   "id": "9bccc9d7",
   "metadata": {},
   "source": [
    "Consider the following (10, 4) array:"
   ]
  },
  {
   "cell_type": "code",
   "execution_count": null,
   "id": "02a2102e",
   "metadata": {},
   "outputs": [],
   "source": [
    "my_array = np.random.random((10, 4))\n",
    "print('my_array shape: ', my_array.shape)\n",
    "my_array"
   ]
  },
  {
   "cell_type": "markdown",
   "id": "c505935d",
   "metadata": {},
   "source": [
    "Peform the following operations on this array:\n",
    "1. Compute and print the mean and std for each column (note: set keepdims=True for proper broadcasting).\n",
    "2. Standardize and print the array and its shape using the mean and std you computed above."
   ]
  },
  {
   "cell_type": "code",
   "execution_count": null,
   "id": "5a88c63d",
   "metadata": {},
   "outputs": [],
   "source": [
    "# YOUR CODE HERE"
   ]
  },
  {
   "cell_type": "markdown",
   "id": "ebe2eaa0",
   "metadata": {},
   "source": [
    "----\n",
    "#### <span style=\"color:chocolate\">Additional practice question</span> (not graded)"
   ]
  },
  {
   "cell_type": "markdown",
   "id": "d43bdaa7",
   "metadata": {},
   "source": [
    "Consider the following image:"
   ]
  },
  {
   "cell_type": "code",
   "execution_count": null,
   "id": "e7c61c06",
   "metadata": {},
   "outputs": [],
   "source": [
    "my_image = np.arange(0, 1, 0.04).reshape(5,5)\n",
    "print(my_image)\n",
    "my_image.shape"
   ]
  },
  {
   "cell_type": "markdown",
   "id": "78f029bd",
   "metadata": {},
   "source": [
    "Perform the following operations on this image (do not overwrite the original image):\n",
    "\n",
    "1. Crop by using a border of size 1;\n",
    "2. Crop by removing:\n",
    "    * the first and the last two rows, and\n",
    "    * the first and the last two columns;\n",
    "3. Reverse the column order;\n",
    "4. set to 0.5 elements divizible by 2."
   ]
  },
  {
   "cell_type": "code",
   "execution_count": null,
   "id": "d7dadfcf",
   "metadata": {},
   "outputs": [],
   "source": [
    "# YOUR CODE HERE"
   ]
  }
 ],
 "metadata": {
  "kernelspec": {
   "display_name": "Python 3 (ipykernel)",
   "language": "python",
   "name": "python3"
  },
  "language_info": {
   "codemirror_mode": {
    "name": "ipython",
    "version": 3
   },
   "file_extension": ".py",
   "mimetype": "text/x-python",
   "name": "python",
   "nbconvert_exporter": "python",
   "pygments_lexer": "ipython3",
   "version": "3.12.5"
  }
 },
 "nbformat": 4,
 "nbformat_minor": 5
}
