{
 "cells": [
  {
   "cell_type": "markdown",
   "metadata": {
    "id": "MKsRDH5ZUdfasdv"
   },
   "source": [
    "# Assignment 9"
   ]
  },
  {
   "cell_type": "markdown",
   "metadata": {},
   "source": [
    "### <span style=\"color:chocolate\"> Submission requirements </span>\n",
    "\n",
    "Your work will not be graded if your notebook doesn't include output. In other words, <span style=\"color:red\"> make sure to rerun your notebook before submitting to Gradescope </span> (Note: if you are using Google Colab: go to Edit > Notebook Settings  and uncheck Omit code cell output when saving this notebook, otherwise the output is not printed).\n",
    "\n",
    "Additional points may be deducted if these requirements are not met:\n",
    "\n",
    "    \n",
    "* Comment your code;\n",
    "* Each graph should have a title, labels for each axis, and (if needed) a legend. Each graph should be understandable on its own;\n",
    "* Try and minimize the use of the global namespace (meaning, keep things inside functions).\n",
    "---"
   ]
  },
  {
   "cell_type": "markdown",
   "metadata": {},
   "source": [
    "### Import libraries"
   ]
  },
  {
   "cell_type": "code",
   "execution_count": 1,
   "metadata": {},
   "outputs": [
    {
     "name": "stdout",
     "output_type": "stream",
     "text": [
      "Requirement already satisfied: plotly in c:\\users\\myk53\\hello\\.venv\\lib\\site-packages (5.24.1)\n",
      "Requirement already satisfied: tenacity>=6.2.0 in c:\\users\\myk53\\hello\\.venv\\lib\\site-packages (from plotly) (9.0.0)\n",
      "Requirement already satisfied: packaging in c:\\users\\myk53\\hello\\.venv\\lib\\site-packages (from plotly) (24.1)\n"
     ]
    },
    {
     "name": "stderr",
     "output_type": "stream",
     "text": [
      "\n",
      "[notice] A new release of pip is available: 24.2 -> 24.3.1\n",
      "[notice] To update, run: python.exe -m pip install --upgrade pip\n"
     ]
    }
   ],
   "source": [
    "!pip install plotly"
   ]
  },
  {
   "cell_type": "code",
   "execution_count": 2,
   "metadata": {
    "id": "7X58hOMTUH-w"
   },
   "outputs": [],
   "source": [
    "import numpy as np\n",
    "from matplotlib import pyplot as plt\n",
    "import pandas as pd\n",
    "import seaborn as sns  # for nicer plots\n",
    "sns.set(style=\"darkgrid\")  # default style\n",
    "import plotly.graph_objs as plotly  # for interactive plots\n",
    "\n",
    "import tensorflow as tf\n",
    "from tensorflow.keras.datasets import imdb"
   ]
  },
  {
   "cell_type": "markdown",
   "metadata": {},
   "source": [
    "---\n",
    "### Step 1: Data ingestion"
   ]
  },
  {
   "cell_type": "markdown",
   "metadata": {
    "id": "eqppUDpmdptk"
   },
   "source": [
    "In this lab, you'll train a <span style=\"color:chocolate\">sentiment</span> classifier for movie reviews. \n",
    "\n",
    "* The input is the text of a movie review;\n",
    "* The output is the probability the input is a positive review.\n",
    "* The target labels are binary, 0 for negative and 1 for positive.\n",
    "\n",
    "The data includes 50,000 movie reviews on IMDB. The data comes pre-segmented into train and test splits. The [data loading function](https://www.tensorflow.org/api_docs/python/tf/keras/datasets/imdb/load_data) below also splits each input text into tokens (words), and maps the words to integer values. Each input is a sequence of integers corresponding to the words."
   ]
  },
  {
   "cell_type": "code",
   "execution_count": 3,
   "metadata": {
    "colab": {
     "base_uri": "https://localhost:8080/"
    },
    "executionInfo": {
     "elapsed": 5870,
     "status": "ok",
     "timestamp": 1646684495083,
     "user": {
      "displayName": "Daniel Gillick",
      "photoUrl": "https://lh3.googleusercontent.com/a-/AOh14Gg9DrSMlwYnG9EolecuJqe8n9m7fpcje4_UbYrhQ10=s64",
      "userId": "01872965353911650729"
     },
     "user_tz": 600
    },
    "id": "s6M-asvhQWV_",
    "outputId": "1aca520b-e1b6-4006-ac44-78ff33ac6da9"
   },
   "outputs": [
    {
     "name": "stdout",
     "output_type": "stream",
     "text": [
      "X_train.shape: (25000,)\n",
      "Y_train.shape: (25000,)\n",
      "X_test.shape: (25000,)\n",
      "Y_test.shape: (25000,)\n"
     ]
    }
   ],
   "source": [
    "# read data\n",
    "(X_train, Y_train), (X_test, Y_test) = imdb.load_data(path=\"imdb.npz\",\n",
    "                                                      num_words=None,\n",
    "                                                      skip_top=0,\n",
    "                                                      maxlen=None,\n",
    "                                                      seed=113,\n",
    "                                                      start_char=1,\n",
    "                                                      oov_char=2,\n",
    "                                                      index_from=3)\n",
    "\n",
    "print(\"X_train.shape:\", X_train.shape)\n",
    "print(\"Y_train.shape:\", Y_train.shape)\n",
    "print(\"X_test.shape:\", X_test.shape)\n",
    "print(\"Y_test.shape:\", Y_test.shape)"
   ]
  },
  {
   "cell_type": "markdown",
   "metadata": {},
   "source": [
    "---\n",
    "### Step 2: Data preprocessing"
   ]
  },
  {
   "cell_type": "markdown",
   "metadata": {},
   "source": [
    "Let's have a look at the first training example:"
   ]
  },
  {
   "cell_type": "code",
   "execution_count": 4,
   "metadata": {},
   "outputs": [
    {
     "name": "stdout",
     "output_type": "stream",
     "text": [
      "First training example data: [1, 14, 22, 16, 43, 530, 973, 1622, 1385, 65, 458, 4468, 66, 3941, 4, 173, 36, 256, 5, 25, 100, 43, 838, 112, 50, 670, 22665, 9, 35, 480, 284, 5, 150, 4, 172, 112, 167, 21631, 336, 385, 39, 4, 172, 4536, 1111, 17, 546, 38, 13, 447, 4, 192, 50, 16, 6, 147, 2025, 19, 14, 22, 4, 1920, 4613, 469, 4, 22, 71, 87, 12, 16, 43, 530, 38, 76, 15, 13, 1247, 4, 22, 17, 515, 17, 12, 16, 626, 18, 19193, 5, 62, 386, 12, 8, 316, 8, 106, 5, 4, 2223, 5244, 16, 480, 66, 3785, 33, 4, 130, 12, 16, 38, 619, 5, 25, 124, 51, 36, 135, 48, 25, 1415, 33, 6, 22, 12, 215, 28, 77, 52, 5, 14, 407, 16, 82, 10311, 8, 4, 107, 117, 5952, 15, 256, 4, 31050, 7, 3766, 5, 723, 36, 71, 43, 530, 476, 26, 400, 317, 46, 7, 4, 12118, 1029, 13, 104, 88, 4, 381, 15, 297, 98, 32, 2071, 56, 26, 141, 6, 194, 7486, 18, 4, 226, 22, 21, 134, 476, 26, 480, 5, 144, 30, 5535, 18, 51, 36, 28, 224, 92, 25, 104, 4, 226, 65, 16, 38, 1334, 88, 12, 16, 283, 5, 16, 4472, 113, 103, 32, 15, 16, 5345, 19, 178, 32]\n",
      "First training example label: 1\n"
     ]
    }
   ],
   "source": [
    "print('First training example data:', X_train[0])\n",
    "print('First training example label:', Y_train[0])"
   ]
  },
  {
   "cell_type": "markdown",
   "metadata": {
    "id": "MyIWiy-4gQK-"
   },
   "source": [
    "As you can see, the first training example is a positive review. However, that sequence of integer IDs is hard to read. \n",
    "\n",
    "The data loader provides a dictionary mapping words to IDs. Let's create a reverse index.\n"
   ]
  },
  {
   "cell_type": "code",
   "execution_count": 5,
   "metadata": {
    "colab": {
     "base_uri": "https://localhost:8080/"
    },
    "executionInfo": {
     "elapsed": 801,
     "status": "ok",
     "timestamp": 1646684508506,
     "user": {
      "displayName": "Daniel Gillick",
      "photoUrl": "https://lh3.googleusercontent.com/a-/AOh14Gg9DrSMlwYnG9EolecuJqe8n9m7fpcje4_UbYrhQ10=s64",
      "userId": "01872965353911650729"
     },
     "user_tz": 600
    },
    "id": "HQ-qATkhUj7c",
    "outputId": "eea86a69-fe6a-4cdb-ac8c-9307a5118e47"
   },
   "outputs": [
    {
     "name": "stdout",
     "output_type": "stream",
     "text": [
      "Largest ID: 88587\n"
     ]
    }
   ],
   "source": [
    "# The imdb dataset comes with an index mapping words to integers.\n",
    "# In the index the words are ordered by frequency they occur.\n",
    "index = imdb.get_word_index()\n",
    "\n",
    "# Because we used index_from=3 (above), setting aside ids below 3 for special\n",
    "# symbols, we need to add 3 to the index values.\n",
    "index = dict([(key, value+3) for (key, value) in index.items()])\n",
    "\n",
    "# Create a reverse index so we can lookup tokens assigned to each id.\n",
    "reverse_index = dict([(value, key) for (key, value) in index.items()])\n",
    "reverse_index[1] = '<START>'  # start of input\n",
    "reverse_index[2] = '#'        # out-of-vocabulary (OOV)\n",
    "reverse_index[3] = '<UNUSED>'\n",
    "\n",
    "max_id = max(reverse_index.keys())\n",
    "print('Largest ID:', max_id)"
   ]
  },
  {
   "cell_type": "markdown",
   "metadata": {
    "id": "h76-b07ehWNQ"
   },
   "source": [
    "Note that our index (and reverse index) have <span style=\"color:chocolate\">88,587</span> tokens. That's quite <span style=\"color:chocolate\">a large vocabulary</span>! \n",
    "\n",
    "Next, let's write a decoding function for our data."
   ]
  },
  {
   "cell_type": "code",
   "execution_count": 6,
   "metadata": {
    "colab": {
     "base_uri": "https://localhost:8080/"
    },
    "executionInfo": {
     "elapsed": 358,
     "status": "ok",
     "timestamp": 1646684531998,
     "user": {
      "displayName": "Daniel Gillick",
      "photoUrl": "https://lh3.googleusercontent.com/a-/AOh14Gg9DrSMlwYnG9EolecuJqe8n9m7fpcje4_UbYrhQ10=s64",
      "userId": "01872965353911650729"
     },
     "user_tz": 600
    },
    "id": "UjobmouHS5Dm",
    "outputId": "29975a48-7fda-4600-bd0c-693c35dd8a54"
   },
   "outputs": [
    {
     "name": "stdout",
     "output_type": "stream",
     "text": [
      "[1, 14, 22, 16, 43, 530, 973, 1622, 1385, 65, 458, 4468, 66, 3941, 4, 173, 36, 256, 5, 25, 100, 43, 838, 112, 50, 670, 22665, 9, 35, 480, 284, 5, 150, 4, 172, 112, 167, 21631, 336, 385, 39, 4, 172, 4536, 1111, 17, 546, 38, 13, 447, 4, 192, 50, 16, 6, 147, 2025, 19, 14, 22, 4, 1920, 4613, 469, 4, 22, 71, 87, 12, 16, 43, 530, 38, 76, 15, 13, 1247, 4, 22, 17, 515, 17, 12, 16, 626, 18, 19193, 5, 62, 386, 12, 8, 316, 8, 106, 5, 4, 2223, 5244, 16, 480, 66, 3785, 33, 4, 130, 12, 16, 38, 619, 5, 25, 124, 51, 36, 135, 48, 25, 1415, 33, 6, 22, 12, 215, 28, 77, 52, 5, 14, 407, 16, 82, 10311, 8, 4, 107, 117, 5952, 15, 256, 4, 31050, 7, 3766, 5, 723, 36, 71, 43, 530, 476, 26, 400, 317, 46, 7, 4, 12118, 1029, 13, 104, 88, 4, 381, 15, 297, 98, 32, 2071, 56, 26, 141, 6, 194, 7486, 18, 4, 226, 22, 21, 134, 476, 26, 480, 5, 144, 30, 5535, 18, 51, 36, 28, 224, 92, 25, 104, 4, 226, 65, 16, 38, 1334, 88, 12, 16, 283, 5, 16, 4472, 113, 103, 32, 15, 16, 5345, 19, 178, 32]\n",
      "<START> this film was just brilliant casting location scenery story direction everyone's really suited the part they played and you could just imagine being there robert redford's is an amazing actor and now the same being director norman's father came from the same scottish island as myself so i loved the fact there was a real connection with this film the witty remarks throughout the film were great it was just brilliant so much that i bought the film as soon as it was released for retail and would recommend it to everyone to watch and the fly fishing was amazing really cried at the end it was so sad and you know what they say if you cry at a film it must have been good and this definitely was also congratulations to the two little boy's that played the part's of norman and paul they were just brilliant children are often left out of the praising list i think because the stars that play them all grown up are such a big profile for the whole film but these children are amazing and should be praised for what they have done don't you think the whole story was so lovely because it was true and was someone's life after all that was shared with us all\n"
     ]
    }
   ],
   "source": [
    "def decode(token_ids):\n",
    "  \"\"\"Return a string with the decoded text given a list of token ids.\"\"\"\n",
    "  # Try looking up each id in the index, but return '#' (for OOV) if not found.\n",
    "  tokens = [reverse_index.get(i, \"#\") for i in token_ids]\n",
    "\n",
    "  # Connect the string tokens with a space.\n",
    "  return ' '.join(tokens)\n",
    "\n",
    "# Show the ids corresponding tokens in the first example.\n",
    "print(X_train[0])\n",
    "print(decode(X_train[0]))"
   ]
  },
  {
   "cell_type": "markdown",
   "metadata": {},
   "source": [
    "---\n",
    "### Step 3: Exploratory Data Analysis (EDA)"
   ]
  },
  {
   "cell_type": "markdown",
   "metadata": {},
   "source": [
    "### <span style=\"color:chocolate\">Exercise 1:</span> Text lengths (10 points)"
   ]
  },
  {
   "cell_type": "markdown",
   "metadata": {
    "id": "g47w5CackGBA"
   },
   "source": [
    "Using the training reviews data, answer the following questions:\n",
    "\n",
    "1. What are the minimum, maximum, and mean lengths of positive and negative reviews?\n",
    "2. Create a histogram to visualize the distribution of positive and negative review lengths. Make sure to provide a descriptive title and axis labels."
   ]
  },
  {
   "cell_type": "code",
   "execution_count": 7,
   "metadata": {},
   "outputs": [
    {
     "name": "stdout",
     "output_type": "stream",
     "text": [
      "Positive Reviews: min = 13 max = 2494 mean = 241.56296\n",
      "Negative Reviews: min = 11 max = 1571 mean = 235.86432\n"
     ]
    },
    {
     "data": {
      "image/png": "[encoded data removed]",
      "text/plain": [
       "<Figure size 1400x600 with 1 Axes>"
      ]
     },
     "metadata": {},
     "output_type": "display_data"
    }
   ],
   "source": [
    "# YOUR CODE HERE\n",
    "# Calculate review lengths\n",
    "review_lengths = [len(review) for review in X_train]\n",
    "\n",
    "# Separate positive and negative reviews\n",
    "positive_lengths = [len(X_train[i]) for i in range(len(Y_train)) if Y_train[i] == 1]\n",
    "negative_lengths = [len(X_train[i]) for i in range(len(Y_train)) if Y_train[i] == 0]\n",
    "\n",
    "# Display min, max, and mean lengths\n",
    "print(\"Positive Reviews: min =\", np.min(positive_lengths), \n",
    "      \"max =\", np.max(positive_lengths), \n",
    "      \"mean =\", np.mean(positive_lengths))\n",
    "\n",
    "print(\"Negative Reviews: min =\", np.min(negative_lengths), \n",
    "      \"max =\", np.max(negative_lengths), \n",
    "      \"mean =\", np.mean(negative_lengths))\n",
    "\n",
    "# Plot histograms for positive and negative review lengths\n",
    "plt.figure(figsize=(14, 6))\n",
    "plt.hist(positive_lengths, bins=50, alpha=0.5, label=\"Positive Reviews\")\n",
    "plt.hist(negative_lengths, bins=50, alpha=0.5, label=\"Negative Reviews\")\n",
    "plt.title(\"Distribution of Review Lengths for Positive and Negative Reviews\")\n",
    "plt.xlabel(\"Review Length\")\n",
    "plt.ylabel(\"Frequency\")\n",
    "plt.legend(loc=\"upper right\")\n",
    "plt.show()\n"
   ]
  },
  {
   "cell_type": "markdown",
   "metadata": {},
   "source": [
    "### <span style=\"color:chocolate\">Exercise 2:</span> Token counts (10 points)"
   ]
  },
  {
   "cell_type": "markdown",
   "metadata": {
    "id": "c3ZE9gpkml3a"
   },
   "source": [
    "Using the training data, create a table listing the counts of positive and negative examples that contain each token provided below."
   ]
  },
  {
   "cell_type": "code",
   "execution_count": 8,
   "metadata": {
    "id": "8YOYo6d01aWI"
   },
   "outputs": [
    {
     "name": "stdout",
     "output_type": "stream",
     "text": [
      "         Positive Count  Negative Count\n",
      "good               4920            4949\n",
      "bad                1639            4740\n",
      "amazing             943             314\n",
      "boring              313            1224\n",
      "laugh              1241            1824\n",
      "cry                 386             299\n"
     ]
    }
   ],
   "source": [
    "tokens = ['good', 'bad', 'amazing', 'boring', 'laugh', 'cry']\n",
    "# YOUR CODE HERE\n",
    "# Initialize counters for each token in positive and negative reviews\n",
    "token_counts = {token: {'positive': 0, 'negative': 0} for token in tokens}\n",
    "\n",
    "# Iterate through the training data\n",
    "for i in range(len(X_train)):\n",
    "    decoded_review = decode(X_train[i])  # Decode each review\n",
    "    for token in tokens:\n",
    "        if token in decoded_review:  # Check if token is in the review\n",
    "            if Y_train[i] == 1:  # Positive review\n",
    "                token_counts[token]['positive'] += 1\n",
    "            else:  # Negative review\n",
    "                token_counts[token]['negative'] += 1\n",
    "\n",
    "# Convert token counts to a DataFrame for better visualization\n",
    "token_counts_df = pd.DataFrame(token_counts).T\n",
    "token_counts_df.columns = ['Positive Count', 'Negative Count']\n",
    "\n",
    "# Display the table of counts\n",
    "print(token_counts_df)"
   ]
  },
  {
   "cell_type": "markdown",
   "metadata": {},
   "source": [
    "---\n",
    "### Step 4: Data preprocessing (cont'd)"
   ]
  },
  {
   "cell_type": "markdown",
   "metadata": {},
   "source": [
    "As is clear from the review length histogram, the current representation of the review text is a variable-length array. Since fixed-length arrays are easier to work with in Tensorflow, you will add special padding tokens at the end of each review until they are all the same length. You will also truncate all training inputs to a specified length."
   ]
  },
  {
   "cell_type": "markdown",
   "metadata": {},
   "source": [
    "### <span style=\"color:chocolate\">Exercise 3:</span> Reduced length and padding (10 points)"
   ]
  },
  {
   "cell_type": "markdown",
   "metadata": {},
   "source": [
    "Fill in the <span style=\"color:green\">NotImplemented</span> parts of the <span style=\"color:chocolate\">truncate_pad_data()</span> function below by following these instructions:\n",
    "\n",
    "1. Restrict the maximum number of tokens by truncating all reviews to a length of 300;\n",
    "2. Append special padding tokens (value = 0) to the end of each review until all reviews are of the same length."
   ]
  },
  {
   "cell_type": "code",
   "execution_count": 9,
   "metadata": {},
   "outputs": [
    {
     "name": "stdout",
     "output_type": "stream",
     "text": [
      "Length of X_train[0]: 218\n",
      "Length of X_train_padded[0]: 300\n",
      "[    1    14    22    16    43   530   973  1622  1385    65   458  4468\n",
      "    66  3941     4   173    36   256     5    25   100    43   838   112\n",
      "    50   670 22665     9    35   480   284     5   150     4   172   112\n",
      "   167 21631   336   385    39     4   172  4536  1111    17   546    38\n",
      "    13   447     4   192    50    16     6   147  2025    19    14    22\n",
      "     4  1920  4613   469     4    22    71    87    12    16    43   530\n",
      "    38    76    15    13  1247     4    22    17   515    17    12    16\n",
      "   626    18 19193     5    62   386    12     8   316     8   106     5\n",
      "     4  2223  5244    16   480    66  3785    33     4   130    12    16\n",
      "    38   619     5    25   124    51    36   135    48    25  1415    33\n",
      "     6    22    12   215    28    77    52     5    14   407    16    82\n",
      " 10311     8     4   107   117  5952    15   256     4 31050     7  3766\n",
      "     5   723    36    71    43   530   476    26   400   317    46     7\n",
      "     4 12118  1029    13   104    88     4   381    15   297    98    32\n",
      "  2071    56    26   141     6   194  7486    18     4   226    22    21\n",
      "   134   476    26   480     5   144    30  5535    18    51    36    28\n",
      "   224    92    25   104     4   226    65    16    38  1334    88    12\n",
      "    16   283     5    16  4472   113   103    32    15    16  5345    19\n",
      "   178    32     0     0     0     0     0     0     0     0     0     0\n",
      "     0     0     0     0     0     0     0     0     0     0     0     0\n",
      "     0     0     0     0     0     0     0     0     0     0     0     0\n",
      "     0     0     0     0     0     0     0     0     0     0     0     0\n",
      "     0     0     0     0     0     0     0     0     0     0     0     0\n",
      "     0     0     0     0     0     0     0     0     0     0     0     0\n",
      "     0     0     0     0     0     0     0     0     0     0     0     0]\n"
     ]
    }
   ],
   "source": [
    "from tensorflow.keras.preprocessing.sequence import pad_sequences\n",
    "\n",
    "def truncate_pad_data(sequences, max_length):\n",
    "    # Keras has a convenient utility for padding a sequence:\n",
    "    # tf.keras.preprocessing.sequence.pad_sequences()\n",
    "    # Also make sure you get a numpy array rather than an array of lists.\n",
    "\n",
    "    # Use Keras's pad_sequences to truncate and pad sequences to the specified max_length\n",
    "    padded_data = pad_sequences(sequences, maxlen=max_length, padding='post', truncating='post', value=0)\n",
    "    return padded_data\n",
    "\n",
    "\n",
    "# 1+ 2: Truncate and pad the training data\n",
    "X_train_padded = truncate_pad_data(X_train, max_length=300)\n",
    "\n",
    "# Check the padded output.\n",
    "print('Length of X_train[0]:', len(X_train[0]))\n",
    "print('Length of X_train_padded[0]:', len(X_train_padded[0]))\n",
    "print(X_train_padded[0])"
   ]
  },
  {
   "cell_type": "markdown",
   "metadata": {},
   "source": [
    "Next, you want to be able to limit the vocabulary size. Since the <span style=\"color:chocolate\">truncate_pad_data()</span> function produces fixed-length sequences in a numpy matrix, one can use clever numpy indexing to efficiently replace all token ids larger than some value with the designated out-of-vocabulary (OOV) id."
   ]
  },
  {
   "cell_type": "markdown",
   "metadata": {},
   "source": [
    "### <span style=\"color:chocolate\">Exercise 4:</span> Reduced vocabulary (10 points)"
   ]
  },
  {
   "cell_type": "markdown",
   "metadata": {},
   "source": [
    "Fill in the <span style=\"color:green\">NotImplemented</span> parts of the <span style=\"color:chocolate\">limit_vocab()</span> function below by following these instructions:\n",
    "\n",
    "1. Keep just token ids less than 1000, replacing all others with OOV."
   ]
  },
  {
   "cell_type": "code",
   "execution_count": 10,
   "metadata": {},
   "outputs": [
    {
     "name": "stdout",
     "output_type": "stream",
     "text": [
      "[  1  14  22  16  43 530 973   2   2  65 458   2  66   2   4 173  36 256\n",
      "   5  25 100  43 838 112  50 670   2   9  35 480 284   5 150   4 172 112\n",
      " 167   2 336 385  39   4 172   2   2  17 546  38  13 447   4 192  50  16\n",
      "   6 147   2  19  14  22   4   2   2 469   4  22  71  87  12  16  43 530\n",
      "  38  76  15  13   2   4  22  17 515  17  12  16 626  18   2   5  62 386\n",
      "  12   8 316   8 106   5   4   2   2  16 480  66   2  33   4 130  12  16\n",
      "  38 619   5  25 124  51  36 135  48  25   2  33   6  22  12 215  28  77\n",
      "  52   5  14 407  16  82   2   8   4 107 117   2  15 256   4   2   7   2\n",
      "   5 723  36  71  43 530 476  26 400 317  46   7   4   2   2  13 104  88\n",
      "   4 381  15 297  98  32   2  56  26 141   6 194   2  18   4 226  22  21\n",
      " 134 476  26 480   5 144  30   2  18  51  36  28 224  92  25 104   4 226\n",
      "  65  16  38   2  88  12  16 283   5  16   2 113 103  32  15  16   2  19\n",
      " 178  32   0   0   0   0   0   0   0   0   0   0   0   0   0   0   0   0\n",
      "   0   0   0   0   0   0   0   0   0   0   0   0   0   0   0   0   0   0\n",
      "   0   0   0   0   0   0   0   0   0   0   0   0   0   0   0   0   0   0\n",
      "   0   0   0   0   0   0   0   0   0   0   0   0   0   0   0   0   0   0\n",
      "   0   0   0   0   0   0   0   0   0   0   0   0]\n",
      "<START> this film was just brilliant casting # # story direction # really # the part they played and you could just imagine being there robert # is an amazing actor and now the same being director # father came from the same # # as myself so i loved the fact there was a real # with this film the # # throughout the film were great it was just brilliant so much that i # the film as soon as it was released for # and would recommend it to everyone to watch and the # # was amazing really # at the end it was so sad and you know what they say if you # at a film it must have been good and this definitely was also # to the two little # that played the # of # and paul they were just brilliant children are often left out of the # # i think because the stars that play them all # up are such a big # for the whole film but these children are amazing and should be # for what they have done don't you think the whole story was so # because it was true and was # life after all that was # with us all # # # # # # # # # # # # # # # # # # # # # # # # # # # # # # # # # # # # # # # # # # # # # # # # # # # # # # # # # # # # # # # # # # # # # # # # # # # # # # # # # #\n"
     ]
    }
   ],
   "source": [
    "def limit_vocab(sequences, max_token_id, oov_id=2):\n",
    "  \"\"\"Replace token ids greater than or equal to max_token_id with the oov_id.\"\"\"\n",
    "  # YOUR CODE HERE\n",
    "  # Convert the sequences to a numpy array if it isn't one already\n",
    "  sequences = np.array(sequences)\n",
    "  \n",
    "  # Replace token ids >= max_token_id with the oov_id\n",
    "  reduced_sequences = np.where(sequences >= max_token_id, oov_id, sequences)\n",
    "  \n",
    "  return reduced_sequences\n",
    "\n",
    "# Reduce vocabulary to 1000 tokens.\n",
    "X_train_reduced = limit_vocab(X_train_padded, max_token_id=1000)\n",
    "\n",
    "# Check the reduced vocabulary output\n",
    "print(X_train_reduced[0])\n",
    "\n",
    "# Decode to see what this looks like in tokens. Note the '#' for OOVs.\n",
    "print(decode(X_train_reduced[0]))"
   ]
  },
  {
   "cell_type": "markdown",
   "metadata": {},
   "source": [
    "### <span style=\"color:chocolate\">Exercise 5:</span> One-hot encoding (0 points)"
   ]
  },
  {
   "cell_type": "markdown",
   "metadata": {},
   "source": [
    "The current feature representations are **sparse**. That is, one only keeps track of the token ids that are present in the input. A **one-hot** encoding replaces a value like 22 (corresponding to 'film') with an array with a single 1 at position 22 and zeros everywhere else. This will be very memory-inefficient, but we'll do it anyway for clarity.\n",
    "\n",
    "To avoid any memory limitations, let's dramatically reduce both the number of token positions (review length) and the number of token ids (vocabulary). \n",
    "\n",
    "The code below clips each review after 20 tokens and keeps only the first 1000 tokens."
   ]
  },
  {
   "cell_type": "code",
   "execution_count": 11,
   "metadata": {},
   "outputs": [
    {
     "name": "stdout",
     "output_type": "stream",
     "text": [
      "X_train_one_hot shape: (25000, 20, 1000)\n"
     ]
    }
   ],
   "source": [
    "# Keras has a util to create one-hot encodings.\n",
    "X_train_padded = truncate_pad_data(X_train, max_length=20)\n",
    "X_train_reduced = limit_vocab(X_train_padded, max_token_id=1000)\n",
    "X_train_one_hot = tf.keras.utils.to_categorical(X_train_reduced)\n",
    "print('X_train_one_hot shape:', X_train_one_hot.shape)"
   ]
  },
  {
   "cell_type": "markdown",
   "metadata": {},
   "source": [
    "Note the shape of the one-hot encoded features. For each of the 25000 training examples, you have a 20 x 1000 matrix. That is, for each of 20 token positions, you have a vector of 1000 elements containing a single 1 and 999 zeros.\n",
    "\n",
    "You can think of these 1000-dimensional one-hot arrays as **embeddings**. Each token in the input has a 1000-dimensional representation. But because of the one-hot setup, the distance between each pair of tokens is the same ([1,0,0,...], [0,1,0,...], etc.). By contrast, learned embeddings result in meaningful distances between pairs of tokens. You'll get to that soon."
   ]
  },
  {
   "cell_type": "markdown",
   "metadata": {},
   "source": [
    "---\n",
    "### Step 5: Modeling"
   ]
  },
  {
   "cell_type": "markdown",
   "metadata": {},
   "source": [
    "### <span style=\"color:chocolate\">Baseline model:</span> Logistic regression with one-hot encodings"
   ]
  },
  {
   "cell_type": "markdown",
   "metadata": {
    "id": "296Cnt647b5c"
   },
   "source": [
    "You will start with something familiar -- logistic regression. Since your feature representation is in 2 dimensions (20 x 1000), you need to flatten it to pass it to Keras (remember you did this with the pixel data too). Try two strategies for flattening.\n",
    "\n",
    "1. Flatten by *concatenating* (as you did with pixels), turning (20 x 1000) data into (20000,) data. The result is a separate feature for each token at each position;\n",
    "2. Flatten by *averaging* over token positions, turning (20 x 1000) data into (1000,) data. The result is an array with average token counts, ignoring position."
   ]
  },
  {
   "cell_type": "code",
   "execution_count": 12,
   "metadata": {
    "id": "6m6eebM-0dUW"
   },
   "outputs": [],
   "source": [
    "def build_onehot_model(average_over_positions=False):\n",
    "  \"\"\"Build a tf.keras model for one-hot data.\"\"\"\n",
    "  # Clear session and remove randomness.\n",
    "  tf.keras.backend.clear_session()\n",
    "  tf.random.set_seed(0)\n",
    "\n",
    "  model = tf.keras.Sequential()\n",
    "    \n",
    "  if average_over_positions:\n",
    "    # This layer averages over the first dimension of the input by default.\n",
    "    model.add(tf.keras.layers.GlobalAveragePooling1D())\n",
    "  else:\n",
    "    # Concatenate.\n",
    "    model.add(tf.keras.layers.Flatten())\n",
    "      \n",
    "  model.add(tf.keras.layers.Dense(\n",
    "      units=1,                     # output dim (for binary classification)\n",
    "      activation=\"sigmoid\"         # sigmoid activation for binary classification\n",
    "  ))\n",
    "\n",
    "  model.compile(loss='binary_crossentropy',   # this is a classification task\n",
    "                optimizer='adam',             # fancy optimizer\n",
    "                metrics=['accuracy'])\n",
    "\n",
    "  return model"
   ]
  },
  {
   "cell_type": "markdown",
   "metadata": {
    "id": "NY3W_1-OSZ2X"
   },
   "source": [
    "Now let's try fitting the model to your training data and check performance metrics on the validation data. But first, here's a function for plotting the learning curves given the training history object we get from Keras."
   ]
  },
  {
   "cell_type": "code",
   "execution_count": 13,
   "metadata": {
    "id": "cOVmajSuMjN6"
   },
   "outputs": [],
   "source": [
    "def plot_history(history):\n",
    "  plt.ylabel('Loss')\n",
    "  plt.xlabel('Epoch')\n",
    "  plt.xticks(range(0, len(history['loss'] + 1)))\n",
    "  plt.plot(history['loss'], label=\"training\", marker='o')\n",
    "  plt.plot(history['val_loss'], label=\"validation\", marker='o')\n",
    "  plt.ylim(0,1)\n",
    "  plt.legend()\n",
    "  plt.show()"
   ]
  },
  {
   "cell_type": "code",
   "execution_count": 14,
   "metadata": {
    "colab": {
     "base_uri": "https://localhost:8080/",
     "height": 478
    },
    "executionInfo": {
     "elapsed": 22140,
     "status": "ok",
     "timestamp": 1646684718388,
     "user": {
      "displayName": "Daniel Gillick",
      "photoUrl": "https://lh3.googleusercontent.com/a-/AOh14Gg9DrSMlwYnG9EolecuJqe8n9m7fpcje4_UbYrhQ10=s64",
      "userId": "01872965353911650729"
     },
     "user_tz": 600
    },
    "id": "MyE4PgX70_op",
    "outputId": "3de05dfa-f372-4b77-ba43-f212c2f47c1e"
   },
   "outputs": [
    {
     "name": "stdout",
     "output_type": "stream",
     "text": [
      "WARNING:tensorflow:From c:\\Users\\myk53\\hello\\.venv\\Lib\\site-packages\\keras\\src\\backend\\common\\global_state.py:82: The name tf.reset_default_graph is deprecated. Please use tf.compat.v1.reset_default_graph instead.\n",
      "\n",
      "Epoch 1/5\n",
      "\u001b[1m352/352\u001b[0m \u001b[32m━━━━━━━━━━━━━━━━━━━━\u001b[0m\u001b[37m\u001b[0m \u001b[1m3s\u001b[0m 3ms/step - accuracy: 0.5517 - loss: 0.6879 - val_accuracy: 0.6076 - val_loss: 0.6752\n",
      "Epoch 2/5\n",
      "\u001b[1m352/352\u001b[0m \u001b[32m━━━━━━━━━━━━━━━━━━━━\u001b[0m\u001b[37m\u001b[0m \u001b[1m1s\u001b[0m 2ms/step - accuracy: 0.6937 - loss: 0.6516 - val_accuracy: 0.6204 - val_loss: 0.6629\n",
      "Epoch 3/5\n",
      "\u001b[1m352/352\u001b[0m \u001b[32m━━━━━━━━━━━━━━━━━━━━\u001b[0m\u001b[37m\u001b[0m \u001b[1m1s\u001b[0m 2ms/step - accuracy: 0.7272 - loss: 0.6226 - val_accuracy: 0.6232 - val_loss: 0.6543\n",
      "Epoch 4/5\n",
      "\u001b[1m352/352\u001b[0m \u001b[32m━━━━━━━━━━━━━━━━━━━━\u001b[0m\u001b[37m\u001b[0m \u001b[1m1s\u001b[0m 2ms/step - accuracy: 0.7486 - loss: 0.5985 - val_accuracy: 0.6284 - val_loss: 0.6477\n",
      "Epoch 5/5\n",
      "\u001b[1m352/352\u001b[0m \u001b[32m━━━━━━━━━━━━━━━━━━━━\u001b[0m\u001b[37m\u001b[0m \u001b[1m1s\u001b[0m 2ms/step - accuracy: 0.7642 - loss: 0.5778 - val_accuracy: 0.6324 - val_loss: 0.6427\n"
     ]
    },
    {
     "data": {
      "text/html": [
       "<pre style=\"white-space:pre;overflow-x:auto;line-height:normal;font-family:Menlo,'DejaVu Sans Mono',consolas,'Courier New',monospace\"><span style=\"font-weight: bold\">Model: \"sequential\"</span>\n",
       "</pre>\n"
      ],
      "text/plain": [
       "\u001b[1mModel: \"sequential\"\u001b[0m\n"
      ]
     },
     "metadata": {},
     "output_type": "display_data"
    },
    {
     "data": {
      "text/html": [
       "<pre style=\"white-space:pre;overflow-x:auto;line-height:normal;font-family:Menlo,'DejaVu Sans Mono',consolas,'Courier New',monospace\">┏━━━━━━━━━━━━━━━━━━━━━━━━━━━━━━━━━┳━━━━━━━━━━━━━━━━━━━━━━━━┳━━━━━━━━━━━━━━━┓\n",
       "┃<span style=\"font-weight: bold\"> Layer (type)                    </span>┃<span style=\"font-weight: bold\"> Output Shape           </span>┃<span style=\"font-weight: bold\">       Param # </span>┃\n",
       "┡━━━━━━━━━━━━━━━━━━━━━━━━━━━━━━━━━╇━━━━━━━━━━━━━━━━━━━━━━━━╇━━━━━━━━━━━━━━━┩\n",
       "│ flatten (<span style=\"color: #0087ff; text-decoration-color: #0087ff\">Flatten</span>)               │ (<span style=\"color: #00d7ff; text-decoration-color: #00d7ff\">None</span>, <span style=\"color: #00af00; text-decoration-color: #00af00\">20000</span>)          │             <span style=\"color: #00af00; text-decoration-color: #00af00\">0</span> │\n",
       "├─────────────────────────────────┼────────────────────────┼───────────────┤\n",
       "│ dense (<span style=\"color: #0087ff; text-decoration-color: #0087ff\">Dense</span>)                   │ (<span style=\"color: #00d7ff; text-decoration-color: #00d7ff\">None</span>, <span style=\"color: #00af00; text-decoration-color: #00af00\">1</span>)              │        <span style=\"color: #00af00; text-decoration-color: #00af00\">20,001</span> │\n",
       "└─────────────────────────────────┴────────────────────────┴───────────────┘\n",
       "</pre>\n"
      ],
      "text/plain": [
       "┏━━━━━━━━━━━━━━━━━━━━━━━━━━━━━━━━━┳━━━━━━━━━━━━━━━━━━━━━━━━┳━━━━━━━━━━━━━━━┓\n",
       "┃\u001b[1m \u001b[0m\u001b[1mLayer (type)                   \u001b[0m\u001b[1m \u001b[0m┃\u001b[1m \u001b[0m\u001b[1mOutput Shape          \u001b[0m\u001b[1m \u001b[0m┃\u001b[1m \u001b[0m\u001b[1m      Param #\u001b[0m\u001b[1m \u001b[0m┃\n",
       "┡━━━━━━━━━━━━━━━━━━━━━━━━━━━━━━━━━╇━━━━━━━━━━━━━━━━━━━━━━━━╇━━━━━━━━━━━━━━━┩\n",
       "│ flatten (\u001b[38;5;33mFlatten\u001b[0m)               │ (\u001b[38;5;45mNone\u001b[0m, \u001b[38;5;34m20000\u001b[0m)          │             \u001b[38;5;34m0\u001b[0m │\n",
       "├─────────────────────────────────┼────────────────────────┼───────────────┤\n",
       "│ dense (\u001b[38;5;33mDense\u001b[0m)                   │ (\u001b[38;5;45mNone\u001b[0m, \u001b[38;5;34m1\u001b[0m)              │        \u001b[38;5;34m20,001\u001b[0m │\n",
       "└─────────────────────────────────┴────────────────────────┴───────────────┘\n"
      ]
     },
     "metadata": {},
     "output_type": "display_data"
    },
    {
     "data": {
      "text/html": [
       "<pre style=\"white-space:pre;overflow-x:auto;line-height:normal;font-family:Menlo,'DejaVu Sans Mono',consolas,'Courier New',monospace\"><span style=\"font-weight: bold\"> Total params: </span><span style=\"color: #00af00; text-decoration-color: #00af00\">60,005</span> (234.40 KB)\n",
       "</pre>\n"
      ],
      "text/plain": [
       "\u001b[1m Total params: \u001b[0m\u001b[38;5;34m60,005\u001b[0m (234.40 KB)\n"
      ]
     },
     "metadata": {},
     "output_type": "display_data"
    },
    {
     "data": {
      "text/html": [
       "<pre style=\"white-space:pre;overflow-x:auto;line-height:normal;font-family:Menlo,'DejaVu Sans Mono',consolas,'Courier New',monospace\"><span style=\"font-weight: bold\"> Trainable params: </span><span style=\"color: #00af00; text-decoration-color: #00af00\">20,001</span> (78.13 KB)\n",
       "</pre>\n"
      ],
      "text/plain": [
       "\u001b[1m Trainable params: \u001b[0m\u001b[38;5;34m20,001\u001b[0m (78.13 KB)\n"
      ]
     },
     "metadata": {},
     "output_type": "display_data"
    },
    {
     "data": {
      "text/html": [
       "<pre style=\"white-space:pre;overflow-x:auto;line-height:normal;font-family:Menlo,'DejaVu Sans Mono',consolas,'Courier New',monospace\"><span style=\"font-weight: bold\"> Non-trainable params: </span><span style=\"color: #00af00; text-decoration-color: #00af00\">0</span> (0.00 B)\n",
       "</pre>\n"
      ],
      "text/plain": [
       "\u001b[1m Non-trainable params: \u001b[0m\u001b[38;5;34m0\u001b[0m (0.00 B)\n"
      ]
     },
     "metadata": {},
     "output_type": "display_data"
    },
    {
     "data": {
      "text/html": [
       "<pre style=\"white-space:pre;overflow-x:auto;line-height:normal;font-family:Menlo,'DejaVu Sans Mono',consolas,'Courier New',monospace\"><span style=\"font-weight: bold\"> Optimizer params: </span><span style=\"color: #00af00; text-decoration-color: #00af00\">40,004</span> (156.27 KB)\n",
       "</pre>\n"
      ],
      "text/plain": [
       "\u001b[1m Optimizer params: \u001b[0m\u001b[38;5;34m40,004\u001b[0m (156.27 KB)\n"
      ]
     },
     "metadata": {},
     "output_type": "display_data"
    },
    {
     "data": {
      "image/png": "[encoded data removed]",
      "text/plain": [
       "<Figure size 640x480 with 1 Axes>"
      ]
     },
     "metadata": {},
     "output_type": "display_data"
    }
   ],
   "source": [
    "model1 = build_onehot_model()\n",
    "\n",
    "# Fit the model.\n",
    "history1 = model1.fit(\n",
    "  x = X_train_one_hot,  # one-hot training data\n",
    "  y = Y_train,          # corresponding binary labels\n",
    "  epochs=5,             # number of passes through the training data\n",
    "  batch_size=64,        # mini-batch size\n",
    "  validation_split=0.1, # use a fraction of the examples for validation\n",
    "  verbose=1             # display some progress output during training\n",
    "  )\n",
    "\n",
    "model1.summary()\n",
    "# Convert the return value into a DataFrame so we can see the train loss \n",
    "# and binary accuracy after every epoch.\n",
    "history1 = pd.DataFrame(history1.history)\n",
    "plot_history(history1)"
   ]
  },
  {
   "cell_type": "markdown",
   "metadata": {},
   "source": [
    "### <span style=\"color:chocolate\">Exercise 6:</span>  Comparing logistic regression models (20 points)"
   ]
  },
  {
   "cell_type": "markdown",
   "metadata": {
    "id": "QuCh9aQPv7F_"
   },
   "source": [
    "Train the one-hot model using both the concatenating and the averaging strategies and compare the results. Let's call these *LR-C* (Logistic Regression Concatenating) and *LR-A* (Logistic Regression Averaging). Then answer the following questions:\n",
    "\n",
    "1. What are the final training and validation accuracies for LR-C and LR-A?\n",
    "2. How many parameters are there in each model?\n",
    "3. Would you say that either model is overfitting? Why or why not?\n",
    "4. Briefly describe how LR-C differs from LR-A. How do you explain the relationship between their respective validation accuracy results? "
   ]
  },
  {
   "cell_type": "code",
   "execution_count": 15,
   "metadata": {},
   "outputs": [
    {
     "name": "stdout",
     "output_type": "stream",
     "text": [
      "Epoch 1/5\n",
      "\u001b[1m352/352\u001b[0m \u001b[32m━━━━━━━━━━━━━━━━━━━━\u001b[0m\u001b[37m\u001b[0m \u001b[1m3s\u001b[0m 2ms/step - accuracy: 0.5364 - loss: 0.6925 - val_accuracy: 0.5840 - val_loss: 0.6901\n",
      "Epoch 2/5\n",
      "\u001b[1m352/352\u001b[0m \u001b[32m━━━━━━━━━━━━━━━━━━━━\u001b[0m\u001b[37m\u001b[0m \u001b[1m1s\u001b[0m 2ms/step - accuracy: 0.6114 - loss: 0.6888 - val_accuracy: 0.6052 - val_loss: 0.6868\n",
      "Epoch 3/5\n",
      "\u001b[1m352/352\u001b[0m \u001b[32m━━━━━━━━━━━━━━━━━━━━\u001b[0m\u001b[37m\u001b[0m \u001b[1m1s\u001b[0m 2ms/step - accuracy: 0.6284 - loss: 0.6853 - val_accuracy: 0.6148 - val_loss: 0.6837\n",
      "Epoch 4/5\n",
      "\u001b[1m352/352\u001b[0m \u001b[32m━━━━━━━━━━━━━━━━━━━━\u001b[0m\u001b[37m\u001b[0m \u001b[1m0s\u001b[0m 1ms/step - accuracy: 0.6331 - loss: 0.6821 - val_accuracy: 0.6160 - val_loss: 0.6808\n",
      "Epoch 5/5\n",
      "\u001b[1m352/352\u001b[0m \u001b[32m━━━━━━━━━━━━━━━━━━━━\u001b[0m\u001b[37m\u001b[0m \u001b[1m0s\u001b[0m 1ms/step - accuracy: 0.6374 - loss: 0.6790 - val_accuracy: 0.6200 - val_loss: 0.6781\n"
     ]
    },
    {
     "data": {
      "text/html": [
       "<pre style=\"white-space:pre;overflow-x:auto;line-height:normal;font-family:Menlo,'DejaVu Sans Mono',consolas,'Courier New',monospace\"><span style=\"font-weight: bold\">Model: \"sequential\"</span>\n",
       "</pre>\n"
      ],
      "text/plain": [
       "\u001b[1mModel: \"sequential\"\u001b[0m\n"
      ]
     },
     "metadata": {},
     "output_type": "display_data"
    },
    {
     "data": {
      "text/html": [
       "<pre style=\"white-space:pre;overflow-x:auto;line-height:normal;font-family:Menlo,'DejaVu Sans Mono',consolas,'Courier New',monospace\">┏━━━━━━━━━━━━━━━━━━━━━━━━━━━━━━━━━┳━━━━━━━━━━━━━━━━━━━━━━━━┳━━━━━━━━━━━━━━━┓\n",
       "┃<span style=\"font-weight: bold\"> Layer (type)                    </span>┃<span style=\"font-weight: bold\"> Output Shape           </span>┃<span style=\"font-weight: bold\">       Param # </span>┃\n",
       "┡━━━━━━━━━━━━━━━━━━━━━━━━━━━━━━━━━╇━━━━━━━━━━━━━━━━━━━━━━━━╇━━━━━━━━━━━━━━━┩\n",
       "│ global_average_pooling1d        │ (<span style=\"color: #00d7ff; text-decoration-color: #00d7ff\">None</span>, <span style=\"color: #00af00; text-decoration-color: #00af00\">1000</span>)           │             <span style=\"color: #00af00; text-decoration-color: #00af00\">0</span> │\n",
       "│ (<span style=\"color: #0087ff; text-decoration-color: #0087ff\">GlobalAveragePooling1D</span>)        │                        │               │\n",
       "├─────────────────────────────────┼────────────────────────┼───────────────┤\n",
       "│ dense (<span style=\"color: #0087ff; text-decoration-color: #0087ff\">Dense</span>)                   │ (<span style=\"color: #00d7ff; text-decoration-color: #00d7ff\">None</span>, <span style=\"color: #00af00; text-decoration-color: #00af00\">1</span>)              │         <span style=\"color: #00af00; text-decoration-color: #00af00\">1,001</span> │\n",
       "└─────────────────────────────────┴────────────────────────┴───────────────┘\n",
       "</pre>\n"
      ],
      "text/plain": [
       "┏━━━━━━━━━━━━━━━━━━━━━━━━━━━━━━━━━┳━━━━━━━━━━━━━━━━━━━━━━━━┳━━━━━━━━━━━━━━━┓\n",
       "┃\u001b[1m \u001b[0m\u001b[1mLayer (type)                   \u001b[0m\u001b[1m \u001b[0m┃\u001b[1m \u001b[0m\u001b[1mOutput Shape          \u001b[0m\u001b[1m \u001b[0m┃\u001b[1m \u001b[0m\u001b[1m      Param #\u001b[0m\u001b[1m \u001b[0m┃\n",
       "┡━━━━━━━━━━━━━━━━━━━━━━━━━━━━━━━━━╇━━━━━━━━━━━━━━━━━━━━━━━━╇━━━━━━━━━━━━━━━┩\n",
       "│ global_average_pooling1d        │ (\u001b[38;5;45mNone\u001b[0m, \u001b[38;5;34m1000\u001b[0m)           │             \u001b[38;5;34m0\u001b[0m │\n",
       "│ (\u001b[38;5;33mGlobalAveragePooling1D\u001b[0m)        │                        │               │\n",
       "├─────────────────────────────────┼────────────────────────┼───────────────┤\n",
       "│ dense (\u001b[38;5;33mDense\u001b[0m)                   │ (\u001b[38;5;45mNone\u001b[0m, \u001b[38;5;34m1\u001b[0m)              │         \u001b[38;5;34m1,001\u001b[0m │\n",
       "└─────────────────────────────────┴────────────────────────┴───────────────┘\n"
      ]
     },
     "metadata": {},
     "output_type": "display_data"
    },
    {
     "data": {
      "text/html": [
       "<pre style=\"white-space:pre;overflow-x:auto;line-height:normal;font-family:Menlo,'DejaVu Sans Mono',consolas,'Courier New',monospace\"><span style=\"font-weight: bold\"> Total params: </span><span style=\"color: #00af00; text-decoration-color: #00af00\">3,005</span> (11.74 KB)\n",
       "</pre>\n"
      ],
      "text/plain": [
       "\u001b[1m Total params: \u001b[0m\u001b[38;5;34m3,005\u001b[0m (11.74 KB)\n"
      ]
     },
     "metadata": {},
     "output_type": "display_data"
    },
    {
     "data": {
      "text/html": [
       "<pre style=\"white-space:pre;overflow-x:auto;line-height:normal;font-family:Menlo,'DejaVu Sans Mono',consolas,'Courier New',monospace\"><span style=\"font-weight: bold\"> Trainable params: </span><span style=\"color: #00af00; text-decoration-color: #00af00\">1,001</span> (3.91 KB)\n",
       "</pre>\n"
      ],
      "text/plain": [
       "\u001b[1m Trainable params: \u001b[0m\u001b[38;5;34m1,001\u001b[0m (3.91 KB)\n"
      ]
     },
     "metadata": {},
     "output_type": "display_data"
    },
    {
     "data": {
      "text/html": [
       "<pre style=\"white-space:pre;overflow-x:auto;line-height:normal;font-family:Menlo,'DejaVu Sans Mono',consolas,'Courier New',monospace\"><span style=\"font-weight: bold\"> Non-trainable params: </span><span style=\"color: #00af00; text-decoration-color: #00af00\">0</span> (0.00 B)\n",
       "</pre>\n"
      ],
      "text/plain": [
       "\u001b[1m Non-trainable params: \u001b[0m\u001b[38;5;34m0\u001b[0m (0.00 B)\n"
      ]
     },
     "metadata": {},
     "output_type": "display_data"
    },
    {
     "data": {
      "text/html": [
       "<pre style=\"white-space:pre;overflow-x:auto;line-height:normal;font-family:Menlo,'DejaVu Sans Mono',consolas,'Courier New',monospace\"><span style=\"font-weight: bold\"> Optimizer params: </span><span style=\"color: #00af00; text-decoration-color: #00af00\">2,004</span> (7.83 KB)\n",
       "</pre>\n"
      ],
      "text/plain": [
       "\u001b[1m Optimizer params: \u001b[0m\u001b[38;5;34m2,004\u001b[0m (7.83 KB)\n"
      ]
     },
     "metadata": {},
     "output_type": "display_data"
    },
    {
     "data": {
      "image/png": "[encoded data removed]",
      "text/plain": [
       "<Figure size 640x480 with 1 Axes>"
      ]
     },
     "metadata": {},
     "output_type": "display_data"
    }
   ],
   "source": [
    "# Build and train the LR-C model with concatenation\n",
    "model_concat = build_onehot_model(average_over_positions=True)\n",
    "history_concat = model_concat.fit(\n",
    "    x=X_train_one_hot, \n",
    "    y=Y_train, \n",
    "    epochs=5, \n",
    "    batch_size=64, \n",
    "    validation_split=0.1, \n",
    "    verbose=1\n",
    ")\n",
    "\n",
    "# Display model summary and plot history\n",
    "model_concat.summary()\n",
    "history_concat_df = pd.DataFrame(history_concat.history)\n",
    "plot_history(history_concat_df)\n"
   ]
  },
  {
   "cell_type": "markdown",
   "metadata": {
    "id": "CEAN5BejHc__"
   },
   "source": [
    "*Written answer:*\n",
    "\n",
    "1. \n",
    "LR-C: final training accuracy: 0.7653\n",
    "      final validation accuracy: 0.6328\n",
    "\n",
    "LR-A: final training accuracy: 0.6353\n",
    "      final validation accuracy: 0.6188\n",
    "\n",
    "2. \n",
    "LR-C: 60,005\n",
    "\n",
    "LR-A: 3,005\n",
    "\n",
    "3. \n",
    "Due to the gap between training and validation accuracy across epochs for the LR-C model, this may suggest overfitting.\n",
    "\n",
    "4. \n",
    "LR-C (concatenating) flattens the input into a 20,000-dimensional vector, providing a unique feature for each position in the sequence.\n",
    "LR-A (averaging) pools across token positions, yielding a 1000-dimensional vector where each feature represents the average occurrence of a token, regardless of its position.\n",
    "\n",
    "Explanation of Accuracy Relationship:\n",
    "\n",
    "a. Concatenation can capture position-specific patterns, potentially improving training accuracy but increasing overfitting risk due to high parameter count.\n",
    "\n",
    "b. Averaging sacrifices positional information, which might lower training accuracy but can improve generalization and reduce overfitting, especially with limited data.\n"
   ]
  },
  {
   "cell_type": "markdown",
   "metadata": {},
   "source": [
    "### <span style=\"color:chocolate\">Improvement over baseline:</span> Logistic regression with embeddings"
   ]
  },
  {
   "cell_type": "markdown",
   "metadata": {
    "id": "sJIBRqK7lsjG"
   },
   "source": [
    "Next, you will train a model that replaces one-hot representations of each token with learned embeddings.\n",
    "\n",
    "The code below uses a Keras Embedding layer, which expects to receive a sparse (rather than one-hot) representation. That is, it expects a (padded) sequence of token ids; for each id, it looks up the corresponding embedding vector."
   ]
  },
  {
   "cell_type": "code",
   "execution_count": 16,
   "metadata": {
    "id": "ho6uOeCaBs2e"
   },
   "outputs": [],
   "source": [
    "def build_embeddings_model(average_over_positions=False,\n",
    "                           vocab_size=1000,\n",
    "                           sequence_length=20,\n",
    "                           embedding_dim=2):\n",
    "  \"\"\"Build a tf.keras model using embeddings.\"\"\"\n",
    "  # Clear session and remove randomness.\n",
    "  tf.keras.backend.clear_session()\n",
    "  tf.random.set_seed(0)\n",
    "\n",
    "  model = tf.keras.Sequential()\n",
    "  model.add(tf.keras.layers.Embedding(\n",
    "      input_dim=vocab_size,\n",
    "      output_dim=embedding_dim,\n",
    "      input_length=sequence_length)\n",
    "  )\n",
    "\n",
    "  if average_over_positions:\n",
    "    # This layer averages over the first dimension of the input by default.\n",
    "    model.add(tf.keras.layers.GlobalAveragePooling1D())\n",
    "  else:\n",
    "    # Concatenate.\n",
    "    model.add(tf.keras.layers.Flatten())\n",
    "      \n",
    "  model.add(tf.keras.layers.Dense(\n",
    "      units=1,                     # output dim (for binary classification)\n",
    "      activation='sigmoid'         # apply the sigmoid function!\n",
    "  ))\n",
    "\n",
    "  model.compile(loss='binary_crossentropy', \n",
    "                optimizer='adam',\n",
    "                metrics=['accuracy'])\n",
    "\n",
    "  return model"
   ]
  },
  {
   "cell_type": "markdown",
   "metadata": {
    "id": "eyhoEjAiFSNB"
   },
   "source": [
    "You will train this model, this time using the averaging strategy instead of the concatenating strategy for handling the token sequence. You'll look up the embedding vectors for each token and average them to produce a single vector. Then, you'll use this averaged vector to train a logistic regression model to predict the binary label."
   ]
  },
  {
   "cell_type": "code",
   "execution_count": 17,
   "metadata": {
    "colab": {
     "base_uri": "https://localhost:8080/",
     "height": 478
    },
    "executionInfo": {
     "elapsed": 5490,
     "status": "ok",
     "timestamp": 1646684762935,
     "user": {
      "displayName": "Daniel Gillick",
      "photoUrl": "https://lh3.googleusercontent.com/a-/AOh14Gg9DrSMlwYnG9EolecuJqe8n9m7fpcje4_UbYrhQ10=s64",
      "userId": "01872965353911650729"
     },
     "user_tz": 600
    },
    "id": "uYUE5UwkxoU8",
    "outputId": "20a4c237-8c49-4b24-9ea1-e0f325cb9908"
   },
   "outputs": [
    {
     "name": "stdout",
     "output_type": "stream",
     "text": [
      "Epoch 1/5\n"
     ]
    },
    {
     "name": "stderr",
     "output_type": "stream",
     "text": [
      "c:\\Users\\myk53\\hello\\.venv\\Lib\\site-packages\\keras\\src\\layers\\core\\embedding.py:90: UserWarning: Argument `input_length` is deprecated. Just remove it.\n",
      "  warnings.warn(\n"
     ]
    },
    {
     "name": "stdout",
     "output_type": "stream",
     "text": [
      "\u001b[1m352/352\u001b[0m \u001b[32m━━━━━━━━━━━━━━━━━━━━\u001b[0m\u001b[37m\u001b[0m \u001b[1m2s\u001b[0m 3ms/step - accuracy: 0.5469 - loss: 0.6914 - val_accuracy: 0.6000 - val_loss: 0.6838\n",
      "Epoch 2/5\n",
      "\u001b[1m352/352\u001b[0m \u001b[32m━━━━━━━━━━━━━━━━━━━━\u001b[0m\u001b[37m\u001b[0m \u001b[1m1s\u001b[0m 3ms/step - accuracy: 0.6187 - loss: 0.6794 - val_accuracy: 0.6192 - val_loss: 0.6688\n",
      "Epoch 3/5\n",
      "\u001b[1m352/352\u001b[0m \u001b[32m━━━━━━━━━━━━━━━━━━━━\u001b[0m\u001b[37m\u001b[0m \u001b[1m1s\u001b[0m 3ms/step - accuracy: 0.6411 - loss: 0.6631 - val_accuracy: 0.6336 - val_loss: 0.6531\n",
      "Epoch 4/5\n",
      "\u001b[1m352/352\u001b[0m \u001b[32m━━━━━━━━━━━━━━━━━━━━\u001b[0m\u001b[37m\u001b[0m \u001b[1m0s\u001b[0m 1ms/step - accuracy: 0.6569 - loss: 0.6463 - val_accuracy: 0.6452 - val_loss: 0.6389\n",
      "Epoch 5/5\n",
      "\u001b[1m352/352\u001b[0m \u001b[32m━━━━━━━━━━━━━━━━━━━━\u001b[0m\u001b[37m\u001b[0m \u001b[1m0s\u001b[0m 1ms/step - accuracy: 0.6684 - loss: 0.6309 - val_accuracy: 0.6508 - val_loss: 0.6269\n"
     ]
    },
    {
     "data": {
      "text/html": [
       "<pre style=\"white-space:pre;overflow-x:auto;line-height:normal;font-family:Menlo,'DejaVu Sans Mono',consolas,'Courier New',monospace\"><span style=\"font-weight: bold\">Model: \"sequential\"</span>\n",
       "</pre>\n"
      ],
      "text/plain": [
       "\u001b[1mModel: \"sequential\"\u001b[0m\n"
      ]
     },
     "metadata": {},
     "output_type": "display_data"
    },
    {
     "data": {
      "text/html": [
       "<pre style=\"white-space:pre;overflow-x:auto;line-height:normal;font-family:Menlo,'DejaVu Sans Mono',consolas,'Courier New',monospace\">┏━━━━━━━━━━━━━━━━━━━━━━━━━━━━━━━━━┳━━━━━━━━━━━━━━━━━━━━━━━━┳━━━━━━━━━━━━━━━┓\n",
       "┃<span style=\"font-weight: bold\"> Layer (type)                    </span>┃<span style=\"font-weight: bold\"> Output Shape           </span>┃<span style=\"font-weight: bold\">       Param # </span>┃\n",
       "┡━━━━━━━━━━━━━━━━━━━━━━━━━━━━━━━━━╇━━━━━━━━━━━━━━━━━━━━━━━━╇━━━━━━━━━━━━━━━┩\n",
       "│ embedding (<span style=\"color: #0087ff; text-decoration-color: #0087ff\">Embedding</span>)           │ (<span style=\"color: #00d7ff; text-decoration-color: #00d7ff\">None</span>, <span style=\"color: #00af00; text-decoration-color: #00af00\">20</span>, <span style=\"color: #00af00; text-decoration-color: #00af00\">2</span>)          │         <span style=\"color: #00af00; text-decoration-color: #00af00\">2,000</span> │\n",
       "├─────────────────────────────────┼────────────────────────┼───────────────┤\n",
       "│ global_average_pooling1d        │ (<span style=\"color: #00d7ff; text-decoration-color: #00d7ff\">None</span>, <span style=\"color: #00af00; text-decoration-color: #00af00\">2</span>)              │             <span style=\"color: #00af00; text-decoration-color: #00af00\">0</span> │\n",
       "│ (<span style=\"color: #0087ff; text-decoration-color: #0087ff\">GlobalAveragePooling1D</span>)        │                        │               │\n",
       "├─────────────────────────────────┼────────────────────────┼───────────────┤\n",
       "│ dense (<span style=\"color: #0087ff; text-decoration-color: #0087ff\">Dense</span>)                   │ (<span style=\"color: #00d7ff; text-decoration-color: #00d7ff\">None</span>, <span style=\"color: #00af00; text-decoration-color: #00af00\">1</span>)              │             <span style=\"color: #00af00; text-decoration-color: #00af00\">3</span> │\n",
       "└─────────────────────────────────┴────────────────────────┴───────────────┘\n",
       "</pre>\n"
      ],
      "text/plain": [
       "┏━━━━━━━━━━━━━━━━━━━━━━━━━━━━━━━━━┳━━━━━━━━━━━━━━━━━━━━━━━━┳━━━━━━━━━━━━━━━┓\n",
       "┃\u001b[1m \u001b[0m\u001b[1mLayer (type)                   \u001b[0m\u001b[1m \u001b[0m┃\u001b[1m \u001b[0m\u001b[1mOutput Shape          \u001b[0m\u001b[1m \u001b[0m┃\u001b[1m \u001b[0m\u001b[1m      Param #\u001b[0m\u001b[1m \u001b[0m┃\n",
       "┡━━━━━━━━━━━━━━━━━━━━━━━━━━━━━━━━━╇━━━━━━━━━━━━━━━━━━━━━━━━╇━━━━━━━━━━━━━━━┩\n",
       "│ embedding (\u001b[38;5;33mEmbedding\u001b[0m)           │ (\u001b[38;5;45mNone\u001b[0m, \u001b[38;5;34m20\u001b[0m, \u001b[38;5;34m2\u001b[0m)          │         \u001b[38;5;34m2,000\u001b[0m │\n",
       "├─────────────────────────────────┼────────────────────────┼───────────────┤\n",
       "│ global_average_pooling1d        │ (\u001b[38;5;45mNone\u001b[0m, \u001b[38;5;34m2\u001b[0m)              │             \u001b[38;5;34m0\u001b[0m │\n",
       "│ (\u001b[38;5;33mGlobalAveragePooling1D\u001b[0m)        │                        │               │\n",
       "├─────────────────────────────────┼────────────────────────┼───────────────┤\n",
       "│ dense (\u001b[38;5;33mDense\u001b[0m)                   │ (\u001b[38;5;45mNone\u001b[0m, \u001b[38;5;34m1\u001b[0m)              │             \u001b[38;5;34m3\u001b[0m │\n",
       "└─────────────────────────────────┴────────────────────────┴───────────────┘\n"
      ]
     },
     "metadata": {},
     "output_type": "display_data"
    },
    {
     "data": {
      "text/html": [
       "<pre style=\"white-space:pre;overflow-x:auto;line-height:normal;font-family:Menlo,'DejaVu Sans Mono',consolas,'Courier New',monospace\"><span style=\"font-weight: bold\"> Total params: </span><span style=\"color: #00af00; text-decoration-color: #00af00\">6,011</span> (23.48 KB)\n",
       "</pre>\n"
      ],
      "text/plain": [
       "\u001b[1m Total params: \u001b[0m\u001b[38;5;34m6,011\u001b[0m (23.48 KB)\n"
      ]
     },
     "metadata": {},
     "output_type": "display_data"
    },
    {
     "data": {
      "text/html": [
       "<pre style=\"white-space:pre;overflow-x:auto;line-height:normal;font-family:Menlo,'DejaVu Sans Mono',consolas,'Courier New',monospace\"><span style=\"font-weight: bold\"> Trainable params: </span><span style=\"color: #00af00; text-decoration-color: #00af00\">2,003</span> (7.82 KB)\n",
       "</pre>\n"
      ],
      "text/plain": [
       "\u001b[1m Trainable params: \u001b[0m\u001b[38;5;34m2,003\u001b[0m (7.82 KB)\n"
      ]
     },
     "metadata": {},
     "output_type": "display_data"
    },
    {
     "data": {
      "text/html": [
       "<pre style=\"white-space:pre;overflow-x:auto;line-height:normal;font-family:Menlo,'DejaVu Sans Mono',consolas,'Courier New',monospace\"><span style=\"font-weight: bold\"> Non-trainable params: </span><span style=\"color: #00af00; text-decoration-color: #00af00\">0</span> (0.00 B)\n",
       "</pre>\n"
      ],
      "text/plain": [
       "\u001b[1m Non-trainable params: \u001b[0m\u001b[38;5;34m0\u001b[0m (0.00 B)\n"
      ]
     },
     "metadata": {},
     "output_type": "display_data"
    },
    {
     "data": {
      "text/html": [
       "<pre style=\"white-space:pre;overflow-x:auto;line-height:normal;font-family:Menlo,'DejaVu Sans Mono',consolas,'Courier New',monospace\"><span style=\"font-weight: bold\"> Optimizer params: </span><span style=\"color: #00af00; text-decoration-color: #00af00\">4,008</span> (15.66 KB)\n",
       "</pre>\n"
      ],
      "text/plain": [
       "\u001b[1m Optimizer params: \u001b[0m\u001b[38;5;34m4,008\u001b[0m (15.66 KB)\n"
      ]
     },
     "metadata": {},
     "output_type": "display_data"
    },
    {
     "data": {
      "image/png": "[encoded data removed]",
      "text/plain": [
       "<Figure size 640x480 with 1 Axes>"
      ]
     },
     "metadata": {},
     "output_type": "display_data"
    }
   ],
   "source": [
    "model2 = build_embeddings_model(average_over_positions=True,\n",
    "                               vocab_size=1000,\n",
    "                               sequence_length=20,\n",
    "                               embedding_dim=2)\n",
    "history2 = model2.fit(\n",
    "  x = X_train_reduced,  # our sparse padded training data\n",
    "  y = Y_train,          # corresponding binary labels\n",
    "  epochs=5,             # number of passes through the training data\n",
    "  batch_size=64,        # mini-batch size\n",
    "  validation_split=0.1, # use a fraction of the examples for validation\n",
    "  verbose=1             # display some progress output during training\n",
    "  )\n",
    "\n",
    "model2.summary()\n",
    "\n",
    "history2 = pd.DataFrame(history2.history)\n",
    "plot_history(history2)"
   ]
  },
  {
   "cell_type": "markdown",
   "metadata": {},
   "source": [
    "### <span style=\"color:chocolate\">Exercise 7:</span> Embedding size tuning (20 points)"
   ]
  },
  {
   "cell_type": "markdown",
   "metadata": {
    "id": "V3k__61hFnag"
   },
   "source": [
    "Experiment with embedding sizes {2, 4, 8, 16, 32, 64}, while keeping other settings fixed and using the averaging strategy instead of the concatenating strategy. Then:\n",
    "\n",
    "1. Construct a table showing the training and validation accuracies for each model after 5 training epochs;\n",
    "2. Calculate the number of parameters in each model;\n",
    "3. Analyze whether learned embeddings improve performance compared to one-hot encoding, and explain why this might be the case."
   ]
  },
  {
   "cell_type": "code",
   "execution_count": 18,
   "metadata": {},
   "outputs": [
    {
     "name": "stdout",
     "output_type": "stream",
     "text": [
      "Training model with embedding size 2\n",
      "Epoch 1/5\n",
      "\u001b[1m352/352\u001b[0m \u001b[32m━━━━━━━━━━━━━━━━━━━━\u001b[0m\u001b[37m\u001b[0m \u001b[1m2s\u001b[0m 3ms/step - accuracy: 0.5515 - loss: 0.6911 - val_accuracy: 0.6104 - val_loss: 0.6821\n",
      "Epoch 2/5\n",
      "\u001b[1m352/352\u001b[0m \u001b[32m━━━━━━━━━━━━━━━━━━━━\u001b[0m\u001b[37m\u001b[0m \u001b[1m1s\u001b[0m 3ms/step - accuracy: 0.6211 - loss: 0.6776 - val_accuracy: 0.6240 - val_loss: 0.6665\n",
      "Epoch 3/5\n",
      "\u001b[1m352/352\u001b[0m \u001b[32m━━━━━━━━━━━━━━━━━━━━\u001b[0m\u001b[37m\u001b[0m \u001b[1m1s\u001b[0m 2ms/step - accuracy: 0.6471 - loss: 0.6608 - val_accuracy: 0.6372 - val_loss: 0.6507\n",
      "Epoch 4/5\n",
      "\u001b[1m352/352\u001b[0m \u001b[32m━━━━━━━━━━━━━━━━━━━━\u001b[0m\u001b[37m\u001b[0m \u001b[1m0s\u001b[0m 930us/step - accuracy: 0.6613 - loss: 0.6438 - val_accuracy: 0.6492 - val_loss: 0.6366\n",
      "Epoch 5/5\n",
      "\u001b[1m352/352\u001b[0m \u001b[32m━━━━━━━━━━━━━━━━━━━━\u001b[0m\u001b[37m\u001b[0m \u001b[1m1s\u001b[0m 3ms/step - accuracy: 0.6722 - loss: 0.6285 - val_accuracy: 0.6588 - val_loss: 0.6248\n"
     ]
    },
    {
     "data": {
      "image/png": "[encoded data removed]",
      "text/plain": [
       "<Figure size 640x480 with 1 Axes>"
      ]
     },
     "metadata": {},
     "output_type": "display_data"
    },
    {
     "name": "stdout",
     "output_type": "stream",
     "text": [
      "Training model with embedding size 4\n",
      "Epoch 1/5\n",
      "\u001b[1m352/352\u001b[0m \u001b[32m━━━━━━━━━━━━━━━━━━━━\u001b[0m\u001b[37m\u001b[0m \u001b[1m2s\u001b[0m 3ms/step - accuracy: 0.5514 - loss: 0.6907 - val_accuracy: 0.6080 - val_loss: 0.6800\n",
      "Epoch 2/5\n",
      "\u001b[1m352/352\u001b[0m \u001b[32m━━━━━━━━━━━━━━━━━━━━\u001b[0m\u001b[37m\u001b[0m \u001b[1m0s\u001b[0m 931us/step - accuracy: 0.6260 - loss: 0.6736 - val_accuracy: 0.6300 - val_loss: 0.6578\n",
      "Epoch 3/5\n",
      "\u001b[1m352/352\u001b[0m \u001b[32m━━━━━━━━━━━━━━━━━━━━\u001b[0m\u001b[37m\u001b[0m \u001b[1m0s\u001b[0m 973us/step - accuracy: 0.6543 - loss: 0.6495 - val_accuracy: 0.6452 - val_loss: 0.6370\n",
      "Epoch 4/5\n",
      "\u001b[1m352/352\u001b[0m \u001b[32m━━━━━━━━━━━━━━━━━━━━\u001b[0m\u001b[37m\u001b[0m \u001b[1m1s\u001b[0m 3ms/step - accuracy: 0.6695 - loss: 0.6273 - val_accuracy: 0.6576 - val_loss: 0.6209\n",
      "Epoch 5/5\n",
      "\u001b[1m352/352\u001b[0m \u001b[32m━━━━━━━━━━━━━━━━━━━━\u001b[0m\u001b[37m\u001b[0m \u001b[1m1s\u001b[0m 3ms/step - accuracy: 0.6810 - loss: 0.6099 - val_accuracy: 0.6636 - val_loss: 0.6089\n"
     ]
    },
    {
     "data": {
      "image/png": "[encoded data removed]",
      "text/plain": [
       "<Figure size 640x480 with 1 Axes>"
      ]
     },
     "metadata": {},
     "output_type": "display_data"
    },
    {
     "name": "stdout",
     "output_type": "stream",
     "text": [
      "Training model with embedding size 8\n",
      "Epoch 1/5\n",
      "\u001b[1m352/352\u001b[0m \u001b[32m━━━━━━━━━━━━━━━━━━━━\u001b[0m\u001b[37m\u001b[0m \u001b[1m2s\u001b[0m 3ms/step - accuracy: 0.5667 - loss: 0.6878 - val_accuracy: 0.6188 - val_loss: 0.6681\n",
      "Epoch 2/5\n",
      "\u001b[1m352/352\u001b[0m \u001b[32m━━━━━━━━━━━━━━━━━━━━\u001b[0m\u001b[37m\u001b[0m \u001b[1m1s\u001b[0m 3ms/step - accuracy: 0.6451 - loss: 0.6581 - val_accuracy: 0.6488 - val_loss: 0.6379\n",
      "Epoch 3/5\n",
      "\u001b[1m352/352\u001b[0m \u001b[32m━━━━━━━━━━━━━━━━━━━━\u001b[0m\u001b[37m\u001b[0m \u001b[1m1s\u001b[0m 1ms/step - accuracy: 0.6693 - loss: 0.6266 - val_accuracy: 0.6596 - val_loss: 0.6157\n",
      "Epoch 4/5\n",
      "\u001b[1m352/352\u001b[0m \u001b[32m━━━━━━━━━━━━━━━━━━━━\u001b[0m\u001b[37m\u001b[0m \u001b[1m0s\u001b[0m 1ms/step - accuracy: 0.6843 - loss: 0.6035 - val_accuracy: 0.6668 - val_loss: 0.6012\n",
      "Epoch 5/5\n",
      "\u001b[1m352/352\u001b[0m \u001b[32m━━━━━━━━━━━━━━━━━━━━\u001b[0m\u001b[37m\u001b[0m \u001b[1m0s\u001b[0m 1ms/step - accuracy: 0.6936 - loss: 0.5879 - val_accuracy: 0.6756 - val_loss: 0.5921\n"
     ]
    },
    {
     "data": {
      "image/png": "[encoded data removed]",
      "text/plain": [
       "<Figure size 640x480 with 1 Axes>"
      ]
     },
     "metadata": {},
     "output_type": "display_data"
    },
    {
     "name": "stdout",
     "output_type": "stream",
     "text": [
      "Training model with embedding size 16\n",
      "Epoch 1/5\n",
      "\u001b[1m352/352\u001b[0m \u001b[32m━━━━━━━━━━━━━━━━━━━━\u001b[0m\u001b[37m\u001b[0m \u001b[1m2s\u001b[0m 2ms/step - accuracy: 0.5631 - loss: 0.6868 - val_accuracy: 0.6272 - val_loss: 0.6594\n",
      "Epoch 2/5\n",
      "\u001b[1m352/352\u001b[0m \u001b[32m━━━━━━━━━━━━━━━━━━━━\u001b[0m\u001b[37m\u001b[0m \u001b[1m1s\u001b[0m 1ms/step - accuracy: 0.6539 - loss: 0.6455 - val_accuracy: 0.6548 - val_loss: 0.6213\n",
      "Epoch 3/5\n",
      "\u001b[1m352/352\u001b[0m \u001b[32m━━━━━━━━━━━━━━━━━━━━\u001b[0m\u001b[37m\u001b[0m \u001b[1m1s\u001b[0m 1ms/step - accuracy: 0.6815 - loss: 0.6077 - val_accuracy: 0.6692 - val_loss: 0.5999\n",
      "Epoch 4/5\n",
      "\u001b[1m352/352\u001b[0m \u001b[32m━━━━━━━━━━━━━━━━━━━━\u001b[0m\u001b[37m\u001b[0m \u001b[1m1s\u001b[0m 1ms/step - accuracy: 0.6927 - loss: 0.5859 - val_accuracy: 0.6800 - val_loss: 0.5891\n",
      "Epoch 5/5\n",
      "\u001b[1m352/352\u001b[0m \u001b[32m━━━━━━━━━━━━━━━━━━━━\u001b[0m\u001b[37m\u001b[0m \u001b[1m1s\u001b[0m 2ms/step - accuracy: 0.6993 - loss: 0.5736 - val_accuracy: 0.6888 - val_loss: 0.5839\n"
     ]
    },
    {
     "data": {
      "image/png": "[encoded data removed]",
      "text/plain": [
       "<Figure size 640x480 with 1 Axes>"
      ]
     },
     "metadata": {},
     "output_type": "display_data"
    },
    {
     "name": "stdout",
     "output_type": "stream",
     "text": [
      "Training model with embedding size 32\n",
      "Epoch 1/5\n",
      "\u001b[1m352/352\u001b[0m \u001b[32m━━━━━━━━━━━━━━━━━━━━\u001b[0m\u001b[37m\u001b[0m \u001b[1m2s\u001b[0m 2ms/step - accuracy: 0.5704 - loss: 0.6840 - val_accuracy: 0.6412 - val_loss: 0.6442\n",
      "Epoch 2/5\n",
      "\u001b[1m352/352\u001b[0m \u001b[32m━━━━━━━━━━━━━━━━━━━━\u001b[0m\u001b[37m\u001b[0m \u001b[1m1s\u001b[0m 1ms/step - accuracy: 0.6692 - loss: 0.6273 - val_accuracy: 0.6660 - val_loss: 0.6039\n",
      "Epoch 3/5\n",
      "\u001b[1m352/352\u001b[0m \u001b[32m━━━━━━━━━━━━━━━━━━━━\u001b[0m\u001b[37m\u001b[0m \u001b[1m1s\u001b[0m 1ms/step - accuracy: 0.6893 - loss: 0.5897 - val_accuracy: 0.6792 - val_loss: 0.5882\n",
      "Epoch 4/5\n",
      "\u001b[1m352/352\u001b[0m \u001b[32m━━━━━━━━━━━━━━━━━━━━\u001b[0m\u001b[37m\u001b[0m \u001b[1m1s\u001b[0m 1ms/step - accuracy: 0.6992 - loss: 0.5731 - val_accuracy: 0.6892 - val_loss: 0.5826\n",
      "Epoch 5/5\n",
      "\u001b[1m352/352\u001b[0m \u001b[32m━━━━━━━━━━━━━━━━━━━━\u001b[0m\u001b[37m\u001b[0m \u001b[1m0s\u001b[0m 1ms/step - accuracy: 0.7035 - loss: 0.5651 - val_accuracy: 0.6900 - val_loss: 0.5808\n"
     ]
    },
    {
     "data": {
      "image/png": "[encoded data removed]",
      "text/plain": [
       "<Figure size 640x480 with 1 Axes>"
      ]
     },
     "metadata": {},
     "output_type": "display_data"
    },
    {
     "name": "stdout",
     "output_type": "stream",
     "text": [
      "Training model with embedding size 64\n",
      "Epoch 1/5\n",
      "\u001b[1m352/352\u001b[0m \u001b[32m━━━━━━━━━━━━━━━━━━━━\u001b[0m\u001b[37m\u001b[0m \u001b[1m2s\u001b[0m 4ms/step - accuracy: 0.5846 - loss: 0.6790 - val_accuracy: 0.6508 - val_loss: 0.6260\n",
      "Epoch 2/5\n",
      "\u001b[1m352/352\u001b[0m \u001b[32m━━━━━━━━━━━━━━━━━━━━\u001b[0m\u001b[37m\u001b[0m \u001b[1m0s\u001b[0m 1ms/step - accuracy: 0.6767 - loss: 0.6083 - val_accuracy: 0.6776 - val_loss: 0.5916\n",
      "Epoch 3/5\n",
      "\u001b[1m352/352\u001b[0m \u001b[32m━━━━━━━━━━━━━━━━━━━━\u001b[0m\u001b[37m\u001b[0m \u001b[1m1s\u001b[0m 2ms/step - accuracy: 0.6927 - loss: 0.5769 - val_accuracy: 0.6844 - val_loss: 0.5832\n",
      "Epoch 4/5\n",
      "\u001b[1m352/352\u001b[0m \u001b[32m━━━━━━━━━━━━━━━━━━━━\u001b[0m\u001b[37m\u001b[0m \u001b[1m0s\u001b[0m 1ms/step - accuracy: 0.7000 - loss: 0.5660 - val_accuracy: 0.6880 - val_loss: 0.5816\n",
      "Epoch 5/5\n",
      "\u001b[1m352/352\u001b[0m \u001b[32m━━━━━━━━━━━━━━━━━━━━\u001b[0m\u001b[37m\u001b[0m \u001b[1m0s\u001b[0m 1ms/step - accuracy: 0.7005 - loss: 0.5614 - val_accuracy: 0.6920 - val_loss: 0.5816\n"
     ]
    },
    {
     "data": {
      "image/png": "[encoded data removed]",
      "text/plain": [
       "<Figure size 640x480 with 1 Axes>"
      ]
     },
     "metadata": {},
     "output_type": "display_data"
    },
    {
     "name": "stdout",
     "output_type": "stream",
     "text": [
      "   Embedding Size  Training Accuracy  Validation Accuracy  \\\n",
      "0               2           0.669822               0.6588   \n",
      "1               4           0.679244               0.6636   \n",
      "2               8           0.693156               0.6756   \n",
      "3              16           0.699822               0.6888   \n",
      "4              32           0.703644               0.6900   \n",
      "5              64           0.702844               0.6920   \n",
      "\n",
      "   Number of Parameters  \n",
      "0                  2003  \n",
      "1                  4005  \n",
      "2                  8009  \n",
      "3                 16017  \n",
      "4                 32033  \n",
      "5                 64065  \n"
     ]
    }
   ],
   "source": [
    "# Embedding sizes to test\n",
    "embedding_sizes = [2, 4, 8, 16, 32, 64]\n",
    "\n",
    "# Dictionary to store results\n",
    "results = {\n",
    "    \"Embedding Size\": [],\n",
    "    \"Training Accuracy\": [],\n",
    "    \"Validation Accuracy\": [],\n",
    "    \"Number of Parameters\": []\n",
    "}\n",
    "\n",
    "# Train and evaluate model for each embedding size\n",
    "for embedding_dim in embedding_sizes:\n",
    "    print(f\"Training model with embedding size {embedding_dim}\")\n",
    "    model = build_embeddings_model(average_over_positions=True,\n",
    "                                   vocab_size=1000,\n",
    "                                   sequence_length=20,\n",
    "                                   embedding_dim=embedding_dim)\n",
    "    \n",
    "    # Train the model\n",
    "    history = model.fit(\n",
    "        x=X_train_reduced, \n",
    "        y=Y_train, \n",
    "        epochs=5, \n",
    "        batch_size=64, \n",
    "        validation_split=0.1, \n",
    "        verbose=1\n",
    "    )\n",
    "    \n",
    "    # Capture final training and validation accuracy\n",
    "    final_training_accuracy = history.history['accuracy'][-1]\n",
    "    final_validation_accuracy = history.history['val_accuracy'][-1]\n",
    "    \n",
    "    # Get the number of parameters in the model\n",
    "    num_parameters = model.count_params()\n",
    "    \n",
    "    # Append results to dictionary\n",
    "    results[\"Embedding Size\"].append(embedding_dim)\n",
    "    results[\"Training Accuracy\"].append(final_training_accuracy)\n",
    "    results[\"Validation Accuracy\"].append(final_validation_accuracy)\n",
    "    results[\"Number of Parameters\"].append(num_parameters)\n",
    "    \n",
    "    # Plot learning curve for current embedding size\n",
    "    history_df = pd.DataFrame(history.history)\n",
    "    plot_history(history_df)\n",
    "\n",
    "# Convert results to a DataFrame for easy viewing\n",
    "results_df = pd.DataFrame(results)\n",
    "print(results_df)"
   ]
  },
  {
   "cell_type": "markdown",
   "metadata": {
    "id": "O7t46ZdX2ofd"
   },
   "source": [
    "*Written answer:*\n",
    "\n",
    "1. Shown above.\n",
    "\n",
    "2. Shown above.\n",
    "\n",
    "3. As numbers shown on the table, validation accuracy increases with learned embeddings. Learned embeddings improve performance over one-hot encodings, especially when the vocabulary size and sequence length are large. This is because embeddings capture semantic relationships between tokens by mapping them to a continuous vector space, where tokens with similar meanings are positioned closer together. One-hot encoding, by contrast, creates sparse, high-dimensional representations where each token is orthogonal to others, lacking any semantic information. Learned embeddings enable the model to recognize similarities and associations between tokens, which can enhance generalization and improve classification accuracy, particularly on unseen data.\n"
   ]
  },
  {
   "cell_type": "markdown",
   "metadata": {},
   "source": [
    "---"
   ]
  },
  {
   "cell_type": "markdown",
   "metadata": {
    "id": "i2dWOuxqKHA6"
   },
   "source": [
    "### Inspecting Learned Embeddings\n",
    "You will now retrieve the learned embedding parameters from the trained model2 and plot the token embeddings.\n",
    "\n",
    "The model layers in a Keras Sequential model are stored as a list and the embeddings are the first layer. You can use the <span style=\"color:chocolate\">get_weights()</span> function to get a numpy array with the parameters."
   ]
  },
  {
   "cell_type": "code",
   "execution_count": 19,
   "metadata": {
    "colab": {
     "base_uri": "https://localhost:8080/",
     "height": 86
    },
    "executionInfo": {
     "elapsed": 355,
     "status": "ok",
     "timestamp": 1646684774106,
     "user": {
      "displayName": "Daniel Gillick",
      "photoUrl": "https://lh3.googleusercontent.com/a-/AOh14Gg9DrSMlwYnG9EolecuJqe8n9m7fpcje4_UbYrhQ10=s64",
      "userId": "01872965353911650729"
     },
     "user_tz": 600
    },
    "id": "bfsbGSwkaFjo",
    "outputId": "d9d74723-012f-464f-a9f3-8a41d8178868"
   },
   "outputs": [
    {
     "data": {
      "text/plain": [
       "[<Embedding name=embedding, built=True>,\n",
       " <GlobalAveragePooling1D name=global_average_pooling1d, built=True>,\n",
       " <Dense name=dense, built=True>]"
      ]
     },
     "metadata": {},
     "output_type": "display_data"
    },
    {
     "data": {
      "text/plain": [
       "(1000, 2)"
      ]
     },
     "metadata": {},
     "output_type": "display_data"
    }
   ],
   "source": [
    "# Display the model layers.\n",
    "display(model2.layers)\n",
    "\n",
    "# Retrieve the embeddings layer, which itself is wrapped in a list.\n",
    "embeddings2 = model2.layers[0].get_weights()[0]\n",
    "display(embeddings2.shape)"
   ]
  },
  {
   "cell_type": "markdown",
   "metadata": {
    "id": "apPWscNwcXTE"
   },
   "source": [
    "Now you'll use a fancy plotting tool called *plotly* to show the embeddings with hovertext so you can move your mouse over the points to see the corresponding tokens."
   ]
  },
  {
   "cell_type": "code",
   "execution_count": 41,
   "metadata": {},
   "outputs": [
    {
     "name": "stdout",
     "output_type": "stream",
     "text": [
      "Requirement already satisfied: nbformat in c:\\users\\myk53\\hello\\.venv\\lib\\site-packages (5.10.4)\n",
      "Requirement already satisfied: fastjsonschema>=2.15 in c:\\users\\myk53\\hello\\.venv\\lib\\site-packages (from nbformat) (2.20.0)\n",
      "Requirement already satisfied: jsonschema>=2.6 in c:\\users\\myk53\\hello\\.venv\\lib\\site-packages (from nbformat) (4.23.0)\n",
      "Requirement already satisfied: jupyter-core!=5.0.*,>=4.12 in c:\\users\\myk53\\hello\\.venv\\lib\\site-packages (from nbformat) (5.7.2)\n",
      "Requirement already satisfied: traitlets>=5.1 in c:\\users\\myk53\\hello\\.venv\\lib\\site-packages (from nbformat) (5.14.3)\n",
      "Requirement already satisfied: attrs>=22.2.0 in c:\\users\\myk53\\hello\\.venv\\lib\\site-packages (from jsonschema>=2.6->nbformat) (24.2.0)\n",
      "Requirement already satisfied: jsonschema-specifications>=2023.03.6 in c:\\users\\myk53\\hello\\.venv\\lib\\site-packages (from jsonschema>=2.6->nbformat) (2024.10.1)\n",
      "Requirement already satisfied: referencing>=0.28.4 in c:\\users\\myk53\\hello\\.venv\\lib\\site-packages (from jsonschema>=2.6->nbformat) (0.35.1)\n",
      "Requirement already satisfied: rpds-py>=0.7.1 in c:\\users\\myk53\\hello\\.venv\\lib\\site-packages (from jsonschema>=2.6->nbformat) (0.20.1)\n",
      "Requirement already satisfied: platformdirs>=2.5 in c:\\users\\myk53\\hello\\.venv\\lib\\site-packages (from jupyter-core!=5.0.*,>=4.12->nbformat) (4.2.2)\n",
      "Requirement already satisfied: pywin32>=300 in c:\\users\\myk53\\hello\\.venv\\lib\\site-packages (from jupyter-core!=5.0.*,>=4.12->nbformat) (306)\n",
      "Note: you may need to restart the kernel to use updated packages.\n"
     ]
    },
    {
     "name": "stderr",
     "output_type": "stream",
     "text": [
      "\n",
      "[notice] A new release of pip is available: 24.2 -> 24.3.1\n",
      "[notice] To update, run: python.exe -m pip install --upgrade pip\n"
     ]
    }
   ],
   "source": [
    "pip install --upgrade nbformat"
   ]
  },
  {
   "cell_type": "code",
   "execution_count": 20,
   "metadata": {
    "colab": {
     "base_uri": "https://localhost:8080/",
     "height": 542
    },
    "executionInfo": {
     "elapsed": 453,
     "status": "ok",
     "timestamp": 1646684778338,
     "user": {
      "displayName": "Daniel Gillick",
      "photoUrl": "https://lh3.googleusercontent.com/a-/AOh14Gg9DrSMlwYnG9EolecuJqe8n9m7fpcje4_UbYrhQ10=s64",
      "userId": "01872965353911650729"
     },
     "user_tz": 600
    },
    "id": "5RZMTrA0KttL",
    "outputId": "f5ec9b65-84bb-4c28-c673-cf86a87112df"
   },
   "outputs": [
    {
     "data": {
      "application/vnd.plotly.v1+json": {
       "config": {
        "plotlyServerURL": "https://plot.ly"
       },
       "data": [
        {
         "hoverinfo": "text",
         "mode": "markers",
         "text": [
          "game",
          "past",
          "able",
          "b",
          "days",
          "turns",
          "child",
          "they're",
          "hand",
          "flick",
          "enjoyed",
          "act",
          "genre",
          "town",
          "favorite",
          "soon",
          "kill",
          "starts",
          "sometimes",
          "car",
          "gave",
          "run",
          "late",
          "eyes",
          "actress",
          "etc",
          "directed",
          "horrible",
          "won't",
          "viewer",
          "brilliant",
          "parts",
          "self",
          "themselves",
          "hour",
          "expect",
          "thinking",
          "stories",
          "stuff",
          "girls",
          "obviously",
          "blood",
          "decent",
          "city",
          "voice",
          "highly",
          "myself",
          "feeling",
          "fight",
          "except",
          "slow",
          "matter",
          "type",
          "anyway",
          "kid",
          "roles",
          "killed",
          "heard",
          "god",
          "age",
          "says",
          "moment",
          "took",
          "leave",
          "writer",
          "strong",
          "cannot",
          "violence",
          "police",
          "hit",
          "stop",
          "happens",
          "particularly",
          "known",
          "involved",
          "happened",
          "extremely",
          "daughter",
          "obvious",
          "told",
          "chance",
          "living",
          "coming",
          "lack",
          "alone",
          "experience",
          "wouldn't",
          "including",
          "murder",
          "attempt",
          "s",
          "please",
          "james",
          "happen",
          "wonder",
          "crap",
          "ago",
          "brother",
          "film's",
          "gore",
          "none",
          "complete",
          "interest",
          "score",
          "group",
          "cut",
          "simple",
          "save",
          "ok",
          "hell",
          "looked",
          "career",
          "number",
          "song",
          "possible",
          "seriously",
          "annoying",
          "shown",
          "exactly",
          "sad",
          "running",
          "musical",
          "serious",
          "taken",
          "yourself",
          "whose",
          "released",
          "cinematography",
          "david",
          "scary",
          "ends",
          "english",
          "hero",
          "usually",
          "hours",
          "reality",
          "opening",
          "i'll",
          "across",
          "today",
          "jokes",
          "light",
          "hilarious",
          "somewhat",
          "usual",
          "started",
          "cool",
          "ridiculous",
          "body",
          "relationship",
          "view",
          "level",
          "opinion",
          "change",
          "happy",
          "middle",
          "taking",
          "wish",
          "husband",
          "finds",
          "saying",
          "order",
          "talking",
          "ones",
          "documentary",
          "shots",
          "huge",
          "novel",
          "female",
          "mostly",
          "robert",
          "power",
          "episodes",
          "room",
          "important",
          "rating",
          "talent",
          "five",
          "major",
          "turned",
          "strange",
          "word",
          "modern",
          "call",
          "apparently",
          "disappointed",
          "single",
          "events",
          "due",
          "four",
          "songs",
          "basically",
          "attention",
          "7",
          "knows",
          "clearly",
          "supporting",
          "knew",
          "british",
          "television",
          "comic",
          "non",
          "fast",
          "earth",
          "country",
          "future",
          "cheap",
          "class",
          "thriller",
          "8",
          "silly",
          "king",
          "problems",
          "aren't",
          "easily",
          "words",
          "tells",
          "miss",
          "jack",
          "local",
          "sequence",
          "bring",
          "entertainment",
          "paul",
          "beyond",
          "upon",
          "whether",
          "predictable",
          "moving",
          "similar",
          "straight",
          "romantic",
          "sets",
          "review",
          "falls",
          "oscar",
          "mystery",
          "enjoyable",
          "needs",
          "appears",
          "talk",
          "rock",
          "george",
          "giving",
          "eye",
          "richard",
          "within",
          "ten",
          "animation",
          "message",
          "theater",
          "near",
          "above",
          "dull",
          "nearly",
          "sequel",
          "theme",
          "points",
          "'",
          "stand",
          "mention",
          "lady",
          "bunch",
          "add",
          "feels",
          "herself",
          "release",
          "red",
          "team",
          "storyline",
          "surprised",
          "ways",
          "using",
          "named",
          "haven't",
          "lots",
          "easy",
          "fantastic",
          "begins",
          "actual",
          "working",
          "effort",
          "york",
          "die",
          "hate",
          "french",
          "minute",
          "tale",
          "clear",
          "stay",
          "9",
          "elements",
          "feature",
          "among",
          "follow",
          "comments",
          "re",
          "viewers",
          "avoid",
          "sister",
          "showing",
          "typical",
          "editing",
          "what's",
          "famous",
          "tried",
          "sorry",
          "dialog",
          "check",
          "fall",
          "period",
          "season",
          "form",
          "certain",
          "filmed",
          "weak",
          "soundtrack",
          "means",
          "buy",
          "material",
          "somehow",
          "realistic",
          "figure",
          "crime",
          "doubt",
          "gone",
          "peter",
          "tom",
          "kept",
          "viewing",
          "t",
          "general",
          "leads",
          "greatest",
          "space",
          "lame",
          "suspense",
          "dance",
          "imagine",
          "brought",
          "third",
          "atmosphere",
          "hear",
          "particular",
          "sequences",
          "whatever",
          "parents",
          "move",
          "lee",
          "indeed",
          "learn",
          "rent",
          "de",
          "eventually",
          "note",
          "deal",
          "average",
          "reviews",
          "wait",
          "forget",
          "japanese",
          "sexual",
          "poorly",
          "premise",
          "okay",
          "zombie",
          "surprise",
          "believable",
          "stage",
          "possibly",
          "sit",
          "who's",
          "decided",
          "expected",
          "you've",
          "subject",
          "nature",
          "became",
          "difficult",
          "free",
          "killing",
          "screenplay",
          "truth",
          "romance",
          "dr",
          "nor",
          "reading",
          "needed",
          "question",
          "leaves",
          "street",
          "20",
          "meets",
          "hot",
          "unless",
          "begin",
          "baby",
          "superb",
          "credits",
          "imdb",
          "otherwise",
          "write",
          "shame",
          "let's",
          "situation",
          "dramatic",
          "memorable",
          "directors",
          "earlier",
          "meet",
          "disney",
          "open",
          "dog",
          "badly",
          "joe",
          "male",
          "weird",
          "acted",
          "forced",
          "laughs",
          "sci",
          "emotional",
          "older",
          "realize",
          "fi",
          "dream",
          "society",
          "writers",
          "interested",
          "footage",
          "forward",
          "comment",
          "crazy",
          "deep",
          "sounds",
          "plus",
          "beauty",
          "whom",
          "america",
          "fantasy",
          "directing",
          "keeps",
          "ask",
          "development",
          "features",
          "air",
          "quickly",
          "mess",
          "creepy",
          "towards",
          "perfectly",
          "mark",
          "worked",
          "box",
          "cheesy",
          "unique",
          "setting",
          "hands",
          "plenty",
          "result",
          "previous",
          "brings",
          "effect",
          "e",
          "total",
          "personal",
          "incredibly",
          "rate",
          "fire",
          "monster",
          "business",
          "leading",
          "apart",
          "casting",
          "admit",
          "joke",
          "powerful",
          "appear",
          "background",
          "telling",
          "girlfriend",
          "meant",
          "christmas",
          "hardly",
          "present",
          "battle",
          "potential",
          "create",
          "bill",
          "break",
          "pay",
          "masterpiece",
          "gay",
          "political",
          "return",
          "dumb",
          "fails",
          "fighting",
          "various",
          "era"
         ],
         "textposition": "bottom left",
         "type": "scatter",
         "x": [
          0.14336633682250977,
          0.0282423198223114,
          0.21502850949764252,
          -0.26458027958869934,
          0.06174410134553909,
          0.045468252152204514,
          0.2929460406303406,
          -0.1635870486497879,
          -0.17638543248176575,
          -0.20895078778266907,
          0.9142046570777893,
          -0.08106108009815216,
          0.14173367619514465,
          -0.12563535571098328,
          0.7979462146759033,
          0.10471772402524948,
          -0.01572982780635357,
          -0.5690566897392273,
          0.06531032174825668,
          -0.07312346994876862,
          -0.2730337381362915,
          0.26603683829307556,
          0.4217022657394409,
          -0.1634153127670288,
          -0.041432492434978485,
          -0.017999766394495964,
          -0.047217413783073425,
          -0.8879210948944092,
          -0.004491059575229883,
          0.13568179309368134,
          0.7716982364654541,
          0.0436219684779644,
          -0.3834780752658844,
          -0.06518521904945374,
          -0.3165018558502197,
          0.08200368285179138,
          -0.5032424330711365,
          0.23347532749176025,
          0.03969306871294975,
          -0.29399195313453674,
          -0.14992131292819977,
          -0.024561308324337006,
          -0.4622594714164734,
          0.2842710316181183,
          0.16682058572769165,
          0.31306105852127075,
          -0.20942839980125427,
          0.09747033566236496,
          0.30060747265815735,
          -0.27463507652282715,
          -0.2808368504047394,
          -0.013573535718023777,
          0.025085942819714546,
          -0.017465265467762947,
          0.23205144703388214,
          0.2566322982311249,
          -0.19099092483520508,
          0.014323316514492035,
          -0.5118318200111389,
          0.28679752349853516,
          -0.14283432066440582,
          -0.034513816237449646,
          0.18352769315242767,
          0.08320540189743042,
          -0.010525661520659924,
          0.17602156102657318,
          -0.3366957902908325,
          -0.17500092089176178,
          0.1470842957496643,
          0.27160322666168213,
          -0.1434144377708435,
          -0.22839678823947906,
          -0.14471429586410522,
          0.14977698028087616,
          -0.312217652797699,
          0.04017380625009537,
          -0.018733665347099304,
          0.2165984809398651,
          -0.3609064519405365,
          0.3594687581062317,
          0.16435568034648895,
          0.17289520800113678,
          0.1056675985455513,
          -0.14693838357925415,
          -0.11202958226203918,
          0.19169995188713074,
          0.022012358531355858,
          -0.0601140595972538,
          0.05252448469400406,
          -0.44864827394485474,
          -0.2713523507118225,
          -0.40155965089797974,
          0.3248729109764099,
          -0.08274833112955093,
          -0.21942460536956787,
          -0.6322490572929382,
          0.3934992551803589,
          -0.08500257134437561,
          0.04137798771262169,
          -0.2870315909385681,
          -0.06404004245996475,
          -0.46163201332092285,
          0.24487128853797913,
          0.01963646709918976,
          -0.308468222618103,
          -0.0122828995808959,
          0.46259555220603943,
          -0.2838440537452698,
          -0.5478131771087646,
          -0.29048362374305725,
          -0.3436660170555115,
          -0.012435860931873322,
          0.09133979678153992,
          0.3203527331352234,
          -0.2626189589500427,
          -0.3019433915615082,
          -0.4343678951263428,
          0.05270352587103844,
          -0.1578974425792694,
          -0.05567115917801857,
          -0.11328794062137604,
          0.18650443851947784,
          -0.03391370549798012,
          0.04464695230126381,
          0.052285335958004,
          0.02462487295269966,
          0.3356347680091858,
          0.21655254065990448,
          0.1580144613981247,
          -0.17059269547462463,
          0.020247185602784157,
          -0.1252693086862564,
          -0.0836133360862732,
          -0.15193119645118713,
          -0.2886435091495514,
          0.15739169716835022,
          0.06992693245410919,
          -0.2845916748046875,
          0.1858595609664917,
          0.15034069120883942,
          -0.21517421305179596,
          0.34542447328567505,
          0.4771752953529358,
          0.05629768222570419,
          -0.02439330704510212,
          -0.1280972808599472,
          0.044555194675922394,
          -0.7441651225090027,
          -0.09438516199588776,
          0.03558305650949478,
          0.21187691390514374,
          0.12279435247182846,
          0.3111162483692169,
          -0.006768029183149338,
          0.05626460909843445,
          0.08805644512176514,
          0.03473065048456192,
          -0.15122443437576294,
          -0.04228619858622551,
          -0.07759850472211838,
          -0.24824142456054688,
          -0.009927118197083473,
          0.13141201436519623,
          -0.09672469645738602,
          0.42243432998657227,
          -0.19226861000061035,
          -0.17003150284290314,
          -0.07459169626235962,
          0.01817510649561882,
          0.051542993634939194,
          0.17730429768562317,
          -0.18473316729068756,
          0.20539546012878418,
          0.15547963976860046,
          0.1330976039171219,
          -0.15234625339508057,
          -0.18380482494831085,
          -0.17917698621749878,
          -0.2104293256998062,
          -0.07758986204862595,
          0.22270062565803528,
          -0.18820367753505707,
          0.3779468536376953,
          -0.01836148463189602,
          -0.25166893005371094,
          -0.55373615026474,
          -0.168075293302536,
          0.166875958442688,
          0.05631035566329956,
          0.09092827886343002,
          0.11620547622442245,
          -0.44843053817749023,
          0.1895081102848053,
          0.24020271003246307,
          -0.004450456704944372,
          -0.18750102818012238,
          0.18984705209732056,
          0.08970706164836884,
          0.1635722666978836,
          0.3215901553630829,
          0.13137544691562653,
          -0.001178693724796176,
          -0.18060529232025146,
          -0.20468929409980774,
          0.04616488143801689,
          0.12607942521572113,
          -0.525118350982666,
          0.017493564635515213,
          0.17415742576122284,
          0.3602764904499054,
          -0.0408959724009037,
          0.11356744170188904,
          0.09783569723367691,
          0.04791628196835518,
          0.0367426872253418,
          -0.17304627597332,
          0.2489883452653885,
          0.1927114576101303,
          0.153173565864563,
          -0.11845897138118744,
          0.0059230332262814045,
          -0.1107809916138649,
          0.036407917737960815,
          0.307691752910614,
          -0.2235732227563858,
          0.19327300786972046,
          -0.13744881749153137,
          -0.4195750653743744,
          0.2294849455356598,
          -0.013623611070215702,
          -0.08133603632450104,
          0.3127867877483368,
          0.042272329330444336,
          -0.47593775391578674,
          -0.38411909341812134,
          0.1331460028886795,
          -0.04520963504910469,
          0.2893778383731842,
          0.00533947953954339,
          -0.1907704621553421,
          -0.09331758320331573,
          0.28016841411590576,
          0.0780792161822319,
          -0.04355001077055931,
          0.1877070963382721,
          0.08117122203111649,
          0.09587099403142929,
          0.18542589247226715,
          0.3629005253314972,
          0.2430141270160675,
          -0.1523285061120987,
          0.07061849534511566,
          0.21232788264751434,
          -0.6668279767036438,
          0.04395323619246483,
          -0.3339734971523285,
          0.0640256255865097,
          -0.08531908690929413,
          0.04380137473344803,
          0.19729410111904144,
          -0.1935385763645172,
          0.17757751047611237,
          -0.25419580936431885,
          0.08853067457675934,
          -0.0027493906673043966,
          -0.0010968175483867526,
          0.20573805272579193,
          0.28217098116874695,
          0.06970390677452087,
          -0.16463041305541992,
          0.5734941959381104,
          0.19548460841178894,
          -0.18674927949905396,
          -0.150588721036911,
          0.2850392162799835,
          0.12001795321702957,
          0.34179699420928955,
          0.4278041124343872,
          0.0010727666085585952,
          0.11609609425067902,
          0.024861324578523636,
          -0.3372155725955963,
          0.14755836129188538,
          -0.14253418147563934,
          -0.13585001230239868,
          0.3268045485019684,
          -0.33289244771003723,
          0.3853483200073242,
          0.060213979333639145,
          -0.03472210466861725,
          0.08121789246797562,
          0.04641824588179588,
          0.3768487274646759,
          0.17219895124435425,
          0.07706398516893387,
          0.10671842098236084,
          0.046782225370407104,
          -0.10019335895776749,
          -0.40939846634864807,
          0.04890809580683708,
          0.04979709908366203,
          -0.020370107144117355,
          -0.14100225269794464,
          -0.15733855962753296,
          0.13157311081886292,
          -0.49533870816230774,
          -0.5111661553382874,
          -0.2981695830821991,
          -0.13062667846679688,
          -0.004043980967253447,
          0.02640877664089203,
          0.17085811495780945,
          -0.014662499539554119,
          0.040138669312000275,
          0.279358834028244,
          -0.6306741237640381,
          0.029680028557777405,
          -0.14176340401172638,
          0.0611269548535347,
          -0.1926531046628952,
          0.026781432330608368,
          0.487934947013855,
          -0.25647541880607605,
          0.11808730661869049,
          -0.07111109048128128,
          -0.09210396558046341,
          -0.024590151384472847,
          0.21347102522850037,
          -0.010045058093965054,
          0.3419239819049835,
          -0.2634262144565582,
          -0.00955407414585352,
          -0.12654249370098114,
          0.6147292256355286,
          -0.1481352150440216,
          -0.6067929267883301,
          0.15479642152786255,
          0.13670186698436737,
          -0.27268025279045105,
          0.22109337151050568,
          0.11413345485925674,
          0.13442331552505493,
          0.043804626911878586,
          0.09836351126432419,
          0.12083662301301956,
          -0.24239183962345123,
          0.21750806272029877,
          -0.04857538267970085,
          -0.29688334465026855,
          -0.05098963528871536,
          -0.04577375948429108,
          -0.3973873555660248,
          0.2135724574327469,
          -0.1339564174413681,
          -0.19259481132030487,
          -0.16994503140449524,
          0.062185246497392654,
          -0.22208085656166077,
          0.05587844178080559,
          0.19221331179141998,
          0.1254163384437561,
          0.062364187091588974,
          -0.710545539855957,
          -0.5414473414421082,
          -0.3060804009437561,
          -0.31303921341896057,
          0.47274473309516907,
          0.23061907291412354,
          0.1490629017353058,
          -0.32755354046821594,
          -0.19947627186775208,
          0.12160331010818481,
          -0.24220848083496094,
          -0.24916066229343414,
          -0.16907146573066711,
          -0.039489246904850006,
          -0.014791984111070633,
          -0.025647234171628952,
          0.15414322912693024,
          -0.32277312874794006,
          -0.20827805995941162,
          -0.0379340834915638,
          0.0008722929051145911,
          0.22779245674610138,
          -0.18705421686172485,
          0.12385052442550659,
          0.007950869388878345,
          -0.16647589206695557,
          -0.16395075619220734,
          -0.026652269065380096,
          0.046593617647886276,
          -0.06843063980340958,
          0.1667603701353073,
          0.1088336631655693,
          -0.4026591181755066,
          -0.37844809889793396,
          0.23475037515163422,
          0.529154360294342,
          -0.09487517923116684,
          -0.19689467549324036,
          -0.4279840886592865,
          -0.4803382456302643,
          -0.22577837109565735,
          -0.16403990983963013,
          0.17475740611553192,
          -0.0651441365480423,
          0.1559189260005951,
          0.2878497242927551,
          0.06057696044445038,
          -0.049365147948265076,
          0.3627259433269501,
          -0.100739985704422,
          0.12948061525821686,
          -0.5817939043045044,
          -0.0668765977025032,
          0.02166358195245266,
          -0.057862188667058945,
          0.11662529408931732,
          -0.2412239909172058,
          0.03862423449754715,
          -0.04523193836212158,
          0.3024420440196991,
          0.2706775963306427,
          -0.1259002536535263,
          -0.027844766154885292,
          0.02609005570411682,
          0.18749584257602692,
          -0.28980910778045654,
          -0.04886101558804512,
          -0.09398813545703888,
          -0.49013596773147583,
          0.0010492727160453796,
          -0.06172866001725197,
          0.010582761839032173,
          0.030398152768611908,
          -0.04342881962656975,
          0.20074717700481415,
          -0.10299328714609146,
          -0.006900713313370943,
          0.27272409200668335,
          -0.14592653512954712,
          0.05253235995769501,
          0.05382221192121506,
          -0.027680207043886185,
          -0.023759622126817703,
          0.1551613062620163,
          -0.13499939441680908,
          -0.6406161785125732,
          -0.09878677129745483,
          0.07920779287815094,
          0.20060916244983673,
          -0.08121654391288757,
          -0.03756703436374664,
          -0.10490625351667404,
          -0.13271354138851166,
          0.33739998936653137,
          -0.03762134537100792,
          -0.06357624381780624,
          0.19855155050754547,
          -0.06039856746792793,
          -0.0978192389011383,
          0.17013555765151978,
          -0.010447625070810318,
          -0.005717635154724121,
          -0.35200807452201843,
          0.24398456513881683,
          -0.047603365033864975,
          0.0768575593829155,
          0.08316046744585037,
          -0.29776692390441895,
          0.04824864864349365,
          0.025754300877451897,
          -0.11571051180362701,
          -0.061745986342430115,
          0.11989518254995346,
          -0.43070733547210693,
          0.48150986433029175,
          -0.03484714776277542,
          -0.1768195480108261,
          0.1271035373210907,
          -0.19612453877925873,
          -0.11370553076267242,
          -0.14767298102378845,
          -0.11770027875900269,
          0.18988312780857086,
          0.20683780312538147,
          -0.5770527124404907,
          -0.04810492694377899,
          0.091473288834095,
          0.2327064871788025,
          -0.21911871433258057,
          0.6485840678215027,
          -0.23312273621559143,
          0.10973826050758362,
          0.19671833515167236,
          -0.2822062373161316,
          -0.4106711745262146,
          -0.014791042543947697,
          -0.14517655968666077,
          0.18366117775440216
         ],
         "y": [
          -0.18159127235412598,
          0.04419330880045891,
          -0.2483680695295334,
          0.36567938327789307,
          -0.030955810099840164,
          -0.016328971832990646,
          -0.30074936151504517,
          0.16357429325580597,
          0.19982030987739563,
          0.14682091772556305,
          -1.002118706703186,
          0.09257243573665619,
          -0.16467854380607605,
          0.18518322706222534,
          -0.8198779821395874,
          -0.045952145010232925,
          0.027618471533060074,
          0.6674826145172119,
          0.00012759456876665354,
          0.12354063987731934,
          0.28576675057411194,
          -0.28947913646698,
          -0.34276750683784485,
          0.16536766290664673,
          0.06815841048955917,
          0.030131544917821884,
          -0.018661733716726303,
          1.0007988214492798,
          0.10267451405525208,
          -0.08970609307289124,
          -0.7584198117256165,
          -0.01544230431318283,
          0.37045997381210327,
          0.08639147132635117,
          0.3027699887752533,
          -0.1114652156829834,
          0.5211870074272156,
          -0.2649765908718109,
          0.049988362938165665,
          0.3512848913669586,
          0.09488583356142044,
          0.037274956703186035,
          0.46362563967704773,
          -0.2329014092683792,
          -0.1942717432975769,
          -0.3008853495121002,
          0.23271548748016357,
          -0.10119849443435669,
          -0.2705507278442383,
          0.3593083918094635,
          0.2520703077316284,
          0.012561541050672531,
          -0.07471401989459991,
          0.08165986835956573,
          -0.2717215120792389,
          -0.3147897720336914,
          0.20981189608573914,
          -0.02575203776359558,
          0.5099341869354248,
          -0.29937899112701416,
          0.08584234118461609,
          0.08794566243886948,
          -0.26206085085868835,
          -0.13936924934387207,
          -0.057000745087862015,
          -0.156320258975029,
          0.2536359429359436,
          0.13164593279361725,
          -0.12492886185646057,
          -0.23641812801361084,
          0.07385037839412689,
          0.1857578307390213,
          0.10193207859992981,
          -0.11509307473897934,
          0.23813749849796295,
          0.0034568870905786753,
          0.02593386545777321,
          -0.21118514239788055,
          0.3683702051639557,
          -0.33568644523620605,
          -0.24435561895370483,
          -0.12471027672290802,
          -0.04719580337405205,
          0.21647584438323975,
          0.13257978856563568,
          -0.19494207203388214,
          -0.008771199733018875,
          -0.0287107415497303,
          -0.04846196621656418,
          0.4152061641216278,
          0.26230287551879883,
          0.37138620018959045,
          -0.3566884696483612,
          0.1185150146484375,
          0.19037285447120667,
          0.7160369157791138,
          -0.4497394561767578,
          0.1128203496336937,
          -0.09309321641921997,
          0.3772130608558655,
          0.06676330417394638,
          0.5438045263290405,
          -0.2419550120830536,
          -0.03302649036049843,
          0.27932918071746826,
          -0.032333508133888245,
          -0.5298590660095215,
          0.322478711605072,
          0.5401936769485474,
          0.3384924530982971,
          0.3309657871723175,
          -0.037485577166080475,
          -0.11670313030481339,
          -0.3670293092727661,
          0.27978938817977905,
          0.35370492935180664,
          0.461169570684433,
          0.02985144406557083,
          0.14685294032096863,
          0.04275818541646004,
          0.08333498239517212,
          -0.18505556881427765,
          -0.007223114836961031,
          -0.037985607981681824,
          -0.019472798332571983,
          -0.09655437618494034,
          -0.35387080907821655,
          -0.23327024281024933,
          -0.13283708691596985,
          0.2511749565601349,
          0.017615564167499542,
          0.1091579869389534,
          0.0806906670331955,
          0.17047825455665588,
          0.2995698153972626,
          -0.18357428908348083,
          -0.07330269366502762,
          0.25784632563591003,
          -0.24385030567646027,
          -0.18163934350013733,
          0.17915157973766327,
          -0.34437644481658936,
          -0.43253305554389954,
          -0.018973516300320625,
          0.004371579270809889,
          0.18228521943092346,
          0.014519846066832542,
          0.7600898146629333,
          0.08182919770479202,
          -0.05968836694955826,
          -0.24224136769771576,
          -0.14781472086906433,
          -0.3488090932369232,
          0.044561244547367096,
          -0.04621770977973938,
          -0.1399482637643814,
          -0.07171900570392609,
          0.15712027251720428,
          0.07336611300706863,
          0.056590624153614044,
          0.28174811601638794,
          0.05912317335605621,
          -0.136533722281456,
          0.042335353791713715,
          -0.3902572691440582,
          0.16675302386283875,
          0.16109192371368408,
          0.08056947588920593,
          -0.031582556664943695,
          -0.0665658712387085,
          -0.2119971364736557,
          0.19507092237472534,
          -0.23265814781188965,
          -0.15480530261993408,
          -0.16870982944965363,
          0.07627860456705093,
          0.13779708743095398,
          0.1495036780834198,
          0.18236158788204193,
          0.05114205181598663,
          -0.20946279168128967,
          0.18774811923503876,
          -0.3785000443458557,
          0.049889422953128815,
          0.2199781835079193,
          0.5627154111862183,
          0.18967023491859436,
          -0.24269893765449524,
          -0.0369805209338665,
          -0.006821713410317898,
          -0.03232536464929581,
          0.4515261650085449,
          -0.13620054721832275,
          -0.24977058172225952,
          0.013937882147729397,
          0.24572835862636566,
          -0.22908137738704681,
          -0.09649095684289932,
          -0.23898279666900635,
          -0.30989938974380493,
          -0.09243880957365036,
          0.07466831058263779,
          0.18166756629943848,
          0.26837804913520813,
          0.030546322464942932,
          -0.1300291270017624,
          0.5219266414642334,
          0.039479728788137436,
          -0.1148967444896698,
          -0.3366556763648987,
          0.05994267016649246,
          -0.09179207682609558,
          -0.04699248448014259,
          -0.12973915040493011,
          -0.06473337113857269,
          0.2012748420238495,
          -0.198145791888237,
          -0.21435445547103882,
          -0.1991126984357834,
          0.03386116027832031,
          -0.08388550579547882,
          0.06508564949035645,
          -0.04011233523488045,
          -0.30147331953048706,
          0.23729780316352844,
          -0.1304672658443451,
          0.12270176410675049,
          0.3828316628932953,
          -0.234244704246521,
          0.027745382860302925,
          0.16269253194332123,
          -0.32374730706214905,
          -0.044228892773389816,
          0.48213499784469604,
          0.4034847617149353,
          -0.1565549522638321,
          0.011045914143323898,
          -0.3623095154762268,
          -0.030815161764621735,
          0.14960116147994995,
          0.14039547741413116,
          -0.2990923225879669,
          -0.1579117476940155,
          0.03939873352646828,
          -0.2315375953912735,
          -0.11759711802005768,
          -0.10235586762428284,
          -0.12393265217542648,
          -0.39567509293556213,
          -0.25360363721847534,
          0.16953229904174805,
          0.019263191148638725,
          -0.2097647488117218,
          0.6869519352912903,
          -0.08866549283266068,
          0.4169694483280182,
          -0.05287935584783554,
          0.09722922742366791,
          -0.036614444106817245,
          -0.2136998027563095,
          0.24322016537189484,
          -0.2062976211309433,
          0.2615123391151428,
          -0.09777703881263733,
          -0.05984938144683838,
          -0.06125287339091301,
          -0.15237978100776672,
          -0.21523268520832062,
          -0.0962085947394371,
          0.14368920028209686,
          -0.6107741594314575,
          -0.2484171837568283,
          0.2011469006538391,
          0.21136707067489624,
          -0.2391640692949295,
          -0.14658869802951813,
          -0.3982560932636261,
          -0.5170081257820129,
          0.06952833384275436,
          -0.14247119426727295,
          -0.03322478383779526,
          0.3391188681125641,
          -0.1387331187725067,
          0.09141572564840317,
          0.12189725041389465,
          -0.34376874566078186,
          0.3268749713897705,
          -0.4055388271808624,
          -0.011995616368949413,
          0.026797831058502197,
          -0.0895678699016571,
          -0.0679781585931778,
          -0.4052284359931946,
          -0.11688397824764252,
          -0.08244568109512329,
          -0.07519195228815079,
          -0.030205780640244484,
          0.07574990391731262,
          0.39458587765693665,
          -0.06830371916294098,
          -0.07292056083679199,
          0.019256943836808205,
          0.11666049063205719,
          0.19984203577041626,
          -0.14028869569301605,
          0.516273021697998,
          0.5907021760940552,
          0.33331677317619324,
          0.1253509521484375,
          0.03044815920293331,
          0.03823859244585037,
          -0.19081076979637146,
          -0.028604108840227127,
          -0.013713439926505089,
          -0.24130837619304657,
          0.6666111350059509,
          -0.08384466916322708,
          0.14940443634986877,
          -0.0719069242477417,
          0.19010333716869354,
          -0.018938682973384857,
          -0.48077717423439026,
          0.2824384868144989,
          -0.09549727290868759,
          0.13315658271312714,
          0.10016078501939774,
          0.05104565620422363,
          -0.2242146134376526,
          -0.046965342015028,
          -0.41906625032424927,
          0.24716788530349731,
          0.06306994706392288,
          0.12211570143699646,
          -0.7024199366569519,
          0.23552186787128448,
          0.5865210294723511,
          -0.18896172940731049,
          -0.154929980635643,
          0.28883934020996094,
          -0.17869746685028076,
          -0.05614516884088516,
          -0.1787571758031845,
          0.02150939591228962,
          -0.07282519340515137,
          -0.14115308225154877,
          0.25003087520599365,
          -0.18707118928432465,
          0.11562152206897736,
          0.3521178960800171,
          0.045397818088531494,
          0.025874553248286247,
          0.3693888187408447,
          -0.28638479113578796,
          0.08956965804100037,
          0.2123580276966095,
          0.08269046247005463,
          -0.03157110884785652,
          0.20759040117263794,
          -0.05084028095006943,
          -0.13961774110794067,
          -0.09645089507102966,
          -0.07206546515226364,
          0.7164433598518372,
          0.5268634557723999,
          0.24551312625408173,
          0.3244016468524933,
          -0.5115295052528381,
          -0.22540734708309174,
          -0.18083028495311737,
          0.3447853922843933,
          0.30782920122146606,
          -0.11510135233402252,
          0.32345959544181824,
          0.2863730192184448,
          0.172592893242836,
          -0.02436068281531334,
          0.033797118812799454,
          0.02108699083328247,
          -0.20161452889442444,
          0.29103103280067444,
          0.21058371663093567,
          0.06986597180366516,
          -0.014808722771704197,
          -0.29560917615890503,
          0.14334259927272797,
          -0.12568169832229614,
          0.00011052783520426601,
          0.1597384363412857,
          0.09558895230293274,
          0.028224073350429535,
          -0.1071777194738388,
          0.08601127564907074,
          -0.16931979358196259,
          -0.1790803074836731,
          0.3724784851074219,
          0.34507715702056885,
          -0.2388283610343933,
          -0.6095205545425415,
          0.11997506767511368,
          0.2543540894985199,
          0.38971760869026184,
          0.49995020031929016,
          0.2443869560956955,
          0.21297946572303772,
          -0.15134423971176147,
          0.0206155925989151,
          -0.13498838245868683,
          -0.3305860161781311,
          -0.04117121919989586,
          0.12251830101013184,
          -0.37839314341545105,
          0.12273144721984863,
          -0.15277862548828125,
          0.5754686594009399,
          0.058222003281116486,
          -0.057195015251636505,
          0.053030990064144135,
          -0.1172669380903244,
          0.19962993264198303,
          0.01791091077029705,
          0.02692103572189808,
          -0.3383340835571289,
          -0.31274187564849854,
          0.12006527930498123,
          0.006382908672094345,
          -0.03926197811961174,
          -0.23956632614135742,
          0.29643017053604126,
          0.0563400536775589,
          0.047646619379520416,
          0.5492576360702515,
          -0.03133966028690338,
          0.06204775720834732,
          -0.01628657430410385,
          0.007474131882190704,
          0.08708525449037552,
          -0.2096814662218094,
          0.08740667998790741,
          -0.036574941128492355,
          -0.3206411898136139,
          0.1683802455663681,
          -0.07655385881662369,
          -0.013715880922973156,
          0.07992291450500488,
          0.04486123472452164,
          -0.15280453860759735,
          0.16074153780937195,
          0.6134141683578491,
          0.013502522371709347,
          -0.06002429500222206,
          -0.18267178535461426,
          0.06964443624019623,
          -0.016823366284370422,
          0.061015281826257706,
          0.11942299455404282,
          -0.3353731632232666,
          0.011572455056011677,
          0.08317195624113083,
          -0.23741835355758667,
          0.06031253561377525,
          0.11290884763002396,
          -0.20080621540546417,
          -0.06209459528326988,
          0.07791174948215485,
          0.36974769830703735,
          -0.2207680344581604,
          0.10057786107063293,
          -0.05823280289769173,
          0.0006516203284263611,
          0.28114524483680725,
          -0.10870649665594101,
          -0.038687173277139664,
          0.04492704197764397,
          0.07776366919279099,
          -0.22043876349925995,
          0.512295126914978,
          -0.5156652927398682,
          0.0970739871263504,
          0.0911720022559166,
          -0.14174698293209076,
          0.17595426738262177,
          0.12632393836975098,
          0.12933817505836487,
          0.10619038343429565,
          -0.1561729907989502,
          -0.1640528291463852,
          0.5835087895393372,
          0.05594192072749138,
          -0.06532417237758636,
          -0.23812994360923767,
          0.15232893824577332,
          -0.6178569197654724,
          0.19291694462299347,
          -0.11920293420553207,
          -0.15427638590335846,
          0.32706978917121887,
          0.5112438201904297,
          -0.016556307673454285,
          0.17210017144680023,
          -0.17852869629859924
         ]
        }
       ],
       "layout": {
        "hovermode": "closest",
        "template": {
         "data": {
          "bar": [
           {
            "error_x": {
             "color": "#2a3f5f"
            },
            "error_y": {
             "color": "#2a3f5f"
            },
            "marker": {
             "line": {
              "color": "#E5ECF6",
              "width": 0.5
             },
             "pattern": {
              "fillmode": "overlay",
              "size": 10,
              "solidity": 0.2
             }
            },
            "type": "bar"
           }
          ],
          "barpolar": [
           {
            "marker": {
             "line": {
              "color": "#E5ECF6",
              "width": 0.5
             },
             "pattern": {
              "fillmode": "overlay",
              "size": 10,
              "solidity": 0.2
             }
            },
            "type": "barpolar"
           }
          ],
          "carpet": [
           {
            "aaxis": {
             "endlinecolor": "#2a3f5f",
             "gridcolor": "white",
             "linecolor": "white",
             "minorgridcolor": "white",
             "startlinecolor": "#2a3f5f"
            },
            "baxis": {
             "endlinecolor": "#2a3f5f",
             "gridcolor": "white",
             "linecolor": "white",
             "minorgridcolor": "white",
             "startlinecolor": "#2a3f5f"
            },
            "type": "carpet"
           }
          ],
          "choropleth": [
           {
            "colorbar": {
             "outlinewidth": 0,
             "ticks": ""
            },
            "type": "choropleth"
           }
          ],
          "contour": [
           {
            "colorbar": {
             "outlinewidth": 0,
             "ticks": ""
            },
            "colorscale": [
             [
              0,
              "#0d0887"
             ],
             [
              0.1111111111111111,
              "#46039f"
             ],
             [
              0.2222222222222222,
              "#7201a8"
             ],
             [
              0.3333333333333333,
              "#9c179e"
             ],
             [
              0.4444444444444444,
              "#bd3786"
             ],
             [
              0.5555555555555556,
              "#d8576b"
             ],
             [
              0.6666666666666666,
              "#ed7953"
             ],
             [
              0.7777777777777778,
              "#fb9f3a"
             ],
             [
              0.8888888888888888,
              "#fdca26"
             ],
             [
              1,
              "#f0f921"
             ]
            ],
            "type": "contour"
           }
          ],
          "contourcarpet": [
           {
            "colorbar": {
             "outlinewidth": 0,
             "ticks": ""
            },
            "type": "contourcarpet"
           }
          ],
          "heatmap": [
           {
            "colorbar": {
             "outlinewidth": 0,
             "ticks": ""
            },
            "colorscale": [
             [
              0,
              "#0d0887"
             ],
             [
              0.1111111111111111,
              "#46039f"
             ],
             [
              0.2222222222222222,
              "#7201a8"
             ],
             [
              0.3333333333333333,
              "#9c179e"
             ],
             [
              0.4444444444444444,
              "#bd3786"
             ],
             [
              0.5555555555555556,
              "#d8576b"
             ],
             [
              0.6666666666666666,
              "#ed7953"
             ],
             [
              0.7777777777777778,
              "#fb9f3a"
             ],
             [
              0.8888888888888888,
              "#fdca26"
             ],
             [
              1,
              "#f0f921"
             ]
            ],
            "type": "heatmap"
           }
          ],
          "heatmapgl": [
           {
            "colorbar": {
             "outlinewidth": 0,
             "ticks": ""
            },
            "colorscale": [
             [
              0,
              "#0d0887"
             ],
             [
              0.1111111111111111,
              "#46039f"
             ],
             [
              0.2222222222222222,
              "#7201a8"
             ],
             [
              0.3333333333333333,
              "#9c179e"
             ],
             [
              0.4444444444444444,
              "#bd3786"
             ],
             [
              0.5555555555555556,
              "#d8576b"
             ],
             [
              0.6666666666666666,
              "#ed7953"
             ],
             [
              0.7777777777777778,
              "#fb9f3a"
             ],
             [
              0.8888888888888888,
              "#fdca26"
             ],
             [
              1,
              "#f0f921"
             ]
            ],
            "type": "heatmapgl"
           }
          ],
          "histogram": [
           {
            "marker": {
             "pattern": {
              "fillmode": "overlay",
              "size": 10,
              "solidity": 0.2
             }
            },
            "type": "histogram"
           }
          ],
          "histogram2d": [
           {
            "colorbar": {
             "outlinewidth": 0,
             "ticks": ""
            },
            "colorscale": [
             [
              0,
              "#0d0887"
             ],
             [
              0.1111111111111111,
              "#46039f"
             ],
             [
              0.2222222222222222,
              "#7201a8"
             ],
             [
              0.3333333333333333,
              "#9c179e"
             ],
             [
              0.4444444444444444,
              "#bd3786"
             ],
             [
              0.5555555555555556,
              "#d8576b"
             ],
             [
              0.6666666666666666,
              "#ed7953"
             ],
             [
              0.7777777777777778,
              "#fb9f3a"
             ],
             [
              0.8888888888888888,
              "#fdca26"
             ],
             [
              1,
              "#f0f921"
             ]
            ],
            "type": "histogram2d"
           }
          ],
          "histogram2dcontour": [
           {
            "colorbar": {
             "outlinewidth": 0,
             "ticks": ""
            },
            "colorscale": [
             [
              0,
              "#0d0887"
             ],
             [
              0.1111111111111111,
              "#46039f"
             ],
             [
              0.2222222222222222,
              "#7201a8"
             ],
             [
              0.3333333333333333,
              "#9c179e"
             ],
             [
              0.4444444444444444,
              "#bd3786"
             ],
             [
              0.5555555555555556,
              "#d8576b"
             ],
             [
              0.6666666666666666,
              "#ed7953"
             ],
             [
              0.7777777777777778,
              "#fb9f3a"
             ],
             [
              0.8888888888888888,
              "#fdca26"
             ],
             [
              1,
              "#f0f921"
             ]
            ],
            "type": "histogram2dcontour"
           }
          ],
          "mesh3d": [
           {
            "colorbar": {
             "outlinewidth": 0,
             "ticks": ""
            },
            "type": "mesh3d"
           }
          ],
          "parcoords": [
           {
            "line": {
             "colorbar": {
              "outlinewidth": 0,
              "ticks": ""
             }
            },
            "type": "parcoords"
           }
          ],
          "pie": [
           {
            "automargin": true,
            "type": "pie"
           }
          ],
          "scatter": [
           {
            "fillpattern": {
             "fillmode": "overlay",
             "size": 10,
             "solidity": 0.2
            },
            "type": "scatter"
           }
          ],
          "scatter3d": [
           {
            "line": {
             "colorbar": {
              "outlinewidth": 0,
              "ticks": ""
             }
            },
            "marker": {
             "colorbar": {
              "outlinewidth": 0,
              "ticks": ""
             }
            },
            "type": "scatter3d"
           }
          ],
          "scattercarpet": [
           {
            "marker": {
             "colorbar": {
              "outlinewidth": 0,
              "ticks": ""
             }
            },
            "type": "scattercarpet"
           }
          ],
          "scattergeo": [
           {
            "marker": {
             "colorbar": {
              "outlinewidth": 0,
              "ticks": ""
             }
            },
            "type": "scattergeo"
           }
          ],
          "scattergl": [
           {
            "marker": {
             "colorbar": {
              "outlinewidth": 0,
              "ticks": ""
             }
            },
            "type": "scattergl"
           }
          ],
          "scattermapbox": [
           {
            "marker": {
             "colorbar": {
              "outlinewidth": 0,
              "ticks": ""
             }
            },
            "type": "scattermapbox"
           }
          ],
          "scatterpolar": [
           {
            "marker": {
             "colorbar": {
              "outlinewidth": 0,
              "ticks": ""
             }
            },
            "type": "scatterpolar"
           }
          ],
          "scatterpolargl": [
           {
            "marker": {
             "colorbar": {
              "outlinewidth": 0,
              "ticks": ""
             }
            },
            "type": "scatterpolargl"
           }
          ],
          "scatterternary": [
           {
            "marker": {
             "colorbar": {
              "outlinewidth": 0,
              "ticks": ""
             }
            },
            "type": "scatterternary"
           }
          ],
          "surface": [
           {
            "colorbar": {
             "outlinewidth": 0,
             "ticks": ""
            },
            "colorscale": [
             [
              0,
              "#0d0887"
             ],
             [
              0.1111111111111111,
              "#46039f"
             ],
             [
              0.2222222222222222,
              "#7201a8"
             ],
             [
              0.3333333333333333,
              "#9c179e"
             ],
             [
              0.4444444444444444,
              "#bd3786"
             ],
             [
              0.5555555555555556,
              "#d8576b"
             ],
             [
              0.6666666666666666,
              "#ed7953"
             ],
             [
              0.7777777777777778,
              "#fb9f3a"
             ],
             [
              0.8888888888888888,
              "#fdca26"
             ],
             [
              1,
              "#f0f921"
             ]
            ],
            "type": "surface"
           }
          ],
          "table": [
           {
            "cells": {
             "fill": {
              "color": "#EBF0F8"
             },
             "line": {
              "color": "white"
             }
            },
            "header": {
             "fill": {
              "color": "#C8D4E3"
             },
             "line": {
              "color": "white"
             }
            },
            "type": "table"
           }
          ]
         },
         "layout": {
          "annotationdefaults": {
           "arrowcolor": "#2a3f5f",
           "arrowhead": 0,
           "arrowwidth": 1
          },
          "autotypenumbers": "strict",
          "coloraxis": {
           "colorbar": {
            "outlinewidth": 0,
            "ticks": ""
           }
          },
          "colorscale": {
           "diverging": [
            [
             0,
             "#8e0152"
            ],
            [
             0.1,
             "#c51b7d"
            ],
            [
             0.2,
             "#de77ae"
            ],
            [
             0.3,
             "#f1b6da"
            ],
            [
             0.4,
             "#fde0ef"
            ],
            [
             0.5,
             "#f7f7f7"
            ],
            [
             0.6,
             "#e6f5d0"
            ],
            [
             0.7,
             "#b8e186"
            ],
            [
             0.8,
             "#7fbc41"
            ],
            [
             0.9,
             "#4d9221"
            ],
            [
             1,
             "#276419"
            ]
           ],
           "sequential": [
            [
             0,
             "#0d0887"
            ],
            [
             0.1111111111111111,
             "#46039f"
            ],
            [
             0.2222222222222222,
             "#7201a8"
            ],
            [
             0.3333333333333333,
             "#9c179e"
            ],
            [
             0.4444444444444444,
             "#bd3786"
            ],
            [
             0.5555555555555556,
             "#d8576b"
            ],
            [
             0.6666666666666666,
             "#ed7953"
            ],
            [
             0.7777777777777778,
             "#fb9f3a"
            ],
            [
             0.8888888888888888,
             "#fdca26"
            ],
            [
             1,
             "#f0f921"
            ]
           ],
           "sequentialminus": [
            [
             0,
             "#0d0887"
            ],
            [
             0.1111111111111111,
             "#46039f"
            ],
            [
             0.2222222222222222,
             "#7201a8"
            ],
            [
             0.3333333333333333,
             "#9c179e"
            ],
            [
             0.4444444444444444,
             "#bd3786"
            ],
            [
             0.5555555555555556,
             "#d8576b"
            ],
            [
             0.6666666666666666,
             "#ed7953"
            ],
            [
             0.7777777777777778,
             "#fb9f3a"
            ],
            [
             0.8888888888888888,
             "#fdca26"
            ],
            [
             1,
             "#f0f921"
            ]
           ]
          },
          "colorway": [
           "#636efa",
           "#EF553B",
           "#00cc96",
           "#ab63fa",
           "#FFA15A",
           "#19d3f3",
           "#FF6692",
           "#B6E880",
           "#FF97FF",
           "#FECB52"
          ],
          "font": {
           "color": "#2a3f5f"
          },
          "geo": {
           "bgcolor": "white",
           "lakecolor": "white",
           "landcolor": "#E5ECF6",
           "showlakes": true,
           "showland": true,
           "subunitcolor": "white"
          },
          "hoverlabel": {
           "align": "left"
          },
          "hovermode": "closest",
          "mapbox": {
           "style": "light"
          },
          "paper_bgcolor": "white",
          "plot_bgcolor": "#E5ECF6",
          "polar": {
           "angularaxis": {
            "gridcolor": "white",
            "linecolor": "white",
            "ticks": ""
           },
           "bgcolor": "#E5ECF6",
           "radialaxis": {
            "gridcolor": "white",
            "linecolor": "white",
            "ticks": ""
           }
          },
          "scene": {
           "xaxis": {
            "backgroundcolor": "#E5ECF6",
            "gridcolor": "white",
            "gridwidth": 2,
            "linecolor": "white",
            "showbackground": true,
            "ticks": "",
            "zerolinecolor": "white"
           },
           "yaxis": {
            "backgroundcolor": "#E5ECF6",
            "gridcolor": "white",
            "gridwidth": 2,
            "linecolor": "white",
            "showbackground": true,
            "ticks": "",
            "zerolinecolor": "white"
           },
           "zaxis": {
            "backgroundcolor": "#E5ECF6",
            "gridcolor": "white",
            "gridwidth": 2,
            "linecolor": "white",
            "showbackground": true,
            "ticks": "",
            "zerolinecolor": "white"
           }
          },
          "shapedefaults": {
           "line": {
            "color": "#2a3f5f"
           }
          },
          "ternary": {
           "aaxis": {
            "gridcolor": "white",
            "linecolor": "white",
            "ticks": ""
           },
           "baxis": {
            "gridcolor": "white",
            "linecolor": "white",
            "ticks": ""
           },
           "bgcolor": "#E5ECF6",
           "caxis": {
            "gridcolor": "white",
            "linecolor": "white",
            "ticks": ""
           }
          },
          "title": {
           "x": 0.05
          },
          "xaxis": {
           "automargin": true,
           "gridcolor": "white",
           "linecolor": "white",
           "ticks": "",
           "title": {
            "standoff": 15
           },
           "zerolinecolor": "white",
           "zerolinewidth": 2
          },
          "yaxis": {
           "automargin": true,
           "gridcolor": "white",
           "linecolor": "white",
           "ticks": "",
           "title": {
            "standoff": 15
           },
           "zerolinecolor": "white",
           "zerolinewidth": 2
          }
         }
        },
        "title": {
         "text": "Word Embeddings"
        }
       }
      }
     },
     "metadata": {},
     "output_type": "display_data"
    }
   ],
   "source": [
    "def plot_2d_embeddings(embeddings, id_start=1, count=100):\n",
    "  # Get 1st and 2nd embedding dims for the desired tokens.\n",
    "  x1 = embeddings[id_start:id_start+count, 0]\n",
    "  x2 = embeddings[id_start:id_start+count, 1]\n",
    "  \n",
    "  # Get the corresponding words from the reverse index (for labeling).\n",
    "  tokens = [reverse_index[i] for i in range(id_start, id_start+count)]\n",
    "\n",
    "  # Plot with the plotly library.\n",
    "  data = plotly.Scatter(x=x1, y=x2, text=tokens,\n",
    "                        mode='markers', textposition='bottom left',\n",
    "                        hoverinfo='text')\n",
    "  fig = plotly.Figure(data=[data],\n",
    "                      layout=plotly.Layout(title=\"Word Embeddings\",\n",
    "                                           hovermode='closest'))\n",
    "  fig.show()\n",
    "\n",
    "# Very frequent tokens tend to be more syntactic than semantic, so let's plot\n",
    "# some rarer words.    \n",
    "plot_2d_embeddings(embeddings2, id_start=500, count=500)"
   ]
  },
  {
   "cell_type": "markdown",
   "metadata": {},
   "source": [
    "### <span style=\"color:chocolate\">Exercise 8:</span> Interpreting embeddings (20 points)"
   ]
  },
  {
   "cell_type": "markdown",
   "metadata": {
    "id": "Z3Mm8MjRcZ20"
   },
   "source": [
    "Notice that the 2-D embeddings fall in a narrow diagonal band. Answer the following questions:\n",
    "\n",
    "1. Have the learned embeddings separated positive and negative words? What is the most negative word? Does this make sense?\n",
    "2. Give 2 examples of words that seem to have surprising embedding values and try to explain their positions. For example, what's going on with the tokens '7', '8', and '9'? What are two other surprising results?\n",
    "3. The embedding for 'crazy' is very close to (0,0). Explain what this means in terms of the model's output.\n",
    "4. Can you explain what you think the 2 learned embedding dimensions mean, if anything?"
   ]
  },
  {
   "cell_type": "markdown",
   "metadata": {
    "id": "x_qAAvvo2y3t"
   },
   "source": [
    "YOUR ANSWER HERE\n",
    "\n",
    "1. \n",
    "The 2D embedding plot shows that the embeddings fall in a narrow diagonal band. This might indicate that the model has limited ability to separate positive and negative words distinctly in just two dimensions. If we were to observe the most negative word, it would likely fall toward one end of this band.\n",
    "\n",
    "2. \n",
    "Some numerical tokens (like '7', '8', and '9') can have surprising values due to their position in sentences. Numbers may appear in both positive and negative contexts, such as indicating ratings (e.g., a \"7 out of 10\" review could be neutral or positive).\n",
    "\n",
    "3. \n",
    "If \"crazy\" is close to (0,0), it suggests that the model does not strongly associate it with either positive or negative sentiment. This could mean that \"crazy\" appears in both positive and negative contexts (e.g., \"crazy fun\" versus \"crazy bad\") or that it’s neutral in sentiment in the data the model trained on.\n",
    "\n",
    "4.\n",
    "The two learned dimensions may represent some underlying structure that captures general sentiment trends (like positive vs. negative), but in only two dimensions, this structure is likely limited. They may loosely represent intensity or polarity, but given the narrow diagonal band, it's possible that one dimension captures sentiment strength, while the other could represent a secondary feature (e.g., specificity of sentiment).\n"
   ]
  },
  {
   "cell_type": "markdown",
   "metadata": {},
   "source": [
    "----\n",
    "#### <span style=\"color:chocolate\">Additional practice question</span> (not graded)\n",
    "\n",
    "More data and bigger models"
   ]
  },
  {
   "cell_type": "markdown",
   "metadata": {
    "id": "IXCitmUvxfwb"
   },
   "source": [
    "Remember how you limited your input sequences to 20 tokens and 1000 vocabulary entries? Let's see how well you can do using more data and bigger models (more parameters)."
   ]
  },
  {
   "cell_type": "markdown",
   "metadata": {},
   "source": [
    "Using pieces of code from above, set up and train a model to achieve at least 80% accuracy on both training and validation data. Ensure the following elements are included:\n",
    "\n",
    "1. Truncate and pad input to the desired length;\n",
    "2. Limit the vocabulary to the desired size;\n",
    "3. Set up a model using embeddings;\n",
    "4. Use the averaging strategy rather than the concatenating strategy;\n",
    "5. Add additional layer(s) after the GlobalAveragePooling1D layer and before the output layer;\n",
    "6. Evaluate the model's performance on the test data and comment on its generalization performance. Hint: remember to apply the same preprocessing to the test data. Use the <span style=\"color:chocolate\">model.evaluate()</span> function for the final evaluation."
   ]
  },
  {
   "cell_type": "code",
   "execution_count": null,
   "metadata": {
    "id": "ekbJ4sIq2hID"
   },
   "outputs": [],
   "source": [
    "# YOUR CODE HERE"
   ]
  }
 ],
 "metadata": {
  "colab": {
   "authorship_tag": "ABX9TyMbG/uKJC3itEUb58OjZyV3",
   "name": "09 Embeddings for Text.ipynb",
   "provenance": []
  },
  "kernelspec": {
   "display_name": "Python 3 (ipykernel)",
   "language": "python",
   "name": "python3"
  },
  "language_info": {
   "codemirror_mode": {
    "name": "ipython",
    "version": 3
   },
   "file_extension": ".py",
   "mimetype": "text/x-python",
   "name": "python",
   "nbconvert_exporter": "python",
   "pygments_lexer": "ipython3",
   "version": "3.12.7"
  }
 },
 "nbformat": 4,
 "nbformat_minor": 4
}
